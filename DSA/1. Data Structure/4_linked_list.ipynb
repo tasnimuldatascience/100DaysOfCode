{
  "nbformat": 4,
  "nbformat_minor": 0,
  "metadata": {
    "colab": {
      "provenance": []
    },
    "kernelspec": {
      "name": "python3",
      "display_name": "Python 3"
    },
    "language_info": {
      "name": "python"
    }
  },
  "cells": [
    {
      "cell_type": "markdown",
      "source": [
        "## Singly linked list"
      ],
      "metadata": {
        "id": "zYfu2tt2B-4r"
      }
    },
    {
      "cell_type": "code",
      "execution_count": 1,
      "metadata": {
        "id": "IGEmhZbxwzCn"
      },
      "outputs": [],
      "source": [
        "class Node:\n",
        "    def __init__(self, data):\n",
        "        self.data = data\n",
        "        self.next =None\n",
        "\n",
        "class LinkedList:\n",
        "    def __init__(self):\n",
        "        self.head = None\n",
        "\n",
        "    def isListEmpty(self):\n",
        "        if self.head is None:\n",
        "            return True\n",
        "        else:\n",
        "            return False\n",
        "\n",
        "    def listLength(self):\n",
        "        currentNode = self.head\n",
        "        length = 0\n",
        "        while currentNode is not None:\n",
        "            length += 1\n",
        "            currentNode = currentNode.next\n",
        "        return length\n",
        "\n",
        "    def insertHead(self, newNode):\n",
        "        tempNode = self.head\n",
        "        self.head = newNode\n",
        "        self.head.next = tempNode\n",
        "        del tempNode\n",
        "\n",
        "    def insertAt(self, newNode, position):\n",
        "        if position < 0 or position > self.listLength():\n",
        "            print(\"Invalid Position\")\n",
        "            return\n",
        "        if position == 0:\n",
        "            self.insertHead(newNode)\n",
        "            return\n",
        "        currentNode = self.head\n",
        "        currentPosition = 0\n",
        "        while True:\n",
        "            if currentPosition == position:\n",
        "                previousNode.next = newNode\n",
        "                newNode.next = currentNode\n",
        "                break\n",
        "            previousNode = currentNode\n",
        "            currentNode = currentNode.next\n",
        "            currentPosition += 1\n",
        "\n",
        "    def insertEnd(self, newNode):\n",
        "        if self.head is None:\n",
        "            self.head = newNode\n",
        "        else:\n",
        "            lastNode = self.head\n",
        "            while True:\n",
        "                if lastNode.next is None:\n",
        "                    break\n",
        "                lastNode = lastNode.next\n",
        "            lastNode.next = newNode\n",
        "\n",
        "    def insert(self, newNode):\n",
        "        if self.head is None:\n",
        "            self.head = newNode\n",
        "        else:\n",
        "            lastNode = self.head\n",
        "            while True:\n",
        "                if lastNode.next is None:\n",
        "                    break\n",
        "                lastNode = lastNode.next\n",
        "            lastNode.next = newNode\n",
        "\n",
        "    def deleteHead(self):\n",
        "        if self.isListEmpty() is False:\n",
        "            previousHead = self.head\n",
        "            self.head = self.head.next\n",
        "            previousHead.next = None\n",
        "        else:\n",
        "            print(\"Delete failed. Linked list is empty\")\n",
        "\n",
        "    def deleteAt(self, position):\n",
        "        if position < 0 or position >= self.listLength():\n",
        "            print(\"Invalid Position\")\n",
        "            return\n",
        "        if self.isListEmpty() is False:\n",
        "            if position == 0:\n",
        "                self.deleteHead()\n",
        "                return\n",
        "            currentNode = self.head\n",
        "            currentPosition = 0\n",
        "            while True:\n",
        "                if currentPosition == position:\n",
        "                    previousNode.next = currentNode.next\n",
        "                    currentNode.next = None\n",
        "                    return\n",
        "                previousNode = currentNode\n",
        "                currentNode = currentNode.next\n",
        "                currentPosition += 1\n",
        "        else:\n",
        "            print(\"Delete failed. Linked List is empty\")\n",
        "\n",
        "    def deleteEnd(self):\n",
        "        if self.isListEmpty() is False:\n",
        "            if self.head.next is None:\n",
        "                self.deleteHead()\n",
        "                return\n",
        "            lastNode = self.head\n",
        "            while lastNode.next is not None:\n",
        "                previousNode = lastNode\n",
        "                lastNode = lastNode.next\n",
        "            previousNode.next = None\n",
        "        else:\n",
        "            print(\"Delete failed. Linked List is empty\")\n",
        "\n",
        "    def printList(self):\n",
        "        if self.head is None:\n",
        "            print(\"The list is empty\")\n",
        "            return\n",
        "        currentNode = self.head\n",
        "        while True:\n",
        "            if currentNode is None:\n",
        "                break\n",
        "            print(currentNode.data)\n",
        "            currentNode = currentNode.next"
      ]
    },
    {
      "cell_type": "code",
      "source": [
        "linkedList = LinkedList()\n",
        "linkedList.printList()"
      ],
      "metadata": {
        "colab": {
          "base_uri": "https://localhost:8080/"
        },
        "id": "ZWt3R4H_3gsh",
        "outputId": "0981aebc-9b82-40c9-fabb-f22b3a523d1a"
      },
      "execution_count": 2,
      "outputs": [
        {
          "output_type": "stream",
          "name": "stdout",
          "text": [
            "The list is empty\n"
          ]
        }
      ]
    },
    {
      "cell_type": "code",
      "source": [
        "linkedList = LinkedList()\n",
        "linkedList.insert(Node(\"Tasnimul\"))\n",
        "linkedList.insert(Node(\"Hasan\"))\n",
        "linkedList.insert(Node(\"Ridoy\"))\n",
        "linkedList.printList()"
      ],
      "metadata": {
        "colab": {
          "base_uri": "https://localhost:8080/"
        },
        "id": "Jfvvg8OIBv73",
        "outputId": "9665eca8-3677-4740-fc95-0682b4e8c2bf"
      },
      "execution_count": 3,
      "outputs": [
        {
          "output_type": "stream",
          "name": "stdout",
          "text": [
            "Tasnimul\n",
            "Hasan\n",
            "Ridoy\n"
          ]
        }
      ]
    },
    {
      "cell_type": "code",
      "source": [
        "linkedList = LinkedList()\n",
        "\n",
        "linkedList.insert(Node(\"Tasnimul\"))\n",
        "linkedList.insert(Node(\"Hasan\"))\n",
        "linkedList.insert(Node(\"Ridoy\"))\n",
        "linkedList.insertHead(Node(\"I am\"))\n",
        "linkedList.printList()"
      ],
      "metadata": {
        "colab": {
          "base_uri": "https://localhost:8080/"
        },
        "id": "I-EUg5Ya6vNh",
        "outputId": "880c3b17-eb03-4776-bde4-d61d3867a971"
      },
      "execution_count": 4,
      "outputs": [
        {
          "output_type": "stream",
          "name": "stdout",
          "text": [
            "I am\n",
            "Tasnimul\n",
            "Hasan\n",
            "Ridoy\n"
          ]
        }
      ]
    },
    {
      "cell_type": "code",
      "source": [
        "linkedList = LinkedList()\n",
        "\n",
        "linkedList.insert(Node(10))\n",
        "linkedList.insert(Node(30))\n",
        "linkedList.insert(Node(40))\n",
        "linkedList.insertAt(Node(15), 1)\n",
        "linkedList.printList()\n",
        "linkedList.insertAt(Node(15), 10)\n",
        "linkedList.insertAt(Node(15), -2)"
      ],
      "metadata": {
        "colab": {
          "base_uri": "https://localhost:8080/"
        },
        "id": "VxThIyyEDYw_",
        "outputId": "8076f327-fb77-4ef7-fb4b-35612f084e65"
      },
      "execution_count": 5,
      "outputs": [
        {
          "output_type": "stream",
          "name": "stdout",
          "text": [
            "10\n",
            "15\n",
            "30\n",
            "40\n",
            "Invalid Position\n",
            "Invalid Position\n"
          ]
        }
      ]
    },
    {
      "cell_type": "code",
      "source": [
        "linkedList.deleteEnd()\n",
        "linkedList.printList()"
      ],
      "metadata": {
        "colab": {
          "base_uri": "https://localhost:8080/"
        },
        "id": "eZY6ZPSFDpbV",
        "outputId": "261de814-8806-479f-ef1e-192332d1375d"
      },
      "execution_count": 6,
      "outputs": [
        {
          "output_type": "stream",
          "name": "stdout",
          "text": [
            "10\n",
            "15\n",
            "30\n"
          ]
        }
      ]
    },
    {
      "cell_type": "code",
      "source": [
        "linkedList.deleteAt(1)\n",
        "linkedList.printList()"
      ],
      "metadata": {
        "colab": {
          "base_uri": "https://localhost:8080/"
        },
        "id": "6WZbjse6FX6N",
        "outputId": "92a0b58a-dd5f-4b93-b6dc-db80734a65ab"
      },
      "execution_count": 7,
      "outputs": [
        {
          "output_type": "stream",
          "name": "stdout",
          "text": [
            "10\n",
            "30\n"
          ]
        }
      ]
    },
    {
      "cell_type": "code",
      "source": [
        "linkedList.deleteHead()\n",
        "linkedList.printList()"
      ],
      "metadata": {
        "colab": {
          "base_uri": "https://localhost:8080/"
        },
        "id": "f0hsDmfULuD0",
        "outputId": "7ad86435-a29b-41ad-c89a-565413344cae"
      },
      "execution_count": 8,
      "outputs": [
        {
          "output_type": "stream",
          "name": "stdout",
          "text": [
            "30\n"
          ]
        }
      ]
    },
    {
      "cell_type": "markdown",
      "source": [
        "### Merge two sorted singly linked list"
      ],
      "metadata": {
        "id": "8TCX3SPROA_B"
      }
    },
    {
      "cell_type": "code",
      "source": [
        "def mergeLists(firstList, secondList, mergedList):\n",
        "    currentFirst = firstList.head\n",
        "    currentSecond = secondList.head\n",
        "    while True:\n",
        "        if currentFirst is None:\n",
        "            mergedList.insertEnd(currentSecond)\n",
        "            break\n",
        "        if currentSecond is None:\n",
        "            mergedList.insertEnd(currentFirst)\n",
        "            break\n",
        "        if currentFirst.data < currentSecond.data:\n",
        "            currentFirstNext = currentFirst.next\n",
        "            currentFirst.next = None\n",
        "            mergedList.insertEnd(currentFirst)\n",
        "            currentFirst = currentFirstNext\n",
        "        else:\n",
        "            currentSecondNext = currentSecond.next\n",
        "            currentSecond.next = None\n",
        "            mergedList.insertEnd(currentSecond)\n",
        "            currentSecond = currentSecondNext"
      ],
      "metadata": {
        "id": "TE-fJ7AynLvM"
      },
      "execution_count": 16,
      "outputs": []
    },
    {
      "cell_type": "code",
      "source": [
        "firstList = LinkedList()\n",
        "firstList.insertEnd(Node(1))\n",
        "firstList.insertEnd(Node(3))\n",
        "firstList.insertEnd(Node(4))\n",
        "\n",
        "secondList = LinkedList()\n",
        "secondList.insertEnd(Node(2))\n",
        "secondList.insertEnd(Node(5))\n",
        "secondList.insertEnd(Node(7))\n",
        "print(\"First list\")\n",
        "firstList.printList()\n",
        "print(\"Second list\")\n",
        "secondList.printList()\n",
        "\n",
        "mergedList = LinkedList()\n",
        "mergeLists(firstList, secondList, mergedList)\n",
        "print(\"Merged list\")\n",
        "mergedList.printList()"
      ],
      "metadata": {
        "colab": {
          "base_uri": "https://localhost:8080/"
        },
        "id": "X-5UG6hfLzjs",
        "outputId": "381c779f-5ee6-42de-a51d-256b8723541e"
      },
      "execution_count": 31,
      "outputs": [
        {
          "output_type": "stream",
          "name": "stdout",
          "text": [
            "First list\n",
            "1\n",
            "3\n",
            "4\n",
            "Second list\n",
            "2\n",
            "5\n",
            "7\n",
            "Merged list\n",
            "1\n",
            "2\n",
            "3\n",
            "4\n",
            "5\n",
            "7\n"
          ]
        }
      ]
    },
    {
      "cell_type": "markdown",
      "source": [
        "## Left rotate by k"
      ],
      "metadata": {
        "id": "cGYkb00st66b"
      }
    },
    {
      "cell_type": "code",
      "source": [
        "def rotate(list, position):\n",
        "    if position == 0:\n",
        "        return\n",
        "    currentNode = list.head\n",
        "    count = 1\n",
        "    while count < position and currentNode is not None:\n",
        "        count += 1\n",
        "        currentNode = currentNode.next\n",
        "    if currentNode is None:\n",
        "        return\n",
        "    kthnode = currentNode\n",
        "    # print(kthnode.data)\n",
        "    while currentNode.next:\n",
        "        currentNode = currentNode.next\n",
        "    # print(currentNode.data)\n",
        "    currentNode.next = list.head\n",
        "    # print(kthnode.next.data)\n",
        "    list.head = kthnode.next\n",
        "    kthnode.next = None"
      ],
      "metadata": {
        "id": "2LRmpogbqHSp"
      },
      "execution_count": 32,
      "outputs": []
    },
    {
      "cell_type": "code",
      "source": [
        "print(\"Before rotate\")\n",
        "mergedList.printList()\n",
        "rotate(mergedList, 4)\n",
        "print(\"After rotate\")\n",
        "mergedList.printList()"
      ],
      "metadata": {
        "id": "-19EWA-uOfu0",
        "colab": {
          "base_uri": "https://localhost:8080/"
        },
        "outputId": "290b9dca-e1e9-4f31-bc5d-32f11c017ad8"
      },
      "execution_count": 33,
      "outputs": [
        {
          "output_type": "stream",
          "name": "stdout",
          "text": [
            "Before rotate\n",
            "1\n",
            "2\n",
            "3\n",
            "4\n",
            "5\n",
            "7\n",
            "After rotate\n",
            "5\n",
            "7\n",
            "1\n",
            "2\n",
            "3\n",
            "4\n"
          ]
        }
      ]
    },
    {
      "cell_type": "markdown",
      "source": [
        "## Compare Strings"
      ],
      "metadata": {
        "id": "u9IJxKYtw0SP"
      }
    },
    {
      "cell_type": "code",
      "source": [
        "def compare(list1, list2):\n",
        "    while list1 and list2 and list1.data == list2.data:\n",
        "        list1 = list1.next\n",
        "        list2 = list2.next\n",
        "    if list1 and list2:\n",
        "        return 1 if list1.data > list2.data else -1\n",
        "    if list1 and not list2:\n",
        "        return 1\n",
        "    if list2 and not list1:\n",
        "        return -1\n",
        "    return 0"
      ],
      "metadata": {
        "id": "LfPJStz4vkRS"
      },
      "execution_count": 37,
      "outputs": []
    },
    {
      "cell_type": "code",
      "source": [
        "# list1 = LinkedList()\n",
        "list1 = Node('g')\n",
        "list1.next = Node('e')\n",
        "list1.next.next = Node('e')\n",
        "list1.next.next.next = Node('k')\n",
        "list1.next.next.next.next = Node('s')\n",
        "list1.next.next.next.next.next = Node('a')\n",
        "\n",
        "list2 = Node('g')\n",
        "list2.next = Node('e')\n",
        "list2.next.next = Node('e')\n",
        "list2.next.next.next = Node('k')\n",
        "list2.next.next.next.next = Node('s')\n",
        "list2.next.next.next.next.next = Node('b')\n",
        "\n",
        "print(compare(list1, list2))"
      ],
      "metadata": {
        "colab": {
          "base_uri": "https://localhost:8080/"
        },
        "id": "cNxLaxvqwWDJ",
        "outputId": "4f4310c3-40ec-424e-f16d-3c7811f3eb93"
      },
      "execution_count": 38,
      "outputs": [
        {
          "output_type": "stream",
          "name": "stdout",
          "text": [
            "-1\n"
          ]
        }
      ]
    },
    {
      "cell_type": "code",
      "source": [],
      "metadata": {
        "id": "CowBc2-exuBM"
      },
      "execution_count": null,
      "outputs": []
    }
  ]
}