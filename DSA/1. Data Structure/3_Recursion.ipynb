{
  "nbformat": 4,
  "nbformat_minor": 0,
  "metadata": {
    "colab": {
      "provenance": []
    },
    "kernelspec": {
      "name": "python3",
      "display_name": "Python 3"
    },
    "language_info": {
      "name": "python"
    }
  },
  "cells": [
    {
      "cell_type": "markdown",
      "source": [
        "## Factorial"
      ],
      "metadata": {
        "id": "woiDhd-9CtZ1"
      }
    },
    {
      "cell_type": "code",
      "execution_count": null,
      "metadata": {
        "colab": {
          "base_uri": "https://localhost:8080/"
        },
        "id": "49oHB1ZZBf-q",
        "outputId": "b932b09a-1662-4350-e064-072c4ae09f90"
      },
      "outputs": [
        {
          "output_type": "execute_result",
          "data": {
            "text/plain": [
              "24"
            ]
          },
          "metadata": {},
          "execution_count": 4
        }
      ],
      "source": [
        "def factorial(n):\n",
        "    if n<=1:\n",
        "        return 1\n",
        "    return n*factorial(n-1)\n",
        "\n",
        "factorial(4)"
      ]
    },
    {
      "cell_type": "markdown",
      "source": [
        "## GCD"
      ],
      "metadata": {
        "id": "hCRGXyReDLU1"
      }
    },
    {
      "cell_type": "code",
      "source": [
        "def gcd(a,b):\n",
        "    if b==0:\n",
        "        return a\n",
        "    else:\n",
        "        # print(b, a, a%b)\n",
        "        return gcd(b, a%b)\n",
        "\n",
        "a = 22\n",
        "b = 7\n",
        "if a>b:\n",
        "    a,b = b,a\n",
        "print(gcd(a,b))"
      ],
      "metadata": {
        "colab": {
          "base_uri": "https://localhost:8080/"
        },
        "id": "lfUVZdGNC2VR",
        "outputId": "bf415c19-0a67-417b-f785-373839478223"
      },
      "execution_count": null,
      "outputs": [
        {
          "output_type": "stream",
          "name": "stdout",
          "text": [
            "1\n"
          ]
        }
      ]
    },
    {
      "cell_type": "markdown",
      "source": [
        "## Fibonacci Series"
      ],
      "metadata": {
        "id": "nKJALm1bHUBW"
      }
    },
    {
      "cell_type": "code",
      "source": [
        "def fib(n):\n",
        "    if n==0 or n==1:\n",
        "        return n\n",
        "    else:\n",
        "        return fib(n-2)+fib(n-1)\n",
        "for i in range(10):\n",
        "    print(fib(i), end = \" \")"
      ],
      "metadata": {
        "colab": {
          "base_uri": "https://localhost:8080/"
        },
        "id": "3WwvneY2EWzA",
        "outputId": "ebc76f94-0f8c-4fc3-f2d8-59f6d5bcacf0"
      },
      "execution_count": null,
      "outputs": [
        {
          "output_type": "stream",
          "name": "stdout",
          "text": [
            "0 1 1 2 3 5 8 13 21 34 "
          ]
        }
      ]
    },
    {
      "cell_type": "markdown",
      "source": [
        "## Palidrome"
      ],
      "metadata": {
        "id": "ObT84esTWH5s"
      }
    },
    {
      "cell_type": "code",
      "source": [
        "def palindrome_checker(sequence):\n",
        "\n",
        "    def chars(sequence):\n",
        "        sequence = sequence.lower()\n",
        "        processed_sequence = ''\n",
        "\n",
        "        for char in sequence:\n",
        "            if char in 'abcdefghijklmnopqrstuvxwyz1234567890':\n",
        "                processed_sequence = processed_sequence + char\n",
        "        return processed_sequence\n",
        "\n",
        "    def check(sequence):\n",
        "        if len(sequence) <= 1:\n",
        "            return True\n",
        "        else:\n",
        "            return (sequence[0] == sequence[-1]) and check(sequence[1:-1])\n",
        "\n",
        "    return check(chars(sequence))\n",
        "\n",
        "print(palindrome_checker('2022/22/02'))\n",
        "print(palindrome_checker('racecar'))\n",
        "print(palindrome_checker(\"Madam, in Eden, I'm Adam\"))\n",
        "print(palindrome_checker('123'))"
      ],
      "metadata": {
        "colab": {
          "base_uri": "https://localhost:8080/"
        },
        "id": "Gwn08bAeHPtk",
        "outputId": "93df8d60-85de-4704-84a2-f412da345492"
      },
      "execution_count": null,
      "outputs": [
        {
          "output_type": "stream",
          "name": "stdout",
          "text": [
            "True\n",
            "True\n",
            "True\n",
            "False\n"
          ]
        }
      ]
    },
    {
      "cell_type": "code",
      "source": [
        "def palindrome_checker(string,start_index,end_index):\n",
        "    if start_index>end_index:\n",
        "        return True\n",
        "    if string[start_index]!=string[end_index]:\n",
        "        return False\n",
        "    else:\n",
        "        return palindrome_checker(string, start_index+1, end_index-1)\n",
        "\n",
        "string = \"pop\"\n",
        "print(palindrome_checker(string, 0, len(string)-1))\n",
        "\n",
        "string = \"DSA\"\n",
        "print(palindrome_checker(string, 0, len(string)-1))"
      ],
      "metadata": {
        "colab": {
          "base_uri": "https://localhost:8080/"
        },
        "id": "7ZXoj4HQXMOe",
        "outputId": "cb2d6239-c82c-4b4b-a944-2b23e5d2f56e"
      },
      "execution_count": null,
      "outputs": [
        {
          "output_type": "stream",
          "name": "stdout",
          "text": [
            "True\n",
            "False\n"
          ]
        }
      ]
    },
    {
      "cell_type": "markdown",
      "source": [
        "## Pow"
      ],
      "metadata": {
        "id": "yjcH8UXrTAcX"
      }
    },
    {
      "cell_type": "code",
      "source": [
        "def myPow(x: float, n: int):\n",
        "\n",
        "    if (n == 0):\n",
        "        return 1\n",
        "    elif (x == 0):\n",
        "        return 0\n",
        "\n",
        "    else:\n",
        "        if (n < 0):\n",
        "            return 1 / myPow(x, -n)\n",
        "        else:\n",
        "            # print(n)\n",
        "            temp = myPow(x, n//2)\n",
        "            # print(x, n, n//2, temp)\n",
        "            if (n % 2 == 0):\n",
        "                # print(n, temp, temp * temp)\n",
        "                return temp * temp\n",
        "            else:\n",
        "                # print(n, temp, temp * temp * x)\n",
        "                return temp * temp * x\n",
        "\n",
        "print(myPow(4.00, 10))\n",
        "print(myPow(4.10, 3))\n",
        "print(myPow(4.00, -2))\n",
        "\n",
        "# Time Complexity: O(logN)\n",
        "# Space Complexity: O(1)"
      ],
      "metadata": {
        "id": "g3UsWxH-ZHxa",
        "colab": {
          "base_uri": "https://localhost:8080/"
        },
        "outputId": "99a18c84-697f-44e3-92ba-eaa35bca3346"
      },
      "execution_count": 16,
      "outputs": [
        {
          "output_type": "stream",
          "name": "stdout",
          "text": [
            "1048576.0\n",
            "68.92099999999999\n",
            "0.0625\n"
          ]
        }
      ]
    },
    {
      "cell_type": "markdown",
      "source": [
        "## Reverse String"
      ],
      "metadata": {
        "id": "IEWl4dGJZlar"
      }
    },
    {
      "cell_type": "code",
      "source": [
        "def reverseString(s) -> None:\n",
        "\n",
        "    left = 0\n",
        "    right = len(s) - 1\n",
        "\n",
        "    def recursiveReverse(l, r):\n",
        "\n",
        "        if l == r or l > r:\n",
        "            return\n",
        "\n",
        "        s[l], s[r] = s[r], s[l]\n",
        "        return recursiveReverse(l + 1, r - 1)\n",
        "    recursiveReverse(left, right)\n",
        "    return s\n",
        "\n",
        "print(reverseString([\"L\",\"i\",\"o\",\"n\"]))\n",
        "print(reverseString([\"h\",\"e\",\"l\",\"l\",\"o\"]))\n",
        "\n",
        "# Time Complexity: O(n)\n",
        "# Space Complexity: O(N) to maintain the recursion stack"
      ],
      "metadata": {
        "colab": {
          "base_uri": "https://localhost:8080/"
        },
        "id": "k5RDU18JYzkG",
        "outputId": "c2a0398b-c827-4b31-d205-9f081908fa41"
      },
      "execution_count": 18,
      "outputs": [
        {
          "output_type": "stream",
          "name": "stdout",
          "text": [
            "['n', 'o', 'i', 'L']\n",
            "['o', 'l', 'l', 'e', 'h']\n"
          ]
        }
      ]
    },
    {
      "cell_type": "markdown",
      "source": [
        "## Count digit of a number"
      ],
      "metadata": {
        "id": "NZufdbL8cyNf"
      }
    },
    {
      "cell_type": "code",
      "source": [
        "def countDigits(Number):\n",
        "  if Number == 0:\n",
        "    return 1\n",
        "  if Number < 0:\n",
        "    Number = -Number\n",
        "  if Number >= 10:\n",
        "    Number //= 10\n",
        "    return countDigits(Number) + 1\n",
        "  else:\n",
        "    return 1\n",
        "\n",
        "print(countDigits(12688))\n",
        "print(countDigits(375))\n",
        "\n",
        "# Time Complexity: O(logN) (Or O(log10(N)) to be exact\n",
        "# Space Complexity: O(1)"
      ],
      "metadata": {
        "colab": {
          "base_uri": "https://localhost:8080/"
        },
        "id": "svVlrPt_aKsQ",
        "outputId": "d9f17e12-2e7b-44f4-d9f4-908c9218fa88"
      },
      "execution_count": 19,
      "outputs": [
        {
          "output_type": "stream",
          "name": "stdout",
          "text": [
            "5\n",
            "3\n"
          ]
        }
      ]
    },
    {
      "cell_type": "markdown",
      "source": [
        "## Decimal to Binary"
      ],
      "metadata": {
        "id": "jbXj_fNYi6-z"
      }
    },
    {
      "cell_type": "code",
      "source": [
        "def toBinary(n):\n",
        "\n",
        "    if n <= 1:\n",
        "        return str(n)\n",
        "\n",
        "    bin_n = toBinary(n // 2)\n",
        "    bin_n += str(n % 2)\n",
        "    return (''.join(map(str, bin_n)))\n",
        "\n",
        "print(toBinary(15))\n",
        "print(toBinary(6))\n",
        "print(toBinary(2))\n",
        "\n",
        "# Time Complexity: O(logN)\n",
        "# Space Complexity: O(1)"
      ],
      "metadata": {
        "colab": {
          "base_uri": "https://localhost:8080/"
        },
        "id": "mMCs_BEpdF6L",
        "outputId": "2f17d67a-cd8b-4041-de23-d2e431a62de1"
      },
      "execution_count": 20,
      "outputs": [
        {
          "output_type": "stream",
          "name": "stdout",
          "text": [
            "1111\n",
            "110\n",
            "10\n"
          ]
        }
      ]
    },
    {
      "cell_type": "markdown",
      "source": [
        "## Count stairs"
      ],
      "metadata": {
        "id": "hTGvSVnwmK5T"
      }
    },
    {
      "cell_type": "code",
      "source": [
        "import time"
      ],
      "metadata": {
        "id": "LOiCfQv5osKg"
      },
      "execution_count": 30,
      "outputs": []
    },
    {
      "cell_type": "code",
      "source": [
        "def fib(n):\n",
        "    if n <= 1:\n",
        "        return n\n",
        "    return fib(n-1) + fib(n-2)\n",
        "\n",
        "# Returns no. of ways to\n",
        "# reach sth stair\n",
        "\n",
        "\n",
        "def countWays(s):\n",
        "    return fib(s + 1)\n",
        "\n",
        "s = 30\n",
        "start = time.time()\n",
        "print(\"Number of ways = \", countWays(s))\n",
        "end = time.time()\n",
        "print(end-start, \" s\")\n",
        "\n",
        "# Time Complexity: O(2n) , because at each stair there are two choices and there are total of n stairs.\n",
        "# Auxiliary Space: O(n), because of recursive stack space."
      ],
      "metadata": {
        "colab": {
          "base_uri": "https://localhost:8080/"
        },
        "id": "Da6UHhIjoAc7",
        "outputId": "ca2f0622-e574-453e-ee73-9c01c9a0c20c"
      },
      "execution_count": 40,
      "outputs": [
        {
          "output_type": "stream",
          "name": "stdout",
          "text": [
            "Number of ways =  1346269\n",
            "0.5809900760650635  s\n"
          ]
        }
      ]
    },
    {
      "cell_type": "code",
      "source": [
        "# Memoization (Top Down)\n",
        "def countWays(n, dp):\n",
        "\n",
        "    if (n <= 1):\n",
        "        return 1\n",
        "\n",
        "    if(dp[n] != -1):\n",
        "        return dp[n]\n",
        "\n",
        "    dp[n] = countWays(n - 1, dp) + countWays(n - 2, dp)\n",
        "    return dp[n]\n",
        "\n",
        "n = 30\n",
        "dp = [-1 for i in range(n + 1)]\n",
        "start = time.time()\n",
        "print(\"Number of ways = \" + str(countWays(n, dp)))\n",
        "end = time.time()\n",
        "print(end-start, \" s\")\n",
        "\n",
        "# Time Complexity: O(n)\n",
        "# Auxiliary Space: O(n)"
      ],
      "metadata": {
        "colab": {
          "base_uri": "https://localhost:8080/"
        },
        "id": "0W0seViKi5H8",
        "outputId": "1fb118c0-874e-4d9e-f771-47e9edceb199"
      },
      "execution_count": 43,
      "outputs": [
        {
          "output_type": "stream",
          "name": "stdout",
          "text": [
            "Number of ways = 1346269\n",
            "0.002115011215209961  s\n"
          ]
        }
      ]
    },
    {
      "cell_type": "code",
      "source": [],
      "metadata": {
        "id": "HhYTRJeCspxB"
      },
      "execution_count": null,
      "outputs": []
    }
  ]
}