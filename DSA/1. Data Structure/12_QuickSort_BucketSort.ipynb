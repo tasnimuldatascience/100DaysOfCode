{
  "nbformat": 4,
  "nbformat_minor": 0,
  "metadata": {
    "colab": {
      "provenance": []
    },
    "kernelspec": {
      "name": "python3",
      "display_name": "Python 3"
    },
    "language_info": {
      "name": "python"
    }
  },
  "cells": [
    {
      "cell_type": "markdown",
      "source": [
        "## Quicksort"
      ],
      "metadata": {
        "id": "M75tKAKXWoOO"
      }
    },
    {
      "cell_type": "code",
      "execution_count": 16,
      "metadata": {
        "id": "dzRPpr3V-Lrr"
      },
      "outputs": [],
      "source": [
        "# Implementation of QuickSort\n",
        "def quickSort(arr, s, e):\n",
        "    if e - s + 1 <= 1:\n",
        "        return\n",
        "\n",
        "    pivot = arr[e]\n",
        "    left = s # pointer for left side\n",
        "\n",
        "    # Partition: elements smaller than pivot on left side\n",
        "    for i in range(s, e):\n",
        "        if arr[i] < pivot:\n",
        "            tmp = arr[left]\n",
        "            arr[left] = arr[i]\n",
        "            arr[i] = tmp\n",
        "            left += 1\n",
        "\n",
        "    # Move pivot in-between left & right sides\n",
        "    arr[e] = arr[left]\n",
        "    arr[left] = pivot\n",
        "\n",
        "    # Quick sort left side\n",
        "    quickSort(arr, s, left - 1)\n",
        "\n",
        "    # Quick sort right side\n",
        "    quickSort(arr, left + 1, e)\n",
        "\n",
        "    return arr"
      ]
    },
    {
      "cell_type": "code",
      "source": [
        "arr = [1,3,6,4,0]\n",
        "s, e = 0, len(arr) - 1\n",
        "quickSort(arr, s, e)"
      ],
      "metadata": {
        "colab": {
          "base_uri": "https://localhost:8080/"
        },
        "id": "RWUU-jrTBRYS",
        "outputId": "825acd5e-b8e1-42a1-985e-2ef8ea932de4"
      },
      "execution_count": 17,
      "outputs": [
        {
          "output_type": "execute_result",
          "data": {
            "text/plain": [
              "[0, 1, 3, 4, 6]"
            ]
          },
          "metadata": {},
          "execution_count": 17
        }
      ]
    },
    {
      "cell_type": "code",
      "source": [
        "from typing import List\n",
        "# Definition for a pair.\n",
        "class Pair:\n",
        "    def __init__(self, key: int, value: str):\n",
        "        self.key = key\n",
        "        self.value = value\n",
        "\n",
        "class Solution:\n",
        "    # Implementation of Quick Sort\n",
        "    def quickSort(self, pairs: List[Pair]) -> List[Pair]:\n",
        "        self.quickSortHelper(pairs, 0, len(pairs) - 1)\n",
        "        return pairs\n",
        "\n",
        "    def quickSortHelper(self, arr: List[Pair], s: int, e: int) -> None:\n",
        "        if e - s + 1 <= 1:\n",
        "            return\n",
        "\n",
        "        pivot = arr[e] # pivot is the last element\n",
        "        left = s # pointer for left side\n",
        "\n",
        "        # Partition: elements smaller than pivot on left side\n",
        "        for i in range(s, e):\n",
        "            if arr[i].key < pivot.key:\n",
        "                tmp = arr[left]\n",
        "                arr[left] = arr[i]\n",
        "                arr[i] = tmp\n",
        "                left += 1\n",
        "\n",
        "        # Move pivot in-between left & right sides\n",
        "        arr[e] = arr[left]\n",
        "        arr[left] = pivot\n",
        "\n",
        "        # Quick sort left side\n",
        "        self.quickSortHelper(arr, s, left - 1)\n",
        "\n",
        "        # Quick sort right side\n",
        "        self.quickSortHelper(arr, left + 1, e)"
      ],
      "metadata": {
        "id": "ti61TRw-BR77"
      },
      "execution_count": 18,
      "outputs": []
    },
    {
      "cell_type": "code",
      "source": [
        "pairs = [Pair(5, \"apple\"), Pair(2, \"banana\"), Pair(9, \"cherry\")]\n",
        "s = Solution()\n",
        "pairs = s.quickSort(pairs)\n",
        "for i in range(len(pairs)):\n",
        "    print(\"(\", pairs[i].key, \",\", pairs[i].value, \")\", \" -> \", end=\"\")\n",
        "print()"
      ],
      "metadata": {
        "colab": {
          "base_uri": "https://localhost:8080/"
        },
        "id": "hwRuia8rC_oo",
        "outputId": "5dcba572-1962-49df-f2cd-7e9daebe026d"
      },
      "execution_count": 23,
      "outputs": [
        {
          "output_type": "stream",
          "name": "stdout",
          "text": [
            "( 2 , banana )  -> ( 5 , apple )  -> ( 9 , cherry )  -> \n"
          ]
        }
      ]
    },
    {
      "cell_type": "markdown",
      "source": [
        "### Leetcode"
      ],
      "metadata": {
        "id": "_jqZDxpyGli5"
      }
    },
    {
      "cell_type": "markdown",
      "source": [
        "**215. Kth Largest Element in an Array**"
      ],
      "metadata": {
        "id": "V2e_nIJBGn6S"
      }
    },
    {
      "cell_type": "code",
      "source": [
        "# Solution: Sorting\n",
        "# Time Complexity:\n",
        "#   - Best Case: O(n)\n",
        "#   - Average Case: O(n*log(n))\n",
        "#   - Worst Case:O(n*log(n))\n",
        "# Extra Space Complexity: O(n)\n",
        "\n",
        "class Solution:\n",
        "    def findKthLargest(self, nums: List[int], k: int) -> int:\n",
        "        if k >= len(nums):\n",
        "            return -1\n",
        "        self.quickSortHelper(nums, 0, len(nums) - 1)\n",
        "\n",
        "        return nums[-k]\n",
        "\n",
        "\n",
        "    def quickSortHelper(self, arr: List[Pair], s: int, e: int) -> None:\n",
        "        if e - s + 1 <= 1:\n",
        "            return\n",
        "\n",
        "        pivot = arr[e] # pivot is the last element\n",
        "        left = s # pointer for left side\n",
        "\n",
        "        # Partition: elements smaller than pivot on left side\n",
        "        for i in range(s, e):\n",
        "            if arr[i] < pivot:\n",
        "                tmp = arr[left]\n",
        "                arr[left] = arr[i]\n",
        "                arr[i] = tmp\n",
        "                left += 1\n",
        "\n",
        "        # Move pivot in-between left & right sides\n",
        "        arr[e] = arr[left]\n",
        "        arr[left] = pivot\n",
        "\n",
        "        # Quick sort left side\n",
        "        self.quickSortHelper(arr, s, left - 1)\n",
        "\n",
        "        # Quick sort right side\n",
        "        self.quickSortHelper(arr, left + 1, e)\n",
        "\n",
        "# Solution: QuickSelect\n",
        "# Time Complexity:\n",
        "#   - Best Case: O(n)\n",
        "#   - Average Case: O(n)\n",
        "#   - Worst Case: O(n^2)\n",
        "# Extra Space Complexity: O(1)\n",
        "\n",
        "class Solution2:\n",
        "    def partition(self, nums: List[int], left: int, right: int) -> int:\n",
        "        pivot, fill = nums[right], left\n",
        "\n",
        "        for i in range(left, right):\n",
        "            if nums[i] <= pivot:\n",
        "                nums[fill], nums[i] = nums[i], nums[fill]\n",
        "                fill += 1\n",
        "\n",
        "        nums[fill], nums[right] = nums[right], nums[fill]\n",
        "\n",
        "        return fill\n",
        "\n",
        "    def findKthLargest(self, nums: List[int], k: int) -> int:\n",
        "        k = len(nums) - k\n",
        "        left, right = 0, len(nums) - 1\n",
        "\n",
        "        while left < right:\n",
        "            pivot = self.partition(nums, left, right)\n",
        "\n",
        "            if pivot < k:\n",
        "                left = pivot + 1\n",
        "            elif pivot > k:\n",
        "                right = pivot - 1\n",
        "            else:\n",
        "                break\n",
        "\n",
        "        return nums[k]"
      ],
      "metadata": {
        "id": "e_TqcYquGnTx"
      },
      "execution_count": 72,
      "outputs": []
    },
    {
      "cell_type": "code",
      "source": [
        "Solution().findKthLargest(nums = [3,2,1,5,6,4], k = 2)"
      ],
      "metadata": {
        "colab": {
          "base_uri": "https://localhost:8080/"
        },
        "id": "2zukrd58H-O5",
        "outputId": "03891404-b2d2-4a5a-c44b-0597624f7b4a"
      },
      "execution_count": 73,
      "outputs": [
        {
          "output_type": "execute_result",
          "data": {
            "text/plain": [
              "5"
            ]
          },
          "metadata": {},
          "execution_count": 73
        }
      ]
    },
    {
      "cell_type": "code",
      "source": [
        "Solution2().findKthLargest(nums = [3,2,3,1,2,4,5,5,6], k = 4)"
      ],
      "metadata": {
        "colab": {
          "base_uri": "https://localhost:8080/"
        },
        "id": "osn2VGiIH_oE",
        "outputId": "f5b27c32-afb4-4a8b-eeda-36514e8de970"
      },
      "execution_count": 74,
      "outputs": [
        {
          "output_type": "execute_result",
          "data": {
            "text/plain": [
              "4"
            ]
          },
          "metadata": {},
          "execution_count": 74
        }
      ]
    },
    {
      "cell_type": "markdown",
      "source": [
        "## BucketSort (Fastest and Forbidden)"
      ],
      "metadata": {
        "id": "c-nvtcQ5Wy-Q"
      }
    },
    {
      "cell_type": "code",
      "source": [
        "def bucketSort(arr):\n",
        "    # Assuming arr only contains 0, 1 or 2\n",
        "    counts = [0, 0, 0]\n",
        "\n",
        "    # Count the quantity of each val in arr\n",
        "    for n in arr:\n",
        "        counts[n] += 1\n",
        "\n",
        "    # Fill each bucket in the original array\n",
        "    i = 0\n",
        "    for n in range(len(counts)):\n",
        "        for j in range(counts[n]):\n",
        "            arr[i] = n\n",
        "            i += 1\n",
        "    return arr"
      ],
      "metadata": {
        "id": "Uu3PX9G1MgXQ"
      },
      "execution_count": 78,
      "outputs": []
    },
    {
      "cell_type": "code",
      "source": [
        "bucketSort([2,1,2,0,0,2,1])"
      ],
      "metadata": {
        "colab": {
          "base_uri": "https://localhost:8080/"
        },
        "id": "vTx9jceHYFLF",
        "outputId": "590f8c94-0b14-4e69-f794-788f6008a019"
      },
      "execution_count": 79,
      "outputs": [
        {
          "output_type": "execute_result",
          "data": {
            "text/plain": [
              "[0, 0, 1, 1, 2, 2, 2]"
            ]
          },
          "metadata": {},
          "execution_count": 79
        }
      ]
    },
    {
      "cell_type": "markdown",
      "source": [
        "### Leetcode"
      ],
      "metadata": {
        "id": "3NxUx8BpY97Y"
      }
    },
    {
      "cell_type": "markdown",
      "source": [
        "**75. Sort Colors**\n",
        "\n",
        "*Medium*\n",
        "\n",
        "\n",
        "Given an array nums with n objects colored red, white, or blue, sort them in-place so that objects of the same color are adjacent, with the colors in the order red, white, and blue.\n",
        "\n",
        "We will use the integers 0, 1, and 2 to represent the color red, white, and blue, respectively.\n",
        "\n",
        "You must solve this problem without using the library's sort function."
      ],
      "metadata": {
        "id": "Lprzwkl7Y_kk"
      }
    },
    {
      "cell_type": "code",
      "source": [
        "class Solution:\n",
        "    def sortColors(self, nums: List[int]) -> None:\n",
        "        \"\"\"\n",
        "        Do not return anything, modify nums in-place instead.\n",
        "        \"\"\"\n",
        "        counts = [0, 0, 0]\n",
        "        for n in nums:\n",
        "            counts[n] += 1\n",
        "        i = 0\n",
        "        for n in range(len(counts)):\n",
        "            for j in range(counts[n]):\n",
        "                nums[i] = n\n",
        "                i += 1"
      ],
      "metadata": {
        "id": "f6zFR1TYYQJo"
      },
      "execution_count": 80,
      "outputs": []
    },
    {
      "cell_type": "code",
      "source": [],
      "metadata": {
        "id": "0ga7VrNKZWqP"
      },
      "execution_count": null,
      "outputs": []
    }
  ]
}