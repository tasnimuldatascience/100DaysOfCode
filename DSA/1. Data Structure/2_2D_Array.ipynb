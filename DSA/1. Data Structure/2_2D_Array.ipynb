{
  "nbformat": 4,
  "nbformat_minor": 0,
  "metadata": {
    "colab": {
      "provenance": []
    },
    "kernelspec": {
      "name": "python3",
      "display_name": "Python 3"
    },
    "language_info": {
      "name": "python"
    }
  },
  "cells": [
    {
      "cell_type": "markdown",
      "source": [
        "# Snake Pattern"
      ],
      "metadata": {
        "id": "vSdguv9q87g7"
      }
    },
    {
      "cell_type": "code",
      "execution_count": 9,
      "metadata": {
        "colab": {
          "base_uri": "https://localhost:8080/"
        },
        "id": "-nXmLrRs6_cl",
        "outputId": "9f47c759-15e9-4bef-a299-fbac5826dbf1"
      },
      "outputs": [
        {
          "output_type": "stream",
          "name": "stdout",
          "text": [
            "Snake Pattern =\n",
            "1 2 3 4 \n",
            "8 7 6 5 \n",
            "9 10 11 12 \n",
            "16 15 14 13 \n"
          ]
        }
      ],
      "source": [
        "\"\"\"\n",
        "    Snake Pattern =\n",
        "    1 2 3 4\n",
        "    8 7 6 5\n",
        "    9 10 11 12\n",
        "    16 15 14 13\n",
        "\"\"\"\n",
        "\n",
        "\n",
        "def printSnake(matrix):\n",
        "    for x in range(len(matrix)):\n",
        "        if x % 2 == 0:\n",
        "            for y in range(len(matrix[0])):\n",
        "                print(matrix[x][y], end=\" \")\n",
        "\n",
        "        else :\n",
        "            for y in range(1, len(matrix[0]) + 1):\n",
        "                print(matrix[x][-y], end=\" \")\n",
        "        print()\n",
        "\n",
        "\n",
        "print(\"Snake Pattern =\")\n",
        "matrix = [[1, 2, 3, 4], [5, 6, 7, 8], [9, 10, 11, 12], [13, 14, 15, 16]]\n",
        "\n",
        "printSnake(matrix)"
      ]
    },
    {
      "cell_type": "markdown",
      "source": [
        "# Transpose Matrix"
      ],
      "metadata": {
        "id": "sV-yEGCb9Di6"
      }
    },
    {
      "cell_type": "code",
      "source": [
        "\"\"\"\n",
        "    Transpose of Matrix =\n",
        "    1 5 9 13\n",
        "    2 6 10 14\n",
        "    3 7 11 15\n",
        "    4 8 12 16\n",
        "\"\"\"\n",
        "\n",
        "\n",
        "def transpose_matrix(matrix):\n",
        "    for x in range(len(matrix)):\n",
        "        for y in range(len(matrix)):\n",
        "            print(matrix[y][x], end=\" \")\n",
        "        print()\n",
        "\n",
        "\n",
        "print(\"Transpose Matrix =\")\n",
        "matrix = [[1, 2, 3, 4], [5, 6, 7, 8], [9, 10, 11, 12], [13, 14, 15, 16]]\n",
        "\n",
        "transpose_matrix(matrix)"
      ],
      "metadata": {
        "colab": {
          "base_uri": "https://localhost:8080/"
        },
        "id": "SStOBXNU7IzS",
        "outputId": "d84496e8-e40c-43bc-b916-1e31b010f18d"
      },
      "execution_count": 7,
      "outputs": [
        {
          "output_type": "stream",
          "name": "stdout",
          "text": [
            "Transpose Matrix =\n",
            "1 5 9 13 \n",
            "2 6 10 14 \n",
            "3 7 11 15 \n",
            "4 8 12 16 \n"
          ]
        }
      ]
    }
  ]
}