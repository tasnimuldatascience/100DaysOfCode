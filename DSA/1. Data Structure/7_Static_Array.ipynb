{
  "nbformat": 4,
  "nbformat_minor": 0,
  "metadata": {
    "colab": {
      "provenance": []
    },
    "kernelspec": {
      "name": "python3",
      "display_name": "Python 3"
    },
    "language_info": {
      "name": "python"
    }
  },
  "cells": [
    {
      "cell_type": "markdown",
      "source": [
        "#Static Array"
      ],
      "metadata": {
        "id": "GKpakQvpy95d"
      }
    },
    {
      "cell_type": "code",
      "execution_count": 1,
      "metadata": {
        "id": "YHPwfCdqjMLY"
      },
      "outputs": [],
      "source": [
        "# Insert n into arr at the next open position.\n",
        "# Length is the number of 'real' values in arr, and capacity\n",
        "# is the size (aka memory allocated for the fixed size array).\n",
        "def insertEnd(arr, n, length, capacity):\n",
        "    if length < capacity:\n",
        "        arr[length] = n\n",
        "\n",
        "# Remove from the last position in the array if the array\n",
        "# is not empty (i.e. length is non-zero).\n",
        "def removeEnd(arr, length):\n",
        "    if length > 0:\n",
        "        # Overwrite last element with some default value.\n",
        "        # We would also consider the length to be decreased by 1.\n",
        "        arr[length - 1] = 0\n",
        "\n",
        "# Insert n into index i after shifting elements to the right.\n",
        "# Assuming i is a valid index and arr is not full.\n",
        "def insertMiddle(arr, i, n, length):\n",
        "    # Shift starting from the end to i.\n",
        "    for index in range(length - 1, i - 1, -1):\n",
        "        arr[index + 1] = arr[index]\n",
        "\n",
        "    # Insert at i\n",
        "    arr[i] = n\n",
        "\n",
        "# Remove value at index i before shifting elements to the left.\n",
        "# Assuming i is a valid index.\n",
        "def removeMiddle(arr, i, length):\n",
        "    # Shift starting from i + 1 to end.\n",
        "    for index in range(i + 1, length):\n",
        "        arr[index - 1] = arr[index]\n",
        "    # No need to 'remove' arr[i], since we already shifted\n",
        "\n",
        "def printArr(arr, capacity):\n",
        "    for i in range(capacity):\n",
        "        print(arr[i])"
      ]
    },
    {
      "cell_type": "code",
      "source": [
        "for index in range(5 - 1, -1, -1):\n",
        "    print(index)"
      ],
      "metadata": {
        "colab": {
          "base_uri": "https://localhost:8080/"
        },
        "id": "E_aKIoI3lzQA",
        "outputId": "d8fc3d9b-f4d7-463f-98c0-d074f94dea7f"
      },
      "execution_count": 5,
      "outputs": [
        {
          "output_type": "stream",
          "name": "stdout",
          "text": [
            "4\n",
            "3\n",
            "2\n",
            "1\n",
            "0\n"
          ]
        }
      ]
    },
    {
      "cell_type": "markdown",
      "source": [
        "### Leetcode"
      ],
      "metadata": {
        "id": "YHGGquTazBgb"
      }
    },
    {
      "cell_type": "code",
      "source": [
        "# class Solution:\n",
        "#     def removeDuplicates(self, nums):\n",
        "#         length = len(nums)\n",
        "#         k = 0\n",
        "#         for index in range(length - 2, - 1, -1):\n",
        "#             if nums[index + 1] == nums[index]:\n",
        "#                 k += 1\n",
        "#                 for j in range(index + 1, length-k+1):\n",
        "#                     nums[j - 1] = nums[j]\n",
        "#                 nums[-k] = '_'\n",
        "#         return length-k, nums"
      ],
      "metadata": {
        "id": "Mg2zxnHSj5mL"
      },
      "execution_count": 40,
      "outputs": []
    },
    {
      "cell_type": "markdown",
      "source": [
        "**Problem 26**\n",
        "\n",
        "Example 1:\n",
        "Input: nums = [1,1,2]\n",
        "Output: 2, nums = [1,2,_]\n",
        "Explanation: Your function should return k = 2, with the first two elements of nums being 1 and 2 respectively.\n",
        "It does not matter what you leave beyond the returned k (hence they are underscores).\n",
        "\n",
        "Example 2:\n",
        "Input: nums = [0,0,1,1,1,2,2,3,3,4]\n",
        "Output: 5, nums = [0,1,2,3,4,_,_,_,_,_]\n",
        "Explanation: Your function should return k = 5, with the first five elements of nums being 0, 1, 2, 3, and 4 respectively.\n",
        "It does not matter what you leave beyond the returned k (hence they are underscores).\n",
        "\n",
        "\n",
        "**Problem 27**\n",
        "\n",
        "Example 1:\n",
        "Input: nums = [3,2,2,3], val = 3\n",
        "Output: 2, nums = [2,2,_,_]\n",
        "Explanation: Your function should return k = 2, with the first two elements of nums being 2.\n",
        "It does not matter what you leave beyond the returned k (hence they are underscores).\n",
        "\n",
        "Example 2:\n",
        "Input: nums = [0,1,2,2,3,0,4,2], val = 2\n",
        "Output: 5, nums = [0,1,4,0,3,_,_,_]\n",
        "Explanation: Your function should return k = 5, with the first five elements of nums containing 0, 0, 1, 3, and 4.\n",
        "Note that the five elements can be returned in any order.\n",
        "It does not matter what you leave beyond the returned k (hence they are underscores).\n",
        ""
      ],
      "metadata": {
        "id": "uuBAe-32zY6Y"
      }
    },
    {
      "cell_type": "code",
      "source": [
        "class Solution:\n",
        "    # Problem 26\n",
        "    def removeDuplicates(self, nums):\n",
        "        l = 1\n",
        "        for r in range(1, len(nums)):\n",
        "            if nums[r] != nums[r-1]:\n",
        "                nums[l] = nums[r]\n",
        "                l += 1\n",
        "        return l, nums\n",
        "\n",
        "    # Problem 27\n",
        "    def removeElement(self, nums, val):\n",
        "        l = 0\n",
        "        for r in range(len(nums)):\n",
        "            if nums[r] != val:\n",
        "                nums[l] = nums[r]\n",
        "                l += 1\n",
        "        return l, nums"
      ],
      "metadata": {
        "id": "2oFPmEUrqe6a"
      },
      "execution_count": 34,
      "outputs": []
    },
    {
      "cell_type": "code",
      "source": [
        "s = Solution()\n",
        "s.removeDuplicates(nums = [0,0,1,1,1,2,2,3,3,4])"
      ],
      "metadata": {
        "colab": {
          "base_uri": "https://localhost:8080/"
        },
        "id": "6U1gXnsevDLD",
        "outputId": "28246b7a-2b8f-4f4e-ec12-1347697ae891"
      },
      "execution_count": 35,
      "outputs": [
        {
          "output_type": "execute_result",
          "data": {
            "text/plain": [
              "(5, [0, 1, 2, 3, 4, 2, 2, 3, 3, 4])"
            ]
          },
          "metadata": {},
          "execution_count": 35
        }
      ]
    },
    {
      "cell_type": "code",
      "source": [
        "s.removeElement(nums = [0,1,2,2,3,0,4,2], val = 2)\n",
        "# s.removeElement(nums = [3,2,2,3], val = 3)"
      ],
      "metadata": {
        "colab": {
          "base_uri": "https://localhost:8080/"
        },
        "id": "tD3_3JJZwvh_",
        "outputId": "ba784689-2a06-48c8-ecde-8a5a9ea81339"
      },
      "execution_count": 39,
      "outputs": [
        {
          "output_type": "execute_result",
          "data": {
            "text/plain": [
              "(5, [0, 1, 3, 0, 4, 0, 4, 2])"
            ]
          },
          "metadata": {},
          "execution_count": 39
        }
      ]
    },
    {
      "cell_type": "code",
      "source": [],
      "metadata": {
        "id": "f_5DIPjzw8Kg"
      },
      "execution_count": null,
      "outputs": []
    }
  ]
}