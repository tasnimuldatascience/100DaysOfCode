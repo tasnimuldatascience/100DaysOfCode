{
  "nbformat": 4,
  "nbformat_minor": 0,
  "metadata": {
    "colab": {
      "provenance": []
    },
    "kernelspec": {
      "name": "python3",
      "display_name": "Python 3"
    },
    "language_info": {
      "name": "python"
    }
  },
  "cells": [
    {
      "cell_type": "markdown",
      "source": [
        "## Merge Sort"
      ],
      "metadata": {
        "id": "UiwBqOq_EaIF"
      }
    },
    {
      "cell_type": "code",
      "source": [
        "class Solution:\n",
        "    def sortArray(self, nums):\n",
        "        def merge(arr, L, M, R):\n",
        "            left, right = arr[L:M+1], arr[M+1:R+1]\n",
        "            i, j, k = L, 0, 0\n",
        "            while j < len(left) and k < len(right):\n",
        "                if left[j] <= right[k]:\n",
        "                    arr[i] = left[j]\n",
        "                    j += 1\n",
        "                else:\n",
        "                    arr[i] = right[k]\n",
        "                    k += 1\n",
        "                i += 1\n",
        "            while j < len(left):\n",
        "                nums[i] = left[j]\n",
        "                j += 1\n",
        "                i += 1\n",
        "            while k < len(right):\n",
        "                nums[i] = right[k]\n",
        "                k += 1\n",
        "                i += 1\n",
        "\n",
        "        def mergeSort(arr, l, r):\n",
        "            if l == r:\n",
        "                return arr\n",
        "            m = (l + r) // 2\n",
        "            mergeSort(arr, l, m)\n",
        "            mergeSort(arr, m + 1, r)\n",
        "            merge(arr, l, m, r)\n",
        "            return arr\n",
        "\n",
        "        return mergeSort(nums, 0, len(nums) - 1)"
      ],
      "metadata": {
        "id": "A7lNgRSon7Nq"
      },
      "execution_count": null,
      "outputs": []
    },
    {
      "cell_type": "code",
      "source": [
        "Solution().sortArray(nums = [5,2,3,1])"
      ],
      "metadata": {
        "colab": {
          "base_uri": "https://localhost:8080/"
        },
        "id": "lRTuAqRBKm8R",
        "outputId": "f24c81ad-f629-48be-ec88-7c203e282ce0"
      },
      "execution_count": null,
      "outputs": [
        {
          "output_type": "execute_result",
          "data": {
            "text/plain": [
              "[1, 2, 3, 5]"
            ]
          },
          "metadata": {},
          "execution_count": 4
        }
      ]
    },
    {
      "cell_type": "code",
      "source": [
        "# Definition for a pair.\n",
        "class Pair:\n",
        "    def __init__(self, key, value):\n",
        "        self.key = key\n",
        "        self.value = value\n",
        "\n",
        "class Solution:\n",
        "    # Implementation of Merge Sort\n",
        "    def mergeSort(self, pairs):\n",
        "        return self.mergeSortHelper(pairs, 0, len(pairs) - 1)\n",
        "\n",
        "    def mergeSortHelper(self, pairs, s, e):\n",
        "        if e - s + 1 <= 1:\n",
        "            return pairs\n",
        "\n",
        "        # The middle index of the array\n",
        "        m = (s + e) // 2\n",
        "\n",
        "        # Sort the left half\n",
        "        self.mergeSortHelper(pairs, s, m)\n",
        "\n",
        "        # Sort the right half\n",
        "        self.mergeSortHelper(pairs, m + 1, e)\n",
        "\n",
        "        # Merge sorted halfs\n",
        "        self.merge(pairs, s, m, e)\n",
        "\n",
        "        return pairs\n",
        "\n",
        "    # Merge in-place\n",
        "    def merge(self, arr, s, m, e) -> None:\n",
        "        # Copy the sorted left & right halfs to temp arrays\n",
        "        L = arr[s: m + 1]\n",
        "        R = arr[m + 1: e + 1]\n",
        "\n",
        "        i = 0 # index for L\n",
        "        j = 0 # index for R\n",
        "        k = s # index for arr\n",
        "\n",
        "        # Merge the two sorted halfs into the original array\n",
        "        while i < len(L) and j < len(R):\n",
        "            if L[i].key <= R[j].key:\n",
        "                arr[k] = L[i]\n",
        "                i += 1\n",
        "            else:\n",
        "                arr[k] = R[j]\n",
        "                j += 1\n",
        "            k += 1\n",
        "\n",
        "        # One of the halfs will have elements remaining\n",
        "        while i < len(L):\n",
        "            arr[k] = L[i]\n",
        "            i += 1\n",
        "            k += 1\n",
        "        while j < len(R):\n",
        "            arr[k] = R[j]\n",
        "            j += 1\n",
        "            k += 1"
      ],
      "metadata": {
        "id": "eHM9l1vELFCt"
      },
      "execution_count": null,
      "outputs": []
    },
    {
      "cell_type": "code",
      "source": [
        "pairs = [Pair(5, \"apple\"), Pair(2, \"banana\"), Pair(9, \"cherry\")]\n",
        "s = Solution()\n",
        "s.mergeSort(pairs)"
      ],
      "metadata": {
        "colab": {
          "base_uri": "https://localhost:8080/"
        },
        "id": "NznAAGC3La7P",
        "outputId": "a27033dc-9ca3-4edb-e277-392f8174d765"
      },
      "execution_count": null,
      "outputs": [
        {
          "output_type": "execute_result",
          "data": {
            "text/plain": [
              "[<__main__.Pair at 0x7b2ee43a7250>,\n",
              " <__main__.Pair at 0x7b2ee43a7b20>,\n",
              " <__main__.Pair at 0x7b2ee43a6d40>]"
            ]
          },
          "metadata": {},
          "execution_count": 2
        }
      ]
    },
    {
      "cell_type": "markdown",
      "source": [
        "### Leetcode"
      ],
      "metadata": {
        "id": "9Sy8zvnTgfOX"
      }
    },
    {
      "cell_type": "markdown",
      "source": [
        "**23. Merge k Sorted Lists**"
      ],
      "metadata": {
        "id": "-QzxRj4Wgbs4"
      }
    },
    {
      "cell_type": "code",
      "source": [
        "# Definition for singly-linked list.\n",
        "class ListNode:\n",
        "    def __init__(self, val=0, next=None):\n",
        "        self.val = val\n",
        "        self.next = next\n",
        "\n",
        "class Solution:\n",
        "    def mergeKLists(self, lists):\n",
        "        if not lists or len(lists) == 0:\n",
        "            return None\n",
        "\n",
        "        while len(lists) > 1:\n",
        "            mergedLists = []\n",
        "            for i in range(0, len(lists), 2):\n",
        "                l1 = lists[i]\n",
        "                l2 = lists[i + 1] if (i + 1) < len(lists) else None\n",
        "                mergedLists.append(self.mergeList(l1, l2))\n",
        "            lists = mergedLists\n",
        "        return lists[0]\n",
        "\n",
        "    def mergeList(self, l1, l2):\n",
        "        dummy = ListNode()\n",
        "        tail = dummy\n",
        "\n",
        "        while l1 and l2:\n",
        "            if l1.val < l2.val:\n",
        "                tail.next = l1\n",
        "                l1 = l1.next\n",
        "            else:\n",
        "                tail.next = l2\n",
        "                l2 = l2.next\n",
        "            tail = tail.next\n",
        "        if l1:\n",
        "            tail.next = l1\n",
        "        if l2:\n",
        "            tail.next = l2\n",
        "        return dummy.next\n"
      ],
      "metadata": {
        "id": "FR30gOj6MMfm"
      },
      "execution_count": 43,
      "outputs": []
    },
    {
      "cell_type": "code",
      "source": [
        "l1 = ListNode(1)\n",
        "l1.next = ListNode(4)\n",
        "l1.next.next = ListNode(5)\n",
        "\n",
        "l2 = ListNode(1)\n",
        "l2.next = ListNode(3)\n",
        "l2.next.next = ListNode(4)\n",
        "\n",
        "l3 = ListNode(2)\n",
        "l3.next = ListNode(6)\n",
        "\n",
        "lists = [l1, l2, l3]\n",
        "\n",
        "ans = Solution().mergeKLists(lists)"
      ],
      "metadata": {
        "id": "R4UXqGnQWMzp"
      },
      "execution_count": 44,
      "outputs": []
    },
    {
      "cell_type": "code",
      "source": [
        "curr = ans\n",
        "while curr:\n",
        "    print(curr.val, \" -> \", end=\"\")\n",
        "    curr = curr.next\n",
        "print()"
      ],
      "metadata": {
        "colab": {
          "base_uri": "https://localhost:8080/"
        },
        "id": "RtX6TIFCVt1F",
        "outputId": "ad319288-fa86-4795-f070-6503170f8114"
      },
      "execution_count": 45,
      "outputs": [
        {
          "output_type": "stream",
          "name": "stdout",
          "text": [
            "1  -> 1  -> 2  -> 3  -> 4  -> 4  -> 5  -> 6  -> \n"
          ]
        }
      ]
    },
    {
      "cell_type": "code",
      "source": [],
      "metadata": {
        "id": "3bcyXRMGeBE4"
      },
      "execution_count": null,
      "outputs": []
    }
  ]
}