{
  "nbformat": 4,
  "nbformat_minor": 0,
  "metadata": {
    "colab": {
      "provenance": []
    },
    "kernelspec": {
      "name": "python3",
      "display_name": "Python 3"
    },
    "language_info": {
      "name": "python"
    }
  },
  "cells": [
    {
      "cell_type": "markdown",
      "source": [
        "## Search Element"
      ],
      "metadata": {
        "id": "6GBouQ2pZtX5"
      }
    },
    {
      "cell_type": "code",
      "execution_count": null,
      "metadata": {
        "colab": {
          "base_uri": "https://localhost:8080/"
        },
        "id": "YyWJkaNMZaZz",
        "outputId": "f178db3a-901d-45bc-ce86-b44b07094a93"
      },
      "outputs": [
        {
          "output_type": "stream",
          "name": "stdout",
          "text": [
            "Searched index for 5 is 1\n"
          ]
        }
      ],
      "source": [
        "def search(arr, element):\n",
        "    for index in range(0, len(arr)):\n",
        "        if arr[index] == element:\n",
        "            return index\n",
        "    return -1\n",
        "\n",
        "\n",
        "arr = [10, 5, 4, 30]\n",
        "element = 5\n",
        "\n",
        "print(\"Searched index for {} is\".format(element), search(arr, element))"
      ]
    },
    {
      "cell_type": "markdown",
      "source": [
        "## Insert Element"
      ],
      "metadata": {
        "id": "2CbLHOCabDF5"
      }
    },
    {
      "cell_type": "code",
      "source": [
        "def insert(arr, index, successor):\n",
        "\n",
        "    for index in range(index, len(arr)):\n",
        "        arr[index], successor = successor, arr[index]\n",
        "    arr.append(successor)\n",
        "\n",
        "arr = [1, 2, 3, 5]\n",
        "print(\"Array before insertion:\", arr)\n",
        "insert(arr, 2, 4)\n",
        "print(\"Array after insertion:\", arr)"
      ],
      "metadata": {
        "colab": {
          "base_uri": "https://localhost:8080/"
        },
        "id": "0rx7_6PSaWEM",
        "outputId": "9c4880b1-29c1-43e4-849e-47546092bdc6"
      },
      "execution_count": 1,
      "outputs": [
        {
          "output_type": "stream",
          "name": "stdout",
          "text": [
            "Array before insertion: [1, 2, 3, 5]\n",
            "Array after insertion: [1, 2, 4, 3, 5]\n"
          ]
        }
      ]
    },
    {
      "cell_type": "markdown",
      "source": [
        "## Delete Element"
      ],
      "metadata": {
        "id": "FXV00U1IcNXg"
      }
    },
    {
      "cell_type": "code",
      "source": [
        "def delete(arr, element):\n",
        "    if element not in arr:\n",
        "        return -1\n",
        "    new_arr = []\n",
        "    for index in range(0, len(arr)):\n",
        "        if arr[index] != element:\n",
        "            new_arr.append(arr[index])\n",
        "\n",
        "    return new_arr\n",
        "\n",
        "arr = [1, 2, 3, 5]\n",
        "element = 3\n",
        "\n",
        "print(\"Before deletion:\", arr)\n",
        "print(\"Deleting:\", element)\n",
        "\n",
        "new_arr = delete(arr, element)\n",
        "print(\"After deletion:\", new_arr)"
      ],
      "metadata": {
        "colab": {
          "base_uri": "https://localhost:8080/"
        },
        "id": "IkKQMHjKb2eH",
        "outputId": "06a17de3-bbd2-4c9c-896e-9fd0df20c278"
      },
      "execution_count": null,
      "outputs": [
        {
          "output_type": "stream",
          "name": "stdout",
          "text": [
            "Before deletion: [1, 2, 3, 5]\n",
            "Deleting: 3\n",
            "After deletion: [1, 2, 5]\n"
          ]
        }
      ]
    },
    {
      "cell_type": "markdown",
      "source": [
        "## Reverse Array"
      ],
      "metadata": {
        "id": "6qrFltwydFo3"
      }
    },
    {
      "cell_type": "code",
      "source": [
        "def reverse(arr):\n",
        "    new_arr = []\n",
        "    for index in range(0, len(arr)):\n",
        "        new_arr.insert(0, arr[index])\n",
        "    return new_arr\n",
        "\n",
        "arr = [1, 2, 3, 4, 5]\n",
        "new_arr = reverse(arr)\n",
        "\n",
        "print(\"Before Reverse:\", arr)\n",
        "print(\"After Reverse:\", new_arr)"
      ],
      "metadata": {
        "colab": {
          "base_uri": "https://localhost:8080/"
        },
        "id": "oVlC1JA0c7Hi",
        "outputId": "660d42f8-bdf7-48d0-f3bb-784e51c1344a"
      },
      "execution_count": null,
      "outputs": [
        {
          "output_type": "stream",
          "name": "stdout",
          "text": [
            "Before Reverse: [1, 2, 3, 4, 5]\n",
            "After Reverse: [5, 4, 3, 2, 1]\n"
          ]
        }
      ]
    },
    {
      "cell_type": "markdown",
      "source": [
        "## Left rotate array by 1"
      ],
      "metadata": {
        "id": "F2UZUI7mdKLu"
      }
    },
    {
      "cell_type": "code",
      "source": [
        "def left_rotate(arr, num):\n",
        "    tmp = arr[0]\n",
        "\n",
        "    for index in range(1, num):\n",
        "        arr[index - 1] = arr[index]\n",
        "\n",
        "    arr[num - 1] = tmp\n",
        "\n",
        "arr = [1, 2, 3, 4, 5]\n",
        "num = 4\n",
        "\n",
        "print(\"Before Left Rotation:\", arr)\n",
        "\n",
        "left_rotate(arr, num)\n",
        "print(\"After Left Rotation By 1 Place :\", arr)"
      ],
      "metadata": {
        "colab": {
          "base_uri": "https://localhost:8080/"
        },
        "id": "C3CgohWwdQ-J",
        "outputId": "991fd6ea-8153-4f52-8fed-5b4514d22dcd"
      },
      "execution_count": 2,
      "outputs": [
        {
          "output_type": "stream",
          "name": "stdout",
          "text": [
            "Before Left Rotation: [1, 2, 3, 4, 5]\n",
            "After Left Rotation By 1 Place : [2, 3, 4, 1, 5]\n"
          ]
        }
      ]
    },
    {
      "cell_type": "markdown",
      "source": [
        "## Left Rotate Array by d place"
      ],
      "metadata": {
        "id": "j-KIip3OgE54"
      }
    },
    {
      "cell_type": "code",
      "source": [
        "# method: slicing\n",
        "\n",
        "l = [10,20,30,40,50]\n",
        "d = 3\n",
        "l = l[d:] + l[0:d]\n",
        "print(l)"
      ],
      "metadata": {
        "colab": {
          "base_uri": "https://localhost:8080/"
        },
        "id": "CGiQkD1SfHYA",
        "outputId": "a81d0f21-e9ec-4102-bde2-ace74460dc5f"
      },
      "execution_count": null,
      "outputs": [
        {
          "output_type": "stream",
          "name": "stdout",
          "text": [
            "[40, 50, 10, 20, 30]\n"
          ]
        }
      ]
    },
    {
      "cell_type": "code",
      "source": [
        "#method: pop and append\n",
        "\n",
        "l = [10,20,30,40,50]\n",
        "d = 3\n",
        "\n",
        "for i in range(d):\n",
        "    l.append(l.pop(0))\n",
        "print(l)"
      ],
      "metadata": {
        "colab": {
          "base_uri": "https://localhost:8080/"
        },
        "id": "xztS6iQXgJkV",
        "outputId": "1887a3b2-4295-4875-abeb-63e5ef7d8e43"
      },
      "execution_count": null,
      "outputs": [
        {
          "output_type": "stream",
          "name": "stdout",
          "text": [
            "[40, 50, 10, 20, 30]\n"
          ]
        }
      ]
    },
    {
      "cell_type": "code",
      "source": [
        "# method 3\n",
        "\n",
        "l = [10,20,30,40,50]\n",
        "d = 3\n",
        "\n",
        "n = len(l)\n",
        "for k in range(d):\n",
        "    temp = l[0]\n",
        "    for i in range(n-1):\n",
        "        l[i] = l[i+1]\n",
        "    l[n-1] = temp\n",
        "    print(\"After {}th iteration : {}\".format(k,l))\n",
        "print(l)"
      ],
      "metadata": {
        "colab": {
          "base_uri": "https://localhost:8080/"
        },
        "id": "eWT5gyeQgW_B",
        "outputId": "b49dfb8a-4e3f-4e18-89dd-b9c2339233c5"
      },
      "execution_count": null,
      "outputs": [
        {
          "output_type": "stream",
          "name": "stdout",
          "text": [
            "After 0th iteration : [20, 30, 40, 50, 10]\n",
            "After 1th iteration : [30, 40, 50, 10, 20]\n",
            "After 2th iteration : [40, 50, 10, 20, 30]\n",
            "[40, 50, 10, 20, 30]\n"
          ]
        }
      ]
    },
    {
      "cell_type": "code",
      "source": [
        "# method 3\n",
        "\n",
        "def reverse(lst, l, r):\n",
        "    while(l<r):\n",
        "        lst[l], lst[r] = lst[r], lst[l]\n",
        "        print(lst)\n",
        "        l+=1\n",
        "        r-=1\n",
        "\n",
        "def optimized(l,d):\n",
        "    n = len(l)\n",
        "    reverse(l,0,d-1)\n",
        "    reverse(l,d,n-1)\n",
        "    reverse(l,0,n-1)\n",
        "\n",
        "l = [10,20,30,40,50]\n",
        "d = 1\n",
        "optimized(l,d)\n",
        "print(\"Final array:\", l)"
      ],
      "metadata": {
        "id": "dUuWmlllhkMk",
        "colab": {
          "base_uri": "https://localhost:8080/"
        },
        "outputId": "b72b754c-6647-4d6a-f3ed-d58f7633ff9d"
      },
      "execution_count": 13,
      "outputs": [
        {
          "output_type": "stream",
          "name": "stdout",
          "text": [
            "[10, 50, 30, 40, 20]\n",
            "[10, 50, 40, 30, 20]\n",
            "[20, 50, 40, 30, 10]\n",
            "[20, 30, 40, 50, 10]\n",
            "Final array: [20, 30, 40, 50, 10]\n"
          ]
        }
      ]
    },
    {
      "cell_type": "markdown",
      "source": [
        "## Right Rotate Array by d place"
      ],
      "metadata": {
        "id": "w2KOnz8wIByh"
      }
    },
    {
      "cell_type": "code",
      "source": [
        "def reverse(lst, l, r):\n",
        "    while(l<r):\n",
        "        lst[l], lst[r] = lst[r], lst[l]\n",
        "        print(lst)\n",
        "        l+=1\n",
        "        r-=1\n",
        "\n",
        "def optimized(l,d):\n",
        "    n = len(l)\n",
        "    reverse(l,0,n-1)\n",
        "    reverse(l,0,d-1)\n",
        "    reverse(l,d,n-1)\n",
        "\n",
        "l = [10,20,30,40,50]\n",
        "d = 3\n",
        "optimized(l,d)\n",
        "print(\"Final array:\", l)"
      ],
      "metadata": {
        "colab": {
          "base_uri": "https://localhost:8080/"
        },
        "id": "TOXQ6xAuE1Dq",
        "outputId": "d7df3b1d-38d7-4b5d-a628-a94104e2dcc2"
      },
      "execution_count": 15,
      "outputs": [
        {
          "output_type": "stream",
          "name": "stdout",
          "text": [
            "[50, 20, 30, 40, 10]\n",
            "[50, 40, 30, 20, 10]\n",
            "[30, 40, 50, 20, 10]\n",
            "[30, 40, 50, 10, 20]\n",
            "Final array: [30, 40, 50, 10, 20]\n"
          ]
        }
      ]
    }
  ]
}