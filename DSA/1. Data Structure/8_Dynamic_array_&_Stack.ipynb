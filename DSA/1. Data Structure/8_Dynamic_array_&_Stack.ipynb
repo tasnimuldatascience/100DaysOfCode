{
  "nbformat": 4,
  "nbformat_minor": 0,
  "metadata": {
    "colab": {
      "provenance": [],
      "toc_visible": true
    },
    "kernelspec": {
      "name": "python3",
      "display_name": "Python 3"
    },
    "language_info": {
      "name": "python"
    }
  },
  "cells": [
    {
      "cell_type": "markdown",
      "source": [
        "## Dynamic Array"
      ],
      "metadata": {
        "id": "t6a2kd-Fe7Np"
      }
    },
    {
      "cell_type": "code",
      "execution_count": null,
      "metadata": {
        "id": "hE-sKK8dX056"
      },
      "outputs": [],
      "source": [
        "# Dynamic Array implementation\n",
        "# Note: Python lists are dynamic arrays by default,\n",
        "# but this is an example of what's going on under the hood.\n",
        "class DynamicArray:\n",
        "\n",
        "    def __init__(self, capacity):\n",
        "        self.capacity = capacity\n",
        "        self.length = 0\n",
        "        self.arr = [0] * self.capacity\n",
        "\n",
        "    # Get value at i-th index\n",
        "    def get(self, i):\n",
        "        return self.arr[i]\n",
        "\n",
        "    # Set n at i-th index\n",
        "    def set(self, i, n):\n",
        "        self.arr[i] = n\n",
        "\n",
        "    # Insert n in the last position of the array\n",
        "    def pushback(self, n: int):\n",
        "        if self.length == self.capacity:\n",
        "            self.resize()\n",
        "\n",
        "        # insert at next empty position\n",
        "        self.arr[self.length] = n\n",
        "        self.length += 1\n",
        "\n",
        "    # Remove the last element in the array\n",
        "    def popback(self):\n",
        "        if self.length > 0:\n",
        "            # soft delete the last element\n",
        "            self.length -= 1\n",
        "        # return the popped element\n",
        "        return self.arr[self.length]\n",
        "\n",
        "    def resize(self):\n",
        "        # Create new array of double capacity\n",
        "        self.capacity = 2 * self.capacity\n",
        "        new_arr = [0] * self.capacity\n",
        "\n",
        "        # Copy elements to new_arr\n",
        "        for i in range(self.length):\n",
        "            new_arr[i] = self.arr[i]\n",
        "        self.arr = new_arr\n",
        "\n",
        "    def getSize(self):\n",
        "        return self.length\n",
        "\n",
        "    def getCapacity(self):\n",
        "        return self.capacity\n",
        "\n",
        "    def print_array(self):\n",
        "        return self.arr[:self.length]"
      ]
    },
    {
      "cell_type": "code",
      "source": [
        "arr = DynamicArray(3)"
      ],
      "metadata": {
        "id": "Ty7_fElAX5DQ"
      },
      "execution_count": null,
      "outputs": []
    },
    {
      "cell_type": "code",
      "source": [
        "arr.pushback(5)\n",
        "arr.pushback(6)\n",
        "arr.pushback(7)\n",
        "arr.pushback(8)"
      ],
      "metadata": {
        "id": "PYn2yMJNX8tc"
      },
      "execution_count": null,
      "outputs": []
    },
    {
      "cell_type": "code",
      "source": [
        "arr.print_array()"
      ],
      "metadata": {
        "colab": {
          "base_uri": "https://localhost:8080/"
        },
        "id": "39Kqf0zlYg5Z",
        "outputId": "2c91b7c9-9b4b-4428-e6c3-b52f79b5240a"
      },
      "execution_count": null,
      "outputs": [
        {
          "output_type": "execute_result",
          "data": {
            "text/plain": [
              "[5, 6, 7, 8]"
            ]
          },
          "metadata": {},
          "execution_count": 30
        }
      ]
    },
    {
      "cell_type": "code",
      "source": [
        "arr.getSize(), arr.getCapacity()"
      ],
      "metadata": {
        "colab": {
          "base_uri": "https://localhost:8080/"
        },
        "id": "tOJmWtERYllQ",
        "outputId": "1b7974e5-8873-48ce-85cd-e64c7b12b0ef"
      },
      "execution_count": null,
      "outputs": [
        {
          "output_type": "execute_result",
          "data": {
            "text/plain": [
              "(4, 6)"
            ]
          },
          "metadata": {},
          "execution_count": 32
        }
      ]
    },
    {
      "cell_type": "code",
      "source": [
        "arr.popback()"
      ],
      "metadata": {
        "colab": {
          "base_uri": "https://localhost:8080/"
        },
        "id": "UPCZD-p4ZQZ_",
        "outputId": "9f857a2d-a0f3-4795-9673-64f91c1777cd"
      },
      "execution_count": null,
      "outputs": [
        {
          "output_type": "execute_result",
          "data": {
            "text/plain": [
              "8"
            ]
          },
          "metadata": {},
          "execution_count": 33
        }
      ]
    },
    {
      "cell_type": "code",
      "source": [
        "arr.print_array()"
      ],
      "metadata": {
        "colab": {
          "base_uri": "https://localhost:8080/"
        },
        "id": "WT3ffjhIZcKS",
        "outputId": "560dd41b-d344-4202-8a44-673f1f3f5f3a"
      },
      "execution_count": null,
      "outputs": [
        {
          "output_type": "execute_result",
          "data": {
            "text/plain": [
              "[5, 6, 7]"
            ]
          },
          "metadata": {},
          "execution_count": 34
        }
      ]
    },
    {
      "cell_type": "markdown",
      "source": [
        "### Leetcode"
      ],
      "metadata": {
        "id": "yfW1wVcxe-0T"
      }
    },
    {
      "cell_type": "markdown",
      "source": [
        "**1929. Concatenation of Array**\n",
        "\n",
        "**Example 1:**\n",
        "Input: nums = [1,2,1]\n",
        "Output: [1,2,1,1,2,1]\n",
        "Explanation: The array ans is formed as follows:\n",
        "- ans = [nums[0],nums[1],nums[2],nums[0],nums[1],nums[2]]\n",
        "- ans = [1,2,1,1,2,1]\n",
        "\n",
        "**Example 2:**\n",
        "Input: nums = [1,3,2,1]\n",
        "Output: [1,3,2,1,1,3,2,1]\n",
        "Explanation: The array ans is formed as follows:\n",
        "- ans = [nums[0],nums[1],nums[2],nums[3],nums[0],nums[1],nums[2],nums[3]]\n",
        "- ans = [1,3,2,1,1,3,2,1]"
      ],
      "metadata": {
        "id": "03NoWjF4fChG"
      }
    },
    {
      "cell_type": "code",
      "source": [
        "class Solution:\n",
        "    def getConcatenation(self, nums):\n",
        "        ans = []\n",
        "        for n in nums:\n",
        "            ans.append(n)\n",
        "        return ans"
      ],
      "metadata": {
        "id": "mltAvs-qZfDX"
      },
      "execution_count": null,
      "outputs": []
    },
    {
      "cell_type": "code",
      "source": [
        "s = Solution()\n",
        "s.getConcatenation(nums = [1,2,1])"
      ],
      "metadata": {
        "colab": {
          "base_uri": "https://localhost:8080/"
        },
        "id": "5LDuNtLka5HF",
        "outputId": "8f26bc03-3ada-4397-99cf-a3ef08664fe8"
      },
      "execution_count": null,
      "outputs": [
        {
          "output_type": "execute_result",
          "data": {
            "text/plain": [
              "[1, 2, 1, 1, 2, 1]"
            ]
          },
          "metadata": {},
          "execution_count": 40
        }
      ]
    },
    {
      "cell_type": "markdown",
      "source": [
        "## Stack"
      ],
      "metadata": {
        "id": "ekpFkgXafS_L"
      }
    },
    {
      "cell_type": "code",
      "source": [
        "# Implementing a stack is trivial using a dynamic array\n",
        "# (which we implemented earlier).\n",
        "class Stack:\n",
        "    def __init__(self):\n",
        "        self.stack = []\n",
        "\n",
        "    def push(self, n):\n",
        "        self.stack.append(n)\n",
        "\n",
        "    def pop(self):\n",
        "        return self.stack.pop()\n",
        "\n",
        "    def peek(self):\n",
        "        return self.stack[-1]"
      ],
      "metadata": {
        "id": "ojfwSXs7bCMK"
      },
      "execution_count": null,
      "outputs": []
    },
    {
      "cell_type": "code",
      "source": [
        "s = Stack()\n",
        "s.push(4)\n",
        "s.push(5)\n",
        "s.push(6)\n",
        "s.push(9)"
      ],
      "metadata": {
        "id": "DzNqQt7Agsn3"
      },
      "execution_count": null,
      "outputs": []
    },
    {
      "cell_type": "code",
      "source": [
        "s.pop()"
      ],
      "metadata": {
        "colab": {
          "base_uri": "https://localhost:8080/"
        },
        "id": "LNqpR9-Vg1mc",
        "outputId": "e6e83ded-edfb-4689-ed81-2de3cb4ff549"
      },
      "execution_count": null,
      "outputs": [
        {
          "output_type": "execute_result",
          "data": {
            "text/plain": [
              "9"
            ]
          },
          "metadata": {},
          "execution_count": 43
        }
      ]
    },
    {
      "cell_type": "code",
      "source": [
        "s.peek()"
      ],
      "metadata": {
        "colab": {
          "base_uri": "https://localhost:8080/"
        },
        "id": "7rFeh_Ldg6NQ",
        "outputId": "2ca40b0b-7b0a-4fe0-d3d1-a40d3ab93356"
      },
      "execution_count": null,
      "outputs": [
        {
          "output_type": "execute_result",
          "data": {
            "text/plain": [
              "6"
            ]
          },
          "metadata": {},
          "execution_count": 44
        }
      ]
    },
    {
      "cell_type": "markdown",
      "source": [
        "### Leetcode"
      ],
      "metadata": {
        "id": "vjKR9klHlpnb"
      }
    },
    {
      "cell_type": "markdown",
      "source": [
        "**682. Baseball Game**\n",
        "\n",
        "An integer x. Record a new score of x.\n",
        "\n",
        "'+'. Record a new score that is the sum of the previous two scores.\n",
        "\n",
        "'D'. Record a new score that is the double of the previous score.\n",
        "\n",
        "'C'. Invalidate the previous score, removing it from the record.\n",
        "\n",
        "**Example 1:**\n",
        "\n",
        "Input: ops = [\"5\",\"2\",\"C\",\"D\",\"+\"]\n",
        "\n",
        "Output: 30\n",
        "\n",
        "Explanation:\n",
        "\n",
        "\"5\" - Add 5 to the record, record is now [5].\n",
        "\n",
        "\"2\" - Add 2 to the record, record is now [5, 2].\n",
        "\n",
        "\"C\" - Invalidate and remove the previous score, record is now [5].\n",
        "\n",
        "\"D\" - Add 2 * 5 = 10 to the record, record is now [5, 10].\n",
        "\n",
        "\"+\" - Add 5 + 10 = 15 to the record, record is now [5, 10, 15].\n",
        "\n",
        "The total sum is 5 + 10 + 15 = 30.\n",
        "\n",
        "**Example 2:**\n",
        "\n",
        "Input: ops = [\"5\",\"-2\",\"4\",\"C\",\"D\",\"9\",\"+\",\"+\"]\n",
        "\n",
        "Output: 27\n",
        "\n",
        "Explanation:\n",
        "\n",
        "\"5\" - Add 5 to the record, record is now [5].\n",
        "\n",
        "\"-2\" - Add -2 to the record, record is now [5, -2].\n",
        "\n",
        "\"4\" - Add 4 to the record, record is now [5, -2, 4].\n",
        "\n",
        "\"C\" - Invalidate and remove the previous score, record is now [5, -2].\n",
        "\n",
        "\"D\" - Add 2 * -2 = -4 to the record, record is now [5, -2, -4].\n",
        "\n",
        "\"9\" - Add 9 to the record, record is now [5, -2, -4, 9].\n",
        "\n",
        "\"+\" - Add -4 + 9 = 5 to the record, record is now [5, -2, -4, 9, 5].\n",
        "\n",
        "\"+\" - Add 9 + 5 = 14 to the record, record is now [5, -2, -4, 9, 5, 14].\n",
        "\n",
        "The total sum is 5 + -2 + -4 + 9 + 5 + 14 = 27.\n",
        "\n",
        "**Example 3:**\n",
        "\n",
        "Input: ops = [\"1\",\"C\"]\n",
        "\n",
        "Output: 0\n",
        "\n",
        "Explanation:\n",
        "\n",
        "\"1\" - Add 1 to the record, record is now [1].\n",
        "\n",
        "\"C\" - Invalidate and remove the previous score, record is now [].\n",
        "\n",
        "Since the record is empty, the total sum is 0."
      ],
      "metadata": {
        "id": "K0IQ-dO2lsB_"
      }
    },
    {
      "cell_type": "code",
      "source": [
        "class Solution:\n",
        "    def calPoints(self, operations):\n",
        "        score_stack = []\n",
        "\n",
        "        for o in operations:\n",
        "\n",
        "            # it is +, D, or C\n",
        "            # if stack isn't of sufficient length, then operation is voided\n",
        "            if o == \"+\" and len(score_stack) >= 2:\n",
        "                summed = score_stack[-2] + score_stack[-1]\n",
        "                score_stack.append(summed)\n",
        "\n",
        "            elif o == \"D\" and len(score_stack) >= 1:\n",
        "                doubled = score_stack[-1] * 2\n",
        "                score_stack.append(doubled)\n",
        "\n",
        "            elif o == \"C\" and len(score_stack) >= 1:\n",
        "                score_stack.pop()\n",
        "\n",
        "            else:\n",
        "                score_stack.append(int(o))\n",
        "\n",
        "        return sum(score_stack)"
      ],
      "metadata": {
        "id": "w82piXz1g73Y"
      },
      "execution_count": null,
      "outputs": []
    },
    {
      "cell_type": "code",
      "source": [
        "s = Solution()\n",
        "s.calPoints([\"5\",\"-2\",\"4\",\"C\",\"D\",\"9\",\"+\",\"+\"])"
      ],
      "metadata": {
        "colab": {
          "base_uri": "https://localhost:8080/"
        },
        "id": "lDzxwSQ2oGtw",
        "outputId": "7367b811-3a22-4188-9060-36dfd4d9b155"
      },
      "execution_count": null,
      "outputs": [
        {
          "output_type": "execute_result",
          "data": {
            "text/plain": [
              "27"
            ]
          },
          "metadata": {},
          "execution_count": 91
        }
      ]
    },
    {
      "cell_type": "markdown",
      "source": [
        "**20. Valid Parentheses**\n",
        "\n",
        "Given a string s containing just the characters '(', ')', '{', '}', '[' and ']', determine if the input string is valid.\n",
        "\n",
        "An input string is valid if:\n",
        "\n",
        "*Open brackets must be closed by the same type of brackets.*\n",
        "\n",
        "*Open brackets must be closed in the correct order.*\n",
        "\n",
        "*Every close bracket has a corresponding open bracket of the same type.*\n",
        "\n",
        "**Example 1:**\n",
        "\n",
        "Input: s = \"()\"\n",
        "\n",
        "Output: true\n",
        "\n",
        "**Example 2:**\n",
        "\n",
        "Input: s = \"()[]{}\"\n",
        "\n",
        "Output: true\n",
        "\n",
        "**Example 3:**\n",
        "\n",
        "Input: s = \"(]\"\n",
        "\n",
        "Output: false"
      ],
      "metadata": {
        "id": "H6zKOZc-nH-C"
      }
    },
    {
      "cell_type": "code",
      "source": [
        "class Solution:\n",
        "    def isValid(self, s: str) -> bool:\n",
        "        Map = {\")\": \"(\", \"]\": \"[\", \"}\": \"{\"}\n",
        "        stack = []\n",
        "\n",
        "        for c in s:\n",
        "            if c not in Map:\n",
        "                stack.append(c)\n",
        "                continue\n",
        "            if not stack or stack[-1] != Map[c]:\n",
        "                return False\n",
        "            stack.pop()\n",
        "\n",
        "        return not stack"
      ],
      "metadata": {
        "id": "4lIPL4ERqXIp"
      },
      "execution_count": null,
      "outputs": []
    },
    {
      "cell_type": "code",
      "source": [
        "s = Solution()\n",
        "s.isValid(\"()[]{}\")"
      ],
      "metadata": {
        "colab": {
          "base_uri": "https://localhost:8080/"
        },
        "id": "tkalUd5IoTr4",
        "outputId": "2fd64526-21f9-422d-bdc5-8a5bdc3e8391"
      },
      "execution_count": null,
      "outputs": [
        {
          "output_type": "execute_result",
          "data": {
            "text/plain": [
              "True"
            ]
          },
          "metadata": {},
          "execution_count": 99
        }
      ]
    },
    {
      "cell_type": "code",
      "source": [
        "stack = []"
      ],
      "metadata": {
        "id": "ok5FIH6VqtaV"
      },
      "execution_count": null,
      "outputs": []
    },
    {
      "cell_type": "code",
      "source": [
        "not stack"
      ],
      "metadata": {
        "colab": {
          "base_uri": "https://localhost:8080/"
        },
        "id": "uOgOI0m7q1Qe",
        "outputId": "db2b5665-6846-4e9c-91e1-78f602d994fa"
      },
      "execution_count": null,
      "outputs": [
        {
          "output_type": "execute_result",
          "data": {
            "text/plain": [
              "True"
            ]
          },
          "metadata": {},
          "execution_count": 103
        }
      ]
    },
    {
      "cell_type": "markdown",
      "source": [
        "**155. Min Stack**\n",
        "\n",
        "Design a stack that supports push, pop, top, and retrieving the minimum element in constant time.\n",
        "\n",
        "Implement the MinStack class:\n",
        "\n",
        "MinStack() initializes the stack object.\n",
        "\n",
        "void push(int val) pushes the element val onto the stack.\n",
        "\n",
        "void pop() removes the element on the top of the stack.\n",
        "\n",
        "int top() gets the top element of the stack.\n",
        "\n",
        "int getMin() retrieves the minimum element in the stack.\n",
        "\n",
        "You must implement a solution with O(1) time complexity for each function.\n",
        "\n",
        "\n",
        "\n",
        "**Example 1:**\n",
        "\n",
        "*Input*\n",
        "\n",
        "[\"MinStack\",\"push\",\"push\",\"push\",\"getMin\",\"pop\",\"top\",\"getMin\"]\n",
        "\n",
        "[[],[-2],[0],[-3],[],[],[],[]]\n",
        "\n",
        "*Output*\n",
        "\n",
        "[null,null,null,null,-3,null,0,-2]\n",
        "\n",
        "**Explanation**\n",
        "\n",
        "MinStack minStack = new MinStack();\n",
        "\n",
        "minStack.push(-2);\n",
        "\n",
        "minStack.push(0);\n",
        "\n",
        "minStack.push(-3);\n",
        "\n",
        "minStack.getMin(); // return -3\n",
        "\n",
        "minStack.pop();\n",
        "\n",
        "minStack.top();    // return 0\n",
        "\n",
        "minStack.getMin(); // return -2"
      ],
      "metadata": {
        "id": "dIUJHiaMzjJ4"
      }
    },
    {
      "cell_type": "code",
      "source": [
        "class MinStack:\n",
        "    def __init__(self):\n",
        "        self.stack = []\n",
        "        self.minStack = []\n",
        "\n",
        "    def push(self, val: int) -> None:\n",
        "        self.stack.append(val)\n",
        "        val = min(val, self.minStack[-1] if self.minStack else val)\n",
        "        self.minStack.append(val)\n",
        "\n",
        "    def pop(self) -> None:\n",
        "        self.stack.pop()\n",
        "        self.minStack.pop()\n",
        "\n",
        "    def top(self) -> int:\n",
        "        return self.stack[-1]\n",
        "\n",
        "    def getMin(self) -> int:\n",
        "        return self.minStack[-1]\n",
        "\n",
        "    def print_arr(self):\n",
        "        print(self.stack)"
      ],
      "metadata": {
        "id": "cx9zODnIsl2R"
      },
      "execution_count": null,
      "outputs": []
    },
    {
      "cell_type": "code",
      "source": [
        "minStack = MinStack()\n",
        "minStack.push(-2)\n",
        "minStack.push(0)\n",
        "minStack.push(-3)\n",
        "minStack.getMin()\n",
        "minStack.pop()\n",
        "minStack.top()\n",
        "minStack.getMin()"
      ],
      "metadata": {
        "colab": {
          "base_uri": "https://localhost:8080/"
        },
        "id": "QHVx9pt_1-41",
        "outputId": "6a0b4993-9d86-4fe1-aa14-c83840e3d7ca"
      },
      "execution_count": null,
      "outputs": [
        {
          "output_type": "execute_result",
          "data": {
            "text/plain": [
              "-2"
            ]
          },
          "metadata": {},
          "execution_count": 133
        }
      ]
    },
    {
      "cell_type": "code",
      "source": [
        "minStack.print_arr()"
      ],
      "metadata": {
        "colab": {
          "base_uri": "https://localhost:8080/"
        },
        "id": "c1qkuuNR2Ob0",
        "outputId": "7e538bd6-a513-4f9c-9f78-7ca2830461ec"
      },
      "execution_count": null,
      "outputs": [
        {
          "output_type": "stream",
          "name": "stdout",
          "text": [
            "[-2, 0]\n"
          ]
        }
      ]
    }
  ]
}