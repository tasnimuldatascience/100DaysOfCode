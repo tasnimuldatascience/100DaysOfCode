{
  "nbformat": 4,
  "nbformat_minor": 0,
  "metadata": {
    "colab": {
      "provenance": []
    },
    "kernelspec": {
      "name": "python3",
      "display_name": "Python 3"
    },
    "language_info": {
      "name": "python"
    }
  },
  "cells": [
    {
      "cell_type": "markdown",
      "source": [
        "## Insertion Sort (O(n^2 ))"
      ],
      "metadata": {
        "id": "1LRHfeWTgbVy"
      }
    },
    {
      "cell_type": "code",
      "execution_count": null,
      "metadata": {
        "id": "BFABhimcgHCp"
      },
      "outputs": [],
      "source": [
        "# Python implementation of Insertion Sort\n",
        "def insertionSort(arr):\n",
        "\t# Traverse through 1 to len(arr)\n",
        "    for i in range(1, len(arr)):\n",
        "        j = i - 1\n",
        "        while j >= 0 and arr[j + 1] < arr[j]:\n",
        "            # arr[j] and arr[j + 1] are out of order so swap them\n",
        "            tmp = arr[j + 1]\n",
        "            arr[j + 1] = arr[j]\n",
        "            arr[j] = tmp\n",
        "            j -= 1\n",
        "    return arr"
      ]
    },
    {
      "cell_type": "code",
      "source": [
        "insertionSort([5,4,3,29,1,5])"
      ],
      "metadata": {
        "colab": {
          "base_uri": "https://localhost:8080/"
        },
        "id": "ek9soorOj0am",
        "outputId": "673c5bee-b045-472e-8569-a75853e6c7c9"
      },
      "execution_count": null,
      "outputs": [
        {
          "output_type": "execute_result",
          "data": {
            "text/plain": [
              "[1, 3, 4, 5, 5, 29]"
            ]
          },
          "metadata": {},
          "execution_count": 4
        }
      ]
    },
    {
      "cell_type": "code",
      "source": [
        "insertionSort(['a', 'c', 'b','aa', '10', '0', '7', '1'])"
      ],
      "metadata": {
        "colab": {
          "base_uri": "https://localhost:8080/"
        },
        "id": "G2Wz3Ge4j8km",
        "outputId": "bd4aa49a-daf2-45cf-b567-e54aea412489"
      },
      "execution_count": null,
      "outputs": [
        {
          "output_type": "execute_result",
          "data": {
            "text/plain": [
              "['0', '1', '10', '7', 'a', 'aa', 'b', 'c']"
            ]
          },
          "metadata": {},
          "execution_count": 7
        }
      ]
    },
    {
      "cell_type": "markdown",
      "source": [
        "**Insertion Sort**\n",
        "\n",
        "Implement Insertion Sort and return intermediate states.\n",
        "\n",
        "Insertion Sort is a simple sorting algorithm that builds the sorted list one element at a time, from left to right. It works by repeatedly taking an element from the unsorted portion and inserting it into its correct position in the sorted portion of the list.\n",
        "\n",
        "Objective:\n",
        "\n",
        "Given a list of key-value pairs, sort the list by key using Insertion Sort. Return a list of lists showing the state of the array after each insertion. If two key-value pairs have the same key, maintain their relative order in the sorted list."
      ],
      "metadata": {
        "id": "YUUq-cUmlbsf"
      }
    },
    {
      "cell_type": "code",
      "source": [
        "# Input:\n",
        "# pairs = [(5, \"apple\"), (2, \"banana\"), (9, \"cherry\")]\n",
        "\n",
        "# Output:\n",
        "# [[(5, \"apple\"), (2, \"banana\"), (9, \"cherry\")],\n",
        "#  [(2, \"banana\"), (5, \"apple\"), (9, \"cherry\")],\n",
        "#  [(2, \"banana\"), (5, \"apple\"), (9, \"cherry\")]]"
      ],
      "metadata": {
        "id": "bLjnGqWil5uQ"
      },
      "execution_count": null,
      "outputs": []
    },
    {
      "cell_type": "code",
      "source": [
        "# Definition for a pair.\n",
        "class Pair:\n",
        "    def __init__(self, key: int, value: str):\n",
        "        self.key = key\n",
        "        self.value = value\n",
        "\n",
        "class Solution:\n",
        "    # Implementation of Insertion Sort\n",
        "    def insertionSort(self, pairs):\n",
        "        n = len(pairs)\n",
        "        res = []  # To store the intermediate states of the array\n",
        "\n",
        "        for i in range(n):\n",
        "            j = i - 1\n",
        "\n",
        "            # Move elements that are greater than key one position ahead\n",
        "            while j >= 0 and pairs[j].key > pairs[j + 1].key:\n",
        "                pairs[j], pairs[j + 1] = pairs[j + 1], pairs[j]\n",
        "                j -= 1\n",
        "\n",
        "            # Clone and save the entire state of the array at this point\n",
        "            res.append(pairs[:])\n",
        "\n",
        "        return res\n"
      ],
      "metadata": {
        "id": "ep6GiaMTkOQZ"
      },
      "execution_count": null,
      "outputs": []
    },
    {
      "cell_type": "code",
      "source": [
        "pairs = [Pair(5, \"apple\"), Pair(2, \"banana\"), Pair(9, \"cherry\")]\n",
        "s = Solution()\n",
        "s.insertionSort(pairs)"
      ],
      "metadata": {
        "colab": {
          "base_uri": "https://localhost:8080/"
        },
        "id": "JcFk4zsLpjeg",
        "outputId": "96167ecd-95c7-4cf7-849c-e3876cd06fdd"
      },
      "execution_count": null,
      "outputs": [
        {
          "output_type": "execute_result",
          "data": {
            "text/plain": [
              "[[<__main__.Pair at 0x7ddc610387c0>,\n",
              "  <__main__.Pair at 0x7ddc61038d90>,\n",
              "  <__main__.Pair at 0x7ddc61038fa0>],\n",
              " [<__main__.Pair at 0x7ddc61038d90>,\n",
              "  <__main__.Pair at 0x7ddc610387c0>,\n",
              "  <__main__.Pair at 0x7ddc61038fa0>],\n",
              " [<__main__.Pair at 0x7ddc61038d90>,\n",
              "  <__main__.Pair at 0x7ddc610387c0>,\n",
              "  <__main__.Pair at 0x7ddc61038fa0>]]"
            ]
          },
          "metadata": {},
          "execution_count": 47
        }
      ]
    }
  ]
}