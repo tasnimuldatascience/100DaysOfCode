{
  "nbformat": 4,
  "nbformat_minor": 0,
  "metadata": {
    "colab": {
      "provenance": []
    },
    "kernelspec": {
      "name": "python3",
      "display_name": "Python 3"
    },
    "language_info": {
      "name": "python"
    }
  },
  "cells": [
    {
      "cell_type": "markdown",
      "source": [
        "## Binary Search (Search Array)"
      ],
      "metadata": {
        "id": "b42pefTScTBK"
      }
    },
    {
      "cell_type": "markdown",
      "source": [
        "### Leetcode"
      ],
      "metadata": {
        "id": "FKZ4ybsid-fa"
      }
    },
    {
      "cell_type": "markdown",
      "source": [
        "**704. Binary Search**\n",
        "\n",
        "Easy\n",
        "\n",
        "Given an array of integers nums which is sorted in ascending order, and an integer target, write a function to search target in nums. If target exists, then return its index. Otherwise, return -1.\n",
        "\n",
        "You must write an algorithm with O(log n) runtime complexity."
      ],
      "metadata": {
        "id": "hVNkkGuyeCHQ"
      }
    },
    {
      "cell_type": "code",
      "execution_count": null,
      "metadata": {
        "id": "3EcmiqnccGPE"
      },
      "outputs": [],
      "source": [
        "from typing import List\n",
        "class Solution:\n",
        "    def search(self, nums: List[int], target: int) -> int:\n",
        "        L, R = 0, len(nums) - 1\n",
        "\n",
        "        while L<=R:\n",
        "            mid = (L+R)//2\n",
        "            if target > nums[mid]:\n",
        "                L = mid +1\n",
        "            elif target < nums[mid]:\n",
        "                R = mid - 1\n",
        "            else:\n",
        "                return mid\n",
        "        return -1\n"
      ]
    },
    {
      "cell_type": "code",
      "source": [
        "Solution().search(nums = [-1,0,3,5,9,12], target = 12)"
      ],
      "metadata": {
        "colab": {
          "base_uri": "https://localhost:8080/"
        },
        "id": "9DsGVxVqcdIZ",
        "outputId": "2974059a-739c-4bd0-d473-2ad525ecb7ca"
      },
      "execution_count": null,
      "outputs": [
        {
          "output_type": "execute_result",
          "data": {
            "text/plain": [
              "5"
            ]
          },
          "metadata": {},
          "execution_count": 7
        }
      ]
    },
    {
      "cell_type": "markdown",
      "source": [
        "**74. Search a 2D Matrix**\n",
        "\n",
        "*Medium*\n",
        "\n",
        "You are given an m x n integer matrix matrix with the following two properties:\n",
        "\n",
        "Each row is sorted in non-decreasing order.\n",
        "The first integer of each row is greater than the last integer of the previous row.\n",
        "Given an integer target, return true if target is in matrix or false otherwise.\n",
        "\n",
        "You must write a solution in O(log(m * n)) time complexity."
      ],
      "metadata": {
        "id": "6yAxsvy2jl0F"
      }
    },
    {
      "cell_type": "code",
      "source": [
        "class Solution:\n",
        "    def searchMatrix(self, matrix: List[List[int]], target: int) -> bool:\n",
        "        ROWS, COLS = len(matrix), len(matrix[0])\n",
        "\n",
        "        top, bot = 0, ROWS - 1\n",
        "        while top <= bot:\n",
        "            row = (top + bot) // 2\n",
        "            if target > matrix[row][-1]:\n",
        "                top = row + 1\n",
        "            elif target < matrix[row][0]:\n",
        "                bot = row - 1\n",
        "            else:\n",
        "                break\n",
        "\n",
        "        if not (top <= bot):\n",
        "            return False\n",
        "        row = (top + bot) // 2\n",
        "        l, r = 0, COLS - 1\n",
        "        while l <= r:\n",
        "            m = (l + r) // 2\n",
        "            if target > matrix[row][m]:\n",
        "                l = m + 1\n",
        "            elif target < matrix[row][m]:\n",
        "                r = m - 1\n",
        "            else:\n",
        "                return True\n",
        "        return False\n"
      ],
      "metadata": {
        "id": "AmBm_6JnfZTe"
      },
      "execution_count": null,
      "outputs": []
    },
    {
      "cell_type": "code",
      "source": [
        "Solution().searchMatrix(matrix = [[1,3,5,7],[10,11,16,20],[23,30,34,60]], target = 11)"
      ],
      "metadata": {
        "colab": {
          "base_uri": "https://localhost:8080/"
        },
        "id": "QTMEftEqhEyV",
        "outputId": "0236ed8f-f488-4ec9-be91-622e09304353"
      },
      "execution_count": null,
      "outputs": [
        {
          "output_type": "execute_result",
          "data": {
            "text/plain": [
              "True"
            ]
          },
          "metadata": {},
          "execution_count": 52
        }
      ]
    },
    {
      "cell_type": "markdown",
      "source": [
        "## Binary Search (Search Range)"
      ],
      "metadata": {
        "id": "DOiIORFwlEWw"
      }
    },
    {
      "cell_type": "markdown",
      "source": [
        "**374. Guess Number Higher or Lower**\n",
        "\n",
        "*Easy*\n",
        "\n",
        "We are playing the Guess Game. The game is as follows: I pick a number from 1 to n. You have to guess which number I picked.\n",
        "\n",
        "Every time you guess wrong, I will tell you whether the number I picked is higher or lower than your guess.\n",
        "\n",
        "You call a pre-defined API int guess(int num), which returns three possible results:\n",
        "\n",
        "\n",
        "*   -1: Your guess is higher than the number I picked (i.e. num > pick).\n",
        "*   1: Your guess is lower than the number I picked (i.e. num < pick).\n",
        "*   0: your guess is equal to the number I picked (i.e. num == pick).\n",
        "\n",
        "Return the number that I picked."
      ],
      "metadata": {
        "id": "AQoc8FRpn3l1"
      }
    },
    {
      "cell_type": "code",
      "source": [
        "# The guess API is already defined for you.\n",
        "# param num, your guess\n",
        "# return -1 if num is higher than the picked number\n",
        "#          1 if num is lower than the picked number\n",
        "#          otherwise return 0\n",
        "\n",
        "class Solution:\n",
        "    def guess(self, num: int) -> int:\n",
        "        tmp = 6\n",
        "        if num > tmp:\n",
        "            return -1\n",
        "        elif num < tmp:\n",
        "            return 1\n",
        "        else:\n",
        "            return 0\n",
        "\n",
        "    def guessNumber(self, n: int) -> int:\n",
        "        low, high = 1, n\n",
        "\n",
        "        while low <= high:\n",
        "            mid = (low + high) // 2\n",
        "            # print(high)\n",
        "            if self.guess(mid) > 0:\n",
        "                low = mid + 1\n",
        "            elif self.guess(mid) < 0:\n",
        "                high = mid - 1\n",
        "            else:\n",
        "                return mid\n",
        "            # print(mid, self.guess(mid), low, high)\n",
        "        return -1\n"
      ],
      "metadata": {
        "id": "ZuUpeUmfoOo9"
      },
      "execution_count": null,
      "outputs": []
    },
    {
      "cell_type": "code",
      "source": [
        "Solution().guessNumber(10)"
      ],
      "metadata": {
        "colab": {
          "base_uri": "https://localhost:8080/"
        },
        "id": "f8_oxRBIpY82",
        "outputId": "2e9237a4-37f4-4b40-e829-94cc02d47979"
      },
      "execution_count": null,
      "outputs": [
        {
          "output_type": "execute_result",
          "data": {
            "text/plain": [
              "6"
            ]
          },
          "metadata": {},
          "execution_count": 16
        }
      ]
    },
    {
      "cell_type": "markdown",
      "source": [
        "**278. First Bad Version**\n",
        "\n",
        "*Easy*\n",
        "\n",
        "You are a product manager and currently leading a team to develop a new product. Unfortunately, the latest version of your product fails the quality check. Since each version is developed based on the previous version, all the versions after a bad version are also bad.\n",
        "\n",
        "Suppose you have n versions [1, 2, ..., n] and you want to find out the first bad one, which causes all the following ones to be bad.\n",
        "\n",
        "You are given an API bool isBadVersion(version) which returns whether version is bad. Implement a function to find the first bad version. You should minimize the number of calls to the API."
      ],
      "metadata": {
        "id": "U_hSKu6yt2Iq"
      }
    },
    {
      "cell_type": "code",
      "source": [
        "# The isBadVersion API is already defined for you.\n",
        "\n",
        "class Solution:\n",
        "    def isBadVersion(self,version: int) -> bool:\n",
        "        bad = [i for i in range(4,6)]\n",
        "        if version in bad:\n",
        "            return True\n",
        "        else:\n",
        "            return False\n",
        "\n",
        "    def firstBadVersion(self, n: int) -> int:\n",
        "        low, high = 1, n\n",
        "\n",
        "        while low <= high:\n",
        "            mid = (low + high) // 2\n",
        "\n",
        "            if self.isBadVersion(mid) is False:\n",
        "                low = mid + 1\n",
        "            elif self.isBadVersion(mid-1) is True:\n",
        "                high = mid - 1\n",
        "            else:\n",
        "                return mid"
      ],
      "metadata": {
        "id": "ui8YaznanBG8"
      },
      "execution_count": null,
      "outputs": []
    },
    {
      "cell_type": "code",
      "source": [
        "Solution().firstBadVersion(5)"
      ],
      "metadata": {
        "colab": {
          "base_uri": "https://localhost:8080/"
        },
        "id": "pLwFL0OEuu1_",
        "outputId": "bc78180e-525c-4dcd-dc48-412b97063a04"
      },
      "execution_count": null,
      "outputs": [
        {
          "output_type": "execute_result",
          "data": {
            "text/plain": [
              "4"
            ]
          },
          "metadata": {},
          "execution_count": 23
        }
      ]
    },
    {
      "cell_type": "markdown",
      "source": [
        "**875. Koko Eating Bananas**\n",
        "\n",
        "*Medium*\n",
        "\n",
        "Koko loves to eat bananas. There are n piles of bananas, the ith pile has piles[i] bananas. The guards have gone and will come back in h hours.\n",
        "\n",
        "Koko can decide her bananas-per-hour eating speed of k. Each hour, she chooses some pile of bananas and eats k bananas from that pile. If the pile has less than k bananas, she eats all of them instead and will not eat any more bananas during this hour.\n",
        "\n",
        "Koko likes to eat slowly but still wants to finish eating all the bananas before the guards return.\n",
        "\n",
        "Return the minimum integer k such that she can eat all the bananas within h hours."
      ],
      "metadata": {
        "id": "xvqTE01_1o9W"
      }
    },
    {
      "cell_type": "code",
      "source": [
        "import math\n",
        "\n",
        "class Solution:\n",
        "    def minEatingSpeed(self, piles, h: int) -> int:\n",
        "        l, r = 1, max(piles)\n",
        "        res = r\n",
        "\n",
        "        while l <= r:\n",
        "            k = (l + r) // 2\n",
        "\n",
        "            totalTime = 0\n",
        "            for p in piles:\n",
        "                totalTime += math.ceil(float(p) / k)\n",
        "            if totalTime <= h:\n",
        "                res = k\n",
        "                r = k - 1\n",
        "            else:\n",
        "                l = k + 1\n",
        "        return res"
      ],
      "metadata": {
        "id": "buscNkWn1nTG"
      },
      "execution_count": 6,
      "outputs": []
    },
    {
      "cell_type": "code",
      "source": [
        "Solution().minEatingSpeed(piles = [3,6,7,11], h = 8)"
      ],
      "metadata": {
        "colab": {
          "base_uri": "https://localhost:8080/"
        },
        "id": "5LWJNCKV06Ox",
        "outputId": "ccf6ad5d-1193-470d-bb61-8017884ac15a"
      },
      "execution_count": 7,
      "outputs": [
        {
          "output_type": "execute_result",
          "data": {
            "text/plain": [
              "4"
            ]
          },
          "metadata": {},
          "execution_count": 7
        }
      ]
    }
  ]
}