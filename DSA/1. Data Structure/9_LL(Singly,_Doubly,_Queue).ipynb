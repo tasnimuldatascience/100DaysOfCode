{
  "nbformat": 4,
  "nbformat_minor": 0,
  "metadata": {
    "colab": {
      "provenance": [],
      "toc_visible": true
    },
    "kernelspec": {
      "name": "python3",
      "display_name": "Python 3"
    },
    "language_info": {
      "name": "python"
    }
  },
  "cells": [
    {
      "cell_type": "markdown",
      "source": [
        "## Singly Linked List"
      ],
      "metadata": {
        "id": "AOfYuBYmL_88"
      }
    },
    {
      "cell_type": "code",
      "source": [
        "class ListNode:\n",
        "    def __init__(self, val):\n",
        "        self.val = val\n",
        "        self.next = None\n",
        "\n",
        "# Implementation for Singly Linked List\n",
        "class LinkedList:\n",
        "    def __init__(self):\n",
        "        # Init the list with a 'dummy' node which makes\n",
        "        # removing a node from the beginning of list easier.\n",
        "        self.head = ListNode(-1)\n",
        "        self.tail = self.head\n",
        "\n",
        "    def insertEnd(self, val):\n",
        "        self.tail.next = ListNode(val)\n",
        "        self.tail = self.tail.next\n",
        "\n",
        "    def remove(self, index):\n",
        "        i = 0\n",
        "        curr = self.head\n",
        "        while i < index and curr:\n",
        "            i += 1\n",
        "            curr = curr.next\n",
        "\n",
        "        # Remove the node ahead of curr\n",
        "        if curr and curr.next:\n",
        "            if curr.next == self.tail:\n",
        "                self.tail = curr\n",
        "            curr.next = curr.next.next\n",
        "\n",
        "    def print(self):\n",
        "        curr = self.head.next\n",
        "        while curr:\n",
        "            print(curr.val, \" -> \", end=\"\")\n",
        "            curr = curr.next\n",
        "        print()\n"
      ],
      "metadata": {
        "id": "kFKe2jUyMQ5l"
      },
      "execution_count": null,
      "outputs": []
    },
    {
      "cell_type": "code",
      "source": [
        "l = LinkedList()"
      ],
      "metadata": {
        "id": "3bBAWj60bPDL"
      },
      "execution_count": null,
      "outputs": []
    },
    {
      "cell_type": "code",
      "source": [
        "l.insertEnd(3)\n",
        "l.insertEnd(4)\n",
        "l.insertEnd(5)\n",
        "l.print()"
      ],
      "metadata": {
        "colab": {
          "base_uri": "https://localhost:8080/"
        },
        "id": "6Lkb8bN8bTK2",
        "outputId": "cf689c70-40c2-4d3e-da56-0d81c9c37221"
      },
      "execution_count": null,
      "outputs": [
        {
          "output_type": "stream",
          "name": "stdout",
          "text": [
            "3  -> 4  -> 5  -> \n"
          ]
        }
      ]
    },
    {
      "cell_type": "markdown",
      "source": [
        "### Leetcode"
      ],
      "metadata": {
        "id": "4wskt0I4NFMj"
      }
    },
    {
      "cell_type": "markdown",
      "source": [
        "**Reverse singly linked list**"
      ],
      "metadata": {
        "id": "yaDIEAYWNHly"
      }
    },
    {
      "cell_type": "code",
      "execution_count": null,
      "metadata": {
        "id": "LTJnmnim_Nup"
      },
      "outputs": [],
      "source": [
        "# Definition for singly-linked list.\n",
        "class ListNode:\n",
        "    def __init__(self, x):\n",
        "        self.val = x\n",
        "        self.next = None\n",
        "\n",
        "\n",
        "class Solution:\n",
        "    def reverseList(self, head: ListNode) -> ListNode:\n",
        "        prev, curr = None, head\n",
        "\n",
        "        while curr:\n",
        "            temp = curr.next\n",
        "            curr.next = prev\n",
        "            prev = curr\n",
        "            curr = temp\n",
        "        return prev"
      ]
    },
    {
      "cell_type": "markdown",
      "source": [
        "**Merge 2 sorted list**"
      ],
      "metadata": {
        "id": "RAGG0-YOQRxZ"
      }
    },
    {
      "cell_type": "code",
      "source": [
        "# Definition for singly-linked list.\n",
        "# class ListNode:\n",
        "#     def __init__(self, val=0, next=None):\n",
        "#         self.val = val\n",
        "#         self.next = next\n",
        "\n",
        "# Iterative\n",
        "class Solution:\n",
        "    def mergeTwoLists(self, list1: ListNode, list2: ListNode) -> ListNode:\n",
        "        dummy = node = ListNode()\n",
        "\n",
        "        while list1 and list2:\n",
        "            if list1.val < list2.val:\n",
        "                node.next = list1\n",
        "                list1 = list1.next\n",
        "            else:\n",
        "                node.next = list2\n",
        "                list2 = list2.next\n",
        "            node = node.next\n",
        "\n",
        "        node.next = list1 or list2\n",
        "\n",
        "        return dummy.next\n",
        "\n",
        "# Recursive\n",
        "class Solution:\n",
        "    def mergeTwoLists(self, list1: Optional[ListNode], list2: Optional[ListNode]) -> Optional[ListNode]:\n",
        "        if not list1:\n",
        "            return list2\n",
        "        if not list2:\n",
        "            return list1\n",
        "        lil, big = (list1, list2) if list1.val < list2.val else (list2, list1)\n",
        "        lil.next = self.mergeTwoLists(lil.next, big)\n",
        "        return lil\n"
      ],
      "metadata": {
        "id": "oUy8aNYMM1Xt"
      },
      "execution_count": null,
      "outputs": []
    },
    {
      "cell_type": "markdown",
      "source": [
        "## Doubly linked list"
      ],
      "metadata": {
        "id": "lGmCQ7SZcJgJ"
      }
    },
    {
      "cell_type": "code",
      "source": [
        "class ListNode:\n",
        "    def __init__(self, val):\n",
        "        self.val =val\n",
        "        self.next = None\n",
        "        self.prev = None\n",
        "\n",
        "# Implementation for Doubly Linked List\n",
        "class LinkedList:\n",
        "    def __init__(self):\n",
        "        self.head = ListNode(-1)\n",
        "        self.tail = ListNode(-1)\n",
        "        self.head.next = self.tail\n",
        "        self.tail.prev = self.head\n",
        "\n",
        "    def insertFront(self, val):\n",
        "        newNode = ListNode(val)\n",
        "        newNode.prev = self.head\n",
        "        newNode.next = self.head.next\n",
        "\n",
        "        self.head.next.prev = newNode\n",
        "        self.head.next = newNode\n",
        "\n",
        "    def insertEnd(self, val):\n",
        "        newNode = ListNode(val)\n",
        "        newNode.next = self.tail\n",
        "        newNode.prev = self.tail.prev\n",
        "\n",
        "        self.tail.prev.next = newNode\n",
        "        self.tail.prev = newNode\n",
        "\n",
        "    def removeFront(self):\n",
        "        self.head.next.next.prev = self.head\n",
        "        self.head.next = self.head.next.next\n",
        "\n",
        "    def removeEnd(self):\n",
        "        self.tail.prev.prev.next = self.tail\n",
        "        self.tail.prev = self.tail.prev.prev\n",
        "\n",
        "    def print(self):\n",
        "        curr = self.head.next\n",
        "        while curr != self.tail:\n",
        "            print(curr.val, \" -> \", end=\"\")\n",
        "            curr = curr.next\n",
        "        print()"
      ],
      "metadata": {
        "id": "m61CljWScL6s"
      },
      "execution_count": null,
      "outputs": []
    },
    {
      "cell_type": "code",
      "source": [
        "l = LinkedList()\n",
        "l.insertEnd(3)\n",
        "l.insertEnd(4)\n",
        "l.insertEnd(5)\n",
        "l.print()"
      ],
      "metadata": {
        "colab": {
          "base_uri": "https://localhost:8080/"
        },
        "id": "cKcaTtGcgt3Q",
        "outputId": "a6ab7b60-90cb-4d32-d947-bb9d0482c2c2"
      },
      "execution_count": null,
      "outputs": [
        {
          "output_type": "stream",
          "name": "stdout",
          "text": [
            "3  -> 4  -> 5  -> \n"
          ]
        }
      ]
    },
    {
      "cell_type": "markdown",
      "source": [
        "### Leetcode"
      ],
      "metadata": {
        "id": "i0JJfw5NjinL"
      }
    },
    {
      "cell_type": "markdown",
      "source": [
        "**707. Design Linked List**"
      ],
      "metadata": {
        "id": "o279K3tw5PHc"
      }
    },
    {
      "cell_type": "code",
      "source": [
        "class ListNode:\n",
        "    def __init__(self, val):\n",
        "        self.val = val\n",
        "        self.prev = None\n",
        "        self.next = None\n",
        "\n",
        "class MyLinkedList:\n",
        "\n",
        "    def __init__(self):\n",
        "        self.left = ListNode(0)\n",
        "        self.right = ListNode(0)\n",
        "        self.left.next = self.right\n",
        "        self.right.prev = self.left\n",
        "\n",
        "    def get(self, index: int) -> int:\n",
        "        cur = self.left.next\n",
        "        while cur and index > 0:\n",
        "            cur = cur.next\n",
        "            index -= 1\n",
        "\n",
        "        if cur and cur != self.right and index == 0:\n",
        "            return cur.val\n",
        "        return -1\n",
        "\n",
        "    def addAtHead(self, val: int) -> None:\n",
        "        node, prev, next = ListNode(val), self.left, self.left.next\n",
        "        node.next, node.prev = next, prev\n",
        "        next.prev = node\n",
        "        prev.next = node\n",
        "\n",
        "    def addAtTail(self, val: int) -> None:\n",
        "        node, prev, next = ListNode(val), self.right.prev, self.right\n",
        "        node.next, node.prev = next, prev\n",
        "        next.prev = node\n",
        "        prev.next = node\n",
        "\n",
        "    def addAtIndex(self, index: int, val: int) -> None:\n",
        "        next = self.left.next\n",
        "        while next and index > 0:\n",
        "            next = next.next\n",
        "            index -= 1\n",
        "\n",
        "        if next and index == 0:\n",
        "            node, prev = ListNode(val), next.prev\n",
        "            node.next, node.prev = next, prev\n",
        "            next.prev = node\n",
        "            prev.next = node\n",
        "\n",
        "\n",
        "    def deleteAtIndex(self, index: int) -> None:\n",
        "        node = self.left.next\n",
        "        while node and index > 0:\n",
        "            node = node.next\n",
        "            index -= 1\n",
        "\n",
        "        if node and node != self.right and index == 0:\n",
        "            node.prev.next = node.next\n",
        "            node.next.prev = node.prev\n",
        "\n",
        "    def print(self):\n",
        "        curr = self.left.next\n",
        "        while curr != self.right:\n",
        "            print(curr.val, \" -> \", end=\"\")\n",
        "            curr = curr.next\n",
        "        print()\n",
        "\n",
        "\n",
        "# Your MyLinkedList object will be instantiated and called as such:\n",
        "# obj = MyLinkedList()\n",
        "# param_1 = obj.get(index)\n",
        "# obj.addAtHead(val)\n",
        "# obj.addAtTail(val)\n",
        "# obj.addAtIndex(index,val)\n",
        "# obj.deleteAtIndex(index)\n"
      ],
      "metadata": {
        "id": "aEQBUPVGgypP"
      },
      "execution_count": null,
      "outputs": []
    },
    {
      "cell_type": "code",
      "source": [
        "obj = MyLinkedList()\n",
        "obj.addAtHead(1)\n",
        "obj.print()\n",
        "obj.addAtTail(3)\n",
        "obj.print()\n",
        "obj.addAtIndex(1,2)\n",
        "obj.print()\n",
        "obj.get(1)\n",
        "obj.deleteAtIndex(1)\n",
        "obj.print()\n",
        "obj.get(1)"
      ],
      "metadata": {
        "colab": {
          "base_uri": "https://localhost:8080/"
        },
        "id": "JQc1Idogr2oM",
        "outputId": "f7b0f7bf-8a91-4b0f-d574-fa869cdc44b0"
      },
      "execution_count": null,
      "outputs": [
        {
          "output_type": "stream",
          "name": "stdout",
          "text": [
            "1  -> \n",
            "1  -> 3  -> \n",
            "1  -> 2  -> 3  -> \n",
            "1  -> 3  -> \n"
          ]
        },
        {
          "output_type": "execute_result",
          "data": {
            "text/plain": [
              "3"
            ]
          },
          "metadata": {},
          "execution_count": 37
        }
      ]
    },
    {
      "cell_type": "markdown",
      "source": [
        "**1472. Design Browser History**"
      ],
      "metadata": {
        "id": "1-C2D1BP6Sgp"
      }
    },
    {
      "cell_type": "code",
      "source": [
        "# Linked List Implementation\n",
        "class ListNode:\n",
        "    def __init__(self, val, prev=None, next=None):\n",
        "        self.val = val\n",
        "        self.prev = prev\n",
        "        self.next = next\n",
        "\n",
        "class BrowserHistory:\n",
        "    def __init__(self, homepage: str):\n",
        "        self.cur = ListNode(homepage)\n",
        "\n",
        "    # O(1)\n",
        "    def visit(self, url: str) -> None:\n",
        "        self.cur.next = ListNode(url, self.cur)\n",
        "        self.cur = self.cur.next\n",
        "\n",
        "    # O(n)\n",
        "    def back(self, steps: int) -> str:\n",
        "        while self.cur.prev and steps > 0:\n",
        "            self.cur = self.cur.prev\n",
        "            steps -= 1\n",
        "        return self.cur.val\n",
        "\n",
        "    # O(n)\n",
        "    def forward(self, steps: int) -> str:\n",
        "        while self.cur.next and steps > 0:\n",
        "            self.cur = self.cur.next\n",
        "            steps -= 1\n",
        "        return self.cur.val\n",
        "\n",
        "\n",
        "# Array Implementation\n",
        "class BrowserHistory:\n",
        "    def __init__(self, homepage: str):\n",
        "        self.i = 0\n",
        "        self.len = 1\n",
        "        self.history = [homepage]\n",
        "\n",
        "    # O(1)\n",
        "    def visit(self, url: str) -> None:\n",
        "        if len(self.history) < self.i + 2:\n",
        "            self.history.append(url)\n",
        "        else:\n",
        "            self.history[self.i + 1] = url\n",
        "        self.i += 1\n",
        "        self.len = self.i + 1\n",
        "\n",
        "    # O(1)\n",
        "    def back(self, steps: int) -> str:\n",
        "        self.i = max(self.i - steps, 0)\n",
        "        return self.history[self.i]\n",
        "\n",
        "    # O(1)\n",
        "    def forward(self, steps: int) -> str:\n",
        "        self.i = min(self.i + steps, self.len - 1)\n",
        "        return self.history[self.i]\n"
      ],
      "metadata": {
        "id": "KYk-lJUn6RnZ"
      },
      "execution_count": 48,
      "outputs": []
    },
    {
      "cell_type": "code",
      "source": [
        "browserHistory = BrowserHistory(\"leetcode.com\")\n",
        "browserHistory.visit(\"google.com\");\n",
        "browserHistory.visit(\"facebook.com\");\n",
        "browserHistory.visit(\"youtube.com\");\n",
        "print(\"__\")\n",
        "browserHistory.back(1)\n",
        "browserHistory.back(1)\n",
        "browserHistory.forward(1)\n",
        "browserHistory.visit(\"linkedin.com\")\n",
        "browserHistory.forward(2)\n",
        "# browserHistory.back(2)\n",
        "# browserHistory.back(7)"
      ],
      "metadata": {
        "id": "Dx8UK-5z6RaK",
        "colab": {
          "base_uri": "https://localhost:8080/",
          "height": 54
        },
        "outputId": "a6ac17ea-8e25-42ef-ec97-3f232ab33162"
      },
      "execution_count": 49,
      "outputs": [
        {
          "output_type": "stream",
          "name": "stdout",
          "text": [
            "__\n"
          ]
        },
        {
          "output_type": "execute_result",
          "data": {
            "text/plain": [
              "'linkedin.com'"
            ],
            "application/vnd.google.colaboratory.intrinsic+json": {
              "type": "string"
            }
          },
          "metadata": {},
          "execution_count": 49
        }
      ]
    },
    {
      "cell_type": "markdown",
      "source": [
        "## Queue"
      ],
      "metadata": {
        "id": "9-dMDLPVMNsr"
      }
    },
    {
      "cell_type": "code",
      "source": [
        "class ListNode:\n",
        "    def __init__(self, val):\n",
        "        self.val = val\n",
        "        self.next = None\n",
        "\n",
        "class Queue:\n",
        "    def __init__(self):\n",
        "        self.left = self.right = None\n",
        "\n",
        "    def isEmpty(self) -> bool:\n",
        "        return True if not self.right else False\n",
        "\n",
        "    def enqueue(self, val):\n",
        "        newNode = ListNode(val)\n",
        "\n",
        "        if self.right:\n",
        "            self.right.next = newNode\n",
        "            self.right = self.right.next\n",
        "        else:\n",
        "            self.left = self.right = newNode\n",
        "\n",
        "    def dequeue(self):\n",
        "        if not self.left:\n",
        "            return None\n",
        "\n",
        "        val = self.left.val\n",
        "        self.left = self.left.next\n",
        "        if not self.left:\n",
        "            self.right = None\n",
        "        return val\n",
        "\n",
        "    def print(self):\n",
        "        cur = self.left\n",
        "        while cur:\n",
        "            print(cur.val, ' -> ', end =\"\")\n",
        "            cur = cur.next\n",
        "        print() # new line\n"
      ],
      "metadata": {
        "id": "qmV4kNPhb8Gu"
      },
      "execution_count": 56,
      "outputs": []
    },
    {
      "cell_type": "markdown",
      "source": [
        "**Design Double-ended Queue**\n",
        "\n",
        "Your Deque class should support the following operations:\n",
        "\n",
        "* Deque() will initialize an empty queue.\n",
        "* bool isEmpty() will return whether the queue is empty or not.\n",
        "*void append(int value) will insert value at the end of the queue.\n",
        "*void appendleft(int val) will insert value at the beginning of the queue.\n",
        "*int pop() will remove and return the value at the end of the queue. If the queue is empty, return -1.\n",
        "*int popleft() will remove and return the value at the beginning of the queue. If the queue is empty, return -1.\n",
        "\n",
        "Note: You should implement each operation in O(1) time complexity."
      ],
      "metadata": {
        "id": "Em1lrgFMMaxZ"
      }
    },
    {
      "cell_type": "code",
      "source": [
        "# Input:\n",
        "# [\"isEmpty\", \"append\", 10, \"isEmpty\", \"appendLeft\", 20, \"popLeft\", \"pop\", \"pop\", \"append\", 30, \"pop\", \"isEmpty\"]\n",
        "\n",
        "# Output:\n",
        "# [true, null, false, null, 20, 10, -1, null, 30, true]"
      ],
      "metadata": {
        "id": "Ktm7_h1dNSpw"
      },
      "execution_count": 57,
      "outputs": []
    },
    {
      "cell_type": "code",
      "source": [
        "class ListNode:\n",
        "    def __init__(self, val, prev=None, next=None):\n",
        "        self.val = val\n",
        "        self.prev = prev\n",
        "        self.next = next\n",
        "\n",
        "class Deque:\n",
        "\n",
        "    def __init__(self):\n",
        "        self.left = self.right = None\n",
        "\n",
        "    def isEmpty(self) -> bool:\n",
        "        return True if not self.right else False\n",
        "\n",
        "    def append(self, value: int) -> None:\n",
        "        newNode = ListNode(value, self.right)\n",
        "\n",
        "        if self.right:\n",
        "            self.right.next = newNode\n",
        "            self.right = self.right.next\n",
        "        else:\n",
        "            self.left = self.right = newNode\n",
        "\n",
        "    def appendleft(self, value: int) -> None:\n",
        "        newNode = ListNode(value, None, self.left)\n",
        "\n",
        "        if self.right:\n",
        "            self.left.prev = newNode\n",
        "            self.left = self.left.prev\n",
        "        else:\n",
        "            self.left = self.right = newNode\n",
        "\n",
        "    def pop(self) -> int:\n",
        "        if not self.right:\n",
        "            return -1\n",
        "\n",
        "        val = self.right.val\n",
        "        self.right = self.right.prev\n",
        "        if self.right:\n",
        "            self.right.next = None\n",
        "        else:\n",
        "            self.left = None\n",
        "        return val\n",
        "\n",
        "    def popleft(self) -> int:\n",
        "        if not self.left:\n",
        "            return -1\n",
        "\n",
        "        val = self.left.val\n",
        "        self.left = self.left.next\n",
        "        if self.left:\n",
        "            self.left.prev = None\n",
        "        else:\n",
        "            self.right = None\n",
        "        return val\n",
        "\n",
        "    def print(self):\n",
        "        cur = self.left\n",
        "        while cur:\n",
        "            print(cur.val, ' -> ', end =\"\")\n",
        "            cur = cur.next\n",
        "        print() # new line"
      ],
      "metadata": {
        "id": "w42U2Cri6GYV"
      },
      "execution_count": 58,
      "outputs": []
    },
    {
      "cell_type": "code",
      "source": [
        "l = Deque()\n",
        "l.isEmpty()\n",
        "l.append(1)\n",
        "l.append(2)\n",
        "l.appendleft(3)\n",
        "l.appendleft(4)\n",
        "l.print()\n",
        "l.isEmpty()\n",
        "l.pop()\n",
        "l.print()\n",
        "l.popleft()\n",
        "l.print()"
      ],
      "metadata": {
        "colab": {
          "base_uri": "https://localhost:8080/"
        },
        "id": "gpymvgWjbLP9",
        "outputId": "28faf0d5-5a0b-4ffa-cd9f-20091d2fd14b"
      },
      "execution_count": 59,
      "outputs": [
        {
          "output_type": "stream",
          "name": "stdout",
          "text": [
            "4  -> 3  -> 1  -> 2  -> \n",
            "4  -> 3  -> 1  -> \n",
            "3  -> 1  -> \n"
          ]
        }
      ]
    },
    {
      "cell_type": "markdown",
      "source": [
        "### Leetcode"
      ],
      "metadata": {
        "id": "c3umjEr8dyB-"
      }
    },
    {
      "cell_type": "markdown",
      "source": [
        "**1700. Number of Students Unable to Eat Lunch**\n",
        "\n",
        "The school cafeteria offers circular and square sandwiches at lunch break, referred to by numbers 0 and 1 respectively. All students stand in a queue. Each student either prefers square or circular sandwiches.\n",
        "\n",
        "\n",
        "\n",
        "The number of sandwiches in the cafeteria is equal to the number of students. The sandwiches are placed in a stack. At each step:\n",
        "\n",
        "\n",
        "If the student at the front of the queue prefers the sandwich on the top of the stack, they will take it and leave the queue. Otherwise, they will leave it and go to the queue's end. This continues until none of the queue students want to take the top sandwich and are thus unable to eat.\n",
        "\n",
        "\n",
        "You are given two integer arrays students and sandwiches where sandwiches[i] is the type of the i​​​​​​th sandwich in the stack (i = 0 is the top of the stack) and students[j] is the preference of the j​​​​​​th student in the initial queue (j = 0 is the front of the queue). Return the number of students that are unable to eat."
      ],
      "metadata": {
        "id": "KXcLyx1qspzw"
      }
    },
    {
      "cell_type": "code",
      "source": [
        "class Solution:\n",
        "    def countStudents(self, students: List[int], sandwiches: List[int]) -> int:\n",
        "        preference_counts = [0, 0]\n",
        "        for student in students:\n",
        "            preference_counts[student] += 1\n",
        "\n",
        "        remaining = len(sandwiches)\n",
        "        for sandwich in sandwiches:\n",
        "            if (preference_counts[sandwich] == 0) or (remaining == 0):\n",
        "                break\n",
        "            preference_counts[sandwich] -= 1\n",
        "            remaining -= 1\n",
        "\n",
        "        return remaining"
      ],
      "metadata": {
        "id": "7Styr8I0bRJl"
      },
      "execution_count": 64,
      "outputs": []
    },
    {
      "cell_type": "markdown",
      "source": [
        "**225. Implement Stack using Queues**"
      ],
      "metadata": {
        "id": "W6xMbi-oss68"
      }
    },
    {
      "cell_type": "code",
      "source": [
        "class MyStack:\n",
        "    def __init__(self):\n",
        "        self.q = deque()\n",
        "\n",
        "    def push(self, x: int) -> None:\n",
        "        self.q.append(x)\n",
        "\n",
        "    def pop(self) -> int:\n",
        "        for i in range(len(self.q) - 1):\n",
        "            self.push(self.q.popleft())\n",
        "        return self.q.popleft()\n",
        "\n",
        "    def top(self) -> int:\n",
        "        for i in range(len(self.q) - 1):\n",
        "            self.push(self.q.popleft())\n",
        "        res = self.q[0]\n",
        "        self.push(self.q.popleft())\n",
        "        return res\n",
        "\n",
        "    def empty(self) -> bool:\n",
        "        return len(self.q) == 0\n"
      ],
      "metadata": {
        "id": "AHtTiSwglU-B"
      },
      "execution_count": null,
      "outputs": []
    }
  ]
}