{
  "nbformat": 4,
  "nbformat_minor": 0,
  "metadata": {
    "colab": {
      "provenance": []
    },
    "kernelspec": {
      "name": "python3",
      "display_name": "Python 3"
    },
    "language_info": {
      "name": "python"
    }
  },
  "cells": [
    {
      "cell_type": "markdown",
      "source": [
        "## BackTracking"
      ],
      "metadata": {
        "id": "0Ly7gFRb7AmD"
      }
    },
    {
      "cell_type": "markdown",
      "source": [
        "Q: Determine if a path exists from the root of the tree to a leaf node. It may not contain any zeroes."
      ],
      "metadata": {
        "id": "2u2wQ0NY6aU-"
      }
    },
    {
      "cell_type": "code",
      "execution_count": null,
      "metadata": {
        "id": "FXvIHo_a4bXT"
      },
      "outputs": [],
      "source": [
        "class TreeNode:\n",
        "    def __init__(self, val):\n",
        "        self.val = val\n",
        "        self.left = None\n",
        "        self.right = None\n",
        "\n",
        "def canReachLeaf(root):\n",
        "    if not root or root.val == 0:\n",
        "        return False\n",
        "\n",
        "    if not root.left and not root.right:\n",
        "        return True\n",
        "    if canReachLeaf(root.left):\n",
        "        return True\n",
        "    if canReachLeaf(root.right):\n",
        "        return True\n",
        "    return False\n",
        "\n",
        "def leafPath(root, path):\n",
        "    if not root or root.val == 0:\n",
        "        return False\n",
        "    path.append(root.val)\n",
        "\n",
        "    if not root.left and not root.right:\n",
        "        return True\n",
        "    if leafPath(root.left, path):\n",
        "        return True\n",
        "    if leafPath(root.right, path):\n",
        "        return True\n",
        "    path.pop()\n",
        "    return False\n"
      ]
    },
    {
      "cell_type": "markdown",
      "source": [
        "### Leetcode"
      ],
      "metadata": {
        "id": "WyyXUbQq6gE3"
      }
    },
    {
      "cell_type": "markdown",
      "source": [
        "**112. Path Sum**\n",
        "\n",
        "Given the root of a binary tree and an integer targetSum, return true if the tree has a root-to-leaf path such that adding up all the values along the path equals targetSum.\n",
        "\n",
        "A leaf is a node with no children.\n",
        "\n",
        "\n",
        "```\n",
        "Input: root = [5,4,8,11,null,13,4,7,2,null,null,null,1], targetSum = 22\n",
        "Output: true\n",
        "Explanation: The root-to-leaf path with the target sum is shown.\n",
        "```\n",
        "\n"
      ],
      "metadata": {
        "id": "T4l2dh1D6kT5"
      }
    },
    {
      "cell_type": "code",
      "source": [
        "from typing import Optional, List\n",
        "# Definition for a binary tree node.\n",
        "class TreeNode:\n",
        "    def __init__(self, val=0, left=None, right=None):\n",
        "        self.val = val\n",
        "        self.left = left\n",
        "        self.right = right\n",
        "class Solution:\n",
        "    def hasPathSum(self, root: Optional[TreeNode], targetSum: int) -> bool:\n",
        "        def dfs(node, curSum):\n",
        "            if not node:\n",
        "                return False\n",
        "            curSum += node.val\n",
        "\n",
        "            if not node.left and not node.right:\n",
        "                return curSum == targetSum\n",
        "\n",
        "            return (dfs(node.left, curSum)) or (dfs(node.right, curSum))\n",
        "\n",
        "        return dfs(root, 0)\n",
        "class Solution2:\n",
        "    def hasPathSum(self, root, sum):\n",
        "        if not root:\n",
        "            return False\n",
        "        de = [\n",
        "            (root, sum - root.val),\n",
        "        ]\n",
        "        while de:\n",
        "            node, curr_sum = de.pop()\n",
        "            if not node.left and not node.right and curr_sum == 0:\n",
        "                return True\n",
        "            if node.right:\n",
        "                de.append((node.right, curr_sum - node.right.val))\n",
        "            if node.left:\n",
        "                de.append((node.left, curr_sum - node.left.val))\n",
        "        return False\n"
      ],
      "metadata": {
        "id": "BPEHwqb86hW7"
      },
      "execution_count": 24,
      "outputs": []
    },
    {
      "cell_type": "code",
      "source": [
        "root = TreeNode(11,TreeNode(7), TreeNode(2))\n",
        "root = TreeNode(4, root)\n",
        "root = TreeNode(5, root, TreeNode(8))\n",
        "root.right.right = TreeNode(4, None, TreeNode(1))\n",
        "root.right.left = TreeNode(13)"
      ],
      "metadata": {
        "id": "3lFkDbaFnnbw"
      },
      "execution_count": 25,
      "outputs": []
    },
    {
      "cell_type": "code",
      "source": [
        "Solution().hasPathSum(root, 22)"
      ],
      "metadata": {
        "colab": {
          "base_uri": "https://localhost:8080/"
        },
        "id": "RNoIH0pIpHVN",
        "outputId": "6c9f0afc-5c17-44f3-f042-0ef10766610d"
      },
      "execution_count": 26,
      "outputs": [
        {
          "output_type": "execute_result",
          "data": {
            "text/plain": [
              "True"
            ]
          },
          "metadata": {},
          "execution_count": 26
        }
      ]
    },
    {
      "cell_type": "code",
      "source": [
        "Solution2().hasPathSum(root, 23)"
      ],
      "metadata": {
        "colab": {
          "base_uri": "https://localhost:8080/"
        },
        "id": "68QbLih_zqq1",
        "outputId": "643ac101-2333-4ba0-fa6a-c95826eca3d8"
      },
      "execution_count": 28,
      "outputs": [
        {
          "output_type": "execute_result",
          "data": {
            "text/plain": [
              "False"
            ]
          },
          "metadata": {},
          "execution_count": 28
        }
      ]
    },
    {
      "cell_type": "markdown",
      "source": [
        "**78. Subsets**\n",
        "\n",
        "*Medium*\n",
        "\n",
        "Given an integer array nums of unique elements, return all possible\n",
        "subsets (the power set).\n",
        "\n",
        "The solution set must not contain duplicate subsets. Return the solution in any order.\n",
        "\n",
        "\n",
        "```\n",
        "Example 1:\n",
        "Input: nums = [1,2,3]\n",
        "Output: [[],[1],[2],[1,2],[3],[1,3],[2,3],[1,2,3]]\n",
        "\n",
        "Example 2:\n",
        "Input: nums = [0]\n",
        "Output: [[],[0]]\n",
        "```\n",
        "\n"
      ],
      "metadata": {
        "id": "yRmYsOcziCHm"
      }
    },
    {
      "cell_type": "code",
      "source": [
        "class Solution:\n",
        "    def subsets(self, nums: List[int]) -> List[List[int]]:\n",
        "        res = []\n",
        "\n",
        "        subset = []\n",
        "\n",
        "        def dfs(i):\n",
        "            if i >= len(nums):\n",
        "                res.append(subset.copy())\n",
        "                return\n",
        "            # decision to include nums[i]\n",
        "            subset.append(nums[i])\n",
        "            dfs(i + 1)\n",
        "            # decision NOT to include nums[i]\n",
        "            subset.pop()\n",
        "            dfs(i + 1)\n",
        "\n",
        "        dfs(0)\n",
        "        return res"
      ],
      "metadata": {
        "id": "rhLY7NpfpR0x"
      },
      "execution_count": 8,
      "outputs": []
    },
    {
      "cell_type": "code",
      "source": [
        "Solution().subsets(nums = [1,2,3])"
      ],
      "metadata": {
        "colab": {
          "base_uri": "https://localhost:8080/"
        },
        "id": "5Pwjy9objoRu",
        "outputId": "17a07cf2-d163-4dec-af70-5b932ddcd185"
      },
      "execution_count": 9,
      "outputs": [
        {
          "output_type": "execute_result",
          "data": {
            "text/plain": [
              "[[1, 2, 3], [1, 2], [1, 3], [1], [2, 3], [2], [3], []]"
            ]
          },
          "metadata": {},
          "execution_count": 9
        }
      ]
    },
    {
      "cell_type": "markdown",
      "source": [
        "**39. Combination Sum**\n",
        "\n",
        "*Medium*\n",
        "\n",
        "Given an array of distinct integers candidates and a target integer target, return a list of all unique combinations of candidates where the chosen numbers sum to target. You may return the combinations in any order.\n",
        "\n",
        "The same number may be chosen from candidates an unlimited number of times. Two combinations are unique if the frequency of at least one of the chosen numbers is different.\n",
        "\n",
        "The test cases are generated such that the number of unique combinations that sum up to target is less than 150 combinations for the given input.\n",
        "\n",
        "\n",
        "```\n",
        "Example 1:\n",
        "Input: candidates = [2,3,6,7], target = 7\n",
        "Output: [[2,2,3],[7]]\n",
        "Explanation:\n",
        "2 and 3 are candidates, and 2 + 2 + 3 = 7. Note that 2 can be used multiple times.\n",
        "7 is a candidate, and 7 = 7.\n",
        "These are the only two combinations.\n",
        "\n",
        "Example 2:\n",
        "Input: candidates = [2,3,5], target = 8\n",
        "Output: [[2,2,2,2],[2,3,3],[3,5]]\n",
        "\n",
        "Example 3:\n",
        "Input: candidates = [2], target = 1\n",
        "Output: []\n",
        "```\n",
        "\n",
        "\n",
        ""
      ],
      "metadata": {
        "id": "vQuN7wQypnsB"
      }
    },
    {
      "cell_type": "code",
      "source": [
        "class Solution:\n",
        "    def combinationSum(self, candidates: List[int], target: int) -> List[List[int]]:\n",
        "        res = []\n",
        "\n",
        "        def dfs(i, cur, total):\n",
        "            if total == target:\n",
        "                res.append(cur.copy())\n",
        "                return\n",
        "            if i >= len(candidates) or total > target:\n",
        "                return\n",
        "\n",
        "            cur.append(candidates[i])\n",
        "            dfs(i, cur, total + candidates[i])\n",
        "            cur.pop()\n",
        "            dfs(i + 1, cur, total)\n",
        "\n",
        "        dfs(0, [], 0)\n",
        "        return res"
      ],
      "metadata": {
        "id": "IVVbPpwljsJC"
      },
      "execution_count": 10,
      "outputs": []
    },
    {
      "cell_type": "code",
      "source": [
        "Solution().combinationSum(candidates = [2,3,5], target = 8)"
      ],
      "metadata": {
        "colab": {
          "base_uri": "https://localhost:8080/"
        },
        "id": "0qXqhovkt_KX",
        "outputId": "2eaf8f37-fc2d-4b96-dae9-a9fa6ec054be"
      },
      "execution_count": 11,
      "outputs": [
        {
          "output_type": "execute_result",
          "data": {
            "text/plain": [
              "[[2, 2, 2, 2], [2, 3, 3], [3, 5]]"
            ]
          },
          "metadata": {},
          "execution_count": 11
        }
      ]
    }
  ]
}