{
  "nbformat": 4,
  "nbformat_minor": 0,
  "metadata": {
    "colab": {
      "provenance": []
    },
    "kernelspec": {
      "name": "python3",
      "display_name": "Python 3"
    },
    "language_info": {
      "name": "python"
    }
  },
  "cells": [
    {
      "cell_type": "markdown",
      "source": [
        "##BFS"
      ],
      "metadata": {
        "id": "McQGYXjHdU2_"
      }
    },
    {
      "cell_type": "code",
      "execution_count": 1,
      "metadata": {
        "id": "rgvIapdv-UuM"
      },
      "outputs": [],
      "source": [
        "from collections import deque\n",
        "\n",
        "class TreeNode:\n",
        "    def __init__(self, val):\n",
        "        self.val = val\n",
        "        self.left = None\n",
        "        self.right = None\n",
        "\n",
        "def bfs(root):\n",
        "    queue = deque()\n",
        "\n",
        "    if root:\n",
        "        queue.append(root)\n",
        "\n",
        "    level = 0\n",
        "    while len(queue) > 0:\n",
        "        print(\"level: \", level)\n",
        "        for i in range(len(queue)):\n",
        "            curr = queue.popleft()\n",
        "            print(curr.val)\n",
        "            if curr.left:\n",
        "                queue.append(curr.left)\n",
        "            if curr.right:\n",
        "                queue.append(curr.right)\n",
        "        level += 1"
      ]
    },
    {
      "cell_type": "markdown",
      "source": [
        "###Leetcode"
      ],
      "metadata": {
        "id": "XTP2hZWRdq0a"
      }
    },
    {
      "cell_type": "markdown",
      "source": [
        "**102. Binary Tree Level Order Traversal**\n",
        "\n",
        "*Medium*\n",
        "\n",
        "Given the root of a binary tree, return the level order traversal of its nodes' values. (i.e., from left to right, level by level).\n",
        "\n",
        "\n",
        "```\n",
        "Input: root = [3,9,20,null,null,15,7]\n",
        "Output: [[3],[9,20],[15,7]]\n",
        "```\n",
        "\n"
      ],
      "metadata": {
        "id": "WC0JoIXydxIA"
      }
    },
    {
      "cell_type": "code",
      "source": [
        "from typing import Optional, List\n",
        "# Definition for a binary tree node.\n",
        "class TreeNode:\n",
        "    def __init__(self, val=0, left=None, right=None):\n",
        "        self.val = val\n",
        "        self.left = left\n",
        "        self.right = right\n",
        "class Solution:\n",
        "    def levelOrder(self, root: Optional[TreeNode]) -> List[List[int]]:\n",
        "        queue = deque()\n",
        "        if root:\n",
        "            queue.append(root)\n",
        "        res = []\n",
        "        while len(queue) > 0:\n",
        "            li = []\n",
        "            for i in range(len(queue)):\n",
        "                curr = queue.popleft()\n",
        "                li.append(curr.val)\n",
        "                if curr.left:\n",
        "                    queue.append(curr.left)\n",
        "                if curr.right:\n",
        "                    queue.append(curr.right)\n",
        "            res.append(li)\n",
        "        return res"
      ],
      "metadata": {
        "id": "VC2ondUVdliI"
      },
      "execution_count": 15,
      "outputs": []
    },
    {
      "cell_type": "code",
      "source": [
        "root = TreeNode(9, TreeNode(15), TreeNode(17))\n",
        "root = TreeNode(3, root, TreeNode(20))"
      ],
      "metadata": {
        "id": "44Q0g--ceS6_"
      },
      "execution_count": 12,
      "outputs": []
    },
    {
      "cell_type": "code",
      "source": [
        "Solution().levelOrder(root)"
      ],
      "metadata": {
        "colab": {
          "base_uri": "https://localhost:8080/"
        },
        "id": "ABqapabFgUFY",
        "outputId": "6644db9f-fcdc-4ada-8655-fa00d19cc6b5"
      },
      "execution_count": 16,
      "outputs": [
        {
          "output_type": "execute_result",
          "data": {
            "text/plain": [
              "[[3], [9, 20], [15, 17]]"
            ]
          },
          "metadata": {},
          "execution_count": 16
        }
      ]
    },
    {
      "cell_type": "markdown",
      "source": [
        "**199. Binary Tree Right Side View**\n",
        "\n",
        "*Medium*\n",
        "\n",
        "Given the root of a binary tree, imagine yourself standing on the right side of it, return the values of the nodes you can see ordered from top to bottom.\n",
        "\n",
        "\n",
        "\n",
        "```\n",
        "Input: root = [1,2,3,null,5,null,4]\n",
        "Output: [1,3,4]\n",
        "```\n",
        "\n"
      ],
      "metadata": {
        "id": "J_ZhDraJho8Y"
      }
    },
    {
      "cell_type": "code",
      "source": [
        "# Definition for a binary tree node.\n",
        "class TreeNode:\n",
        "    def __init__(self, val=0, left=None, right=None):\n",
        "        self.val = val\n",
        "        self.left = left\n",
        "        self.right = right\n",
        "\n",
        "class Solution:\n",
        "    def rightSideView(self, root: TreeNode) -> List[int]:\n",
        "        res = []\n",
        "        q = deque([root])\n",
        "\n",
        "        while q:\n",
        "            rightSide = None\n",
        "            qLen = len(q)\n",
        "\n",
        "            for i in range(qLen):\n",
        "                node = q.popleft()\n",
        "                if node:\n",
        "                    rightSide = node\n",
        "                    q.append(node.left)\n",
        "                    q.append(node.right)\n",
        "            if rightSide:\n",
        "                res.append(rightSide.val)\n",
        "        return res"
      ],
      "metadata": {
        "id": "h8dryTSkgVph"
      },
      "execution_count": 52,
      "outputs": []
    },
    {
      "cell_type": "code",
      "source": [
        "root = TreeNode(1, TreeNode(2), TreeNode(3))\n",
        "root.left.right = TreeNode(5)\n",
        "root.right.right = TreeNode(4)\n",
        "# root.left.right.left = TreeNode(9)"
      ],
      "metadata": {
        "id": "5NPofbd8iMKp"
      },
      "execution_count": 57,
      "outputs": []
    },
    {
      "cell_type": "code",
      "source": [
        "Solution().rightSideView(root)"
      ],
      "metadata": {
        "colab": {
          "base_uri": "https://localhost:8080/"
        },
        "id": "vjfijmbEinOa",
        "outputId": "581486a3-3b93-42a3-94d9-6edbc6e25195"
      },
      "execution_count": 58,
      "outputs": [
        {
          "output_type": "execute_result",
          "data": {
            "text/plain": [
              "[1, 3, 4]"
            ]
          },
          "metadata": {},
          "execution_count": 58
        }
      ]
    },
    {
      "cell_type": "markdown",
      "source": [
        "## Sets and Maps"
      ],
      "metadata": {
        "id": "TxA7XaK-vWbv"
      }
    },
    {
      "cell_type": "markdown",
      "source": [
        "**Design Binary Search Tree**\n",
        "\n",
        "You will design a Tree Map, which maps an integer key to an integer value. Your Tree class should support the following operations:\n",
        "\n",
        "1. TreeMap() will initialize an binary search tree map.\n",
        "2. void insert(int key, int val) will map the key to the value and insert it into the tree.\n",
        "3. int get(int key) will return the value mapped with the key. If the key is not present in the tree, return -1.\n",
        "4. int getMin() will return the value mapped to the smallest key in the tree. If the tree is empty, return -1.\n",
        "5. int getMax() will return the value mapped to the largest key in the tree. If the tree is empty, return -1.\n",
        "6. void remove(int key) will remove the key-value pair with the given key from the tree.\n",
        "7. int[] getInorderKeys() will return an array of the keys in the tree in ascending order.\n",
        "\n",
        "*Note:*\n",
        "\n",
        "1. The tree should be ordered by the keys.\n",
        "2. The tree should not contain duplicate keys. If the key is already present in the tree, the original key-value pair should be overridden with the new key-value pair.\n",
        "\n",
        "Example 1:\n",
        "\n",
        "```\n",
        "Input:\n",
        "[\"insert\", 1, 2, \"get\", 1, \"insert\", 4, 0, \"getMin\", \"getMax\"]\n",
        "\n",
        "Output:\n",
        "[null, 2, null, 2, 0]\n",
        "\n",
        "```\n",
        "Example 2:\n",
        "\n",
        "```\n",
        "Input:\n",
        "[\"insert\", 1, 2, \"insert\", 4, 2, \"insert\", 3, 7, \"insert\", 2, 1, \"getInorderKeys\", \"remove\", 1, \"getInorderKeys\"]\n",
        "\n",
        "Output:\n",
        "[null, null, null, null, [1, 2, 3, 4], null, [2, 3, 4]]\n",
        "\n",
        "```"
      ],
      "metadata": {
        "id": "-0_mE5VkwxJD"
      }
    },
    {
      "cell_type": "code",
      "source": [
        "# Binary Search Tree Node\n",
        "class TreeNode:\n",
        "    def __init__(self, key: int, val: int):\n",
        "        self.key = key\n",
        "        self.val = val\n",
        "        self.left = None\n",
        "        self.right = None\n",
        "\n",
        "# Implementation for Binary Search Tree Map\n",
        "class TreeMap:\n",
        "    def __init__(self):\n",
        "        self.root = None\n",
        "\n",
        "    def insert(self, key: int, val: int) -> None:\n",
        "        newNode = TreeNode(key, val)\n",
        "        if self.root == None:\n",
        "            self.root = newNode\n",
        "            return\n",
        "\n",
        "        current = self.root\n",
        "        while True:\n",
        "            if key < current.key:\n",
        "                if current.left == None:\n",
        "                    current.left = newNode\n",
        "                    return\n",
        "                current = current.left\n",
        "            elif key > current.key:\n",
        "                if current.right == None:\n",
        "                    current.right = newNode\n",
        "                    return\n",
        "                current = current.right\n",
        "            else:\n",
        "                current.val = val\n",
        "                return\n",
        "\n",
        "    def get(self, key: int) -> int:\n",
        "        current = self.root\n",
        "        while current != None:\n",
        "            if key < current.key:\n",
        "                current = current.left\n",
        "            elif key > current.key:\n",
        "                current = current.right\n",
        "            else:\n",
        "                return current.val\n",
        "        return -1\n",
        "\n",
        "    def getMin(self) -> int:\n",
        "        current = self.findMin(self.root)\n",
        "        return current.val if current else -1\n",
        "\n",
        "    # Returns the node with the minimum key in the subtree\n",
        "    def findMin(self, node: TreeNode) -> TreeNode:\n",
        "        while node and node.left:\n",
        "            node = node.left\n",
        "        return node\n",
        "\n",
        "    def getMax(self) -> int:\n",
        "        current = self.root\n",
        "        while current and current.right:\n",
        "            current = current.right\n",
        "        return current.val if current else -1\n",
        "\n",
        "    def remove(self, key: int) -> None:\n",
        "        self.root = self.removeHelper(self.root, key)\n",
        "\n",
        "    # Returns the new root of the subtree after removing the key\n",
        "    def removeHelper(self, curr: TreeNode, key: int) -> TreeNode:\n",
        "        if curr == None:\n",
        "            return None\n",
        "\n",
        "        if key > curr.key:\n",
        "            curr.right = self.removeHelper(curr.right, key)\n",
        "        elif key < curr.key:\n",
        "            curr.left = self.removeHelper(curr.left, key)\n",
        "        else:\n",
        "            if curr.left == None:\n",
        "                # Replace curr with right child\n",
        "                return curr.right\n",
        "            elif curr.right == None:\n",
        "                # Replace curr with left child\n",
        "                return curr.left\n",
        "            else:\n",
        "                # Swap curr with inorder successor\n",
        "                minNode = self.findMin(curr.right)\n",
        "                curr.key = minNode.key\n",
        "                curr.val = minNode.val\n",
        "                curr.right = self.removeHelper(curr.right, minNode.key)\n",
        "        return curr\n",
        "\n",
        "    def getInorderKeys(self) -> List[int]:\n",
        "        result = []\n",
        "        self.inorderTraversal(self.root, result)\n",
        "        return result\n",
        "\n",
        "    def inorderTraversal(self, root: TreeNode, result: List[int]) -> None:\n",
        "        if root != None:\n",
        "            self.inorderTraversal(root.left, result)\n",
        "            result.append(root.key)\n",
        "            self.inorderTraversal(root.right, result)"
      ],
      "metadata": {
        "id": "kmKrINcyiomZ"
      },
      "execution_count": 59,
      "outputs": []
    },
    {
      "cell_type": "code",
      "source": [
        "S = TreeMap()\n",
        "S.insert(1,2)\n",
        "S.insert(4,2)\n",
        "S.insert(3,7)\n",
        "S.insert(2,1)\n",
        "print(S.getInorderKeys())\n",
        "S.remove(1)\n",
        "print(S.getInorderKeys())\n",
        "print(S.getMax())\n",
        "print(S.getMin())\n",
        "print(S.get(3))"
      ],
      "metadata": {
        "colab": {
          "base_uri": "https://localhost:8080/"
        },
        "id": "gZHrxhKH3UcT",
        "outputId": "7dc2b58f-955a-4824-f265-f5d2891887bd"
      },
      "execution_count": 63,
      "outputs": [
        {
          "output_type": "stream",
          "name": "stdout",
          "text": [
            "[1, 2, 3, 4]\n",
            "[2, 3, 4]\n",
            "2\n",
            "1\n",
            "7\n"
          ]
        }
      ]
    }
  ]
}