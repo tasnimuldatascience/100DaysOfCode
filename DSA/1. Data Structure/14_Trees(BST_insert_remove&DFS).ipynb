{
  "nbformat": 4,
  "nbformat_minor": 0,
  "metadata": {
    "colab": {
      "provenance": []
    },
    "kernelspec": {
      "name": "python3",
      "display_name": "Python 3"
    },
    "language_info": {
      "name": "python"
    }
  },
  "cells": [
    {
      "cell_type": "markdown",
      "source": [
        "##Binary Tree"
      ],
      "metadata": {
        "id": "dh3b1aDxC6FP"
      }
    },
    {
      "cell_type": "code",
      "execution_count": null,
      "metadata": {
        "id": "qS4DL2bv3rKe"
      },
      "outputs": [],
      "source": [
        "class TreeNode:\n",
        "    def __init__(self, val):\n",
        "        self.val = val\n",
        "        self.left = None\n",
        "        self.right = None"
      ]
    },
    {
      "cell_type": "markdown",
      "source": [
        "## Binary Search Tree"
      ],
      "metadata": {
        "id": "Dr-zhiqdBTmV"
      }
    },
    {
      "cell_type": "code",
      "source": [
        "class TreeNode:\n",
        "    def __init__(self, val):\n",
        "        self.val = val\n",
        "        self.left = None\n",
        "        self.right = None\n",
        "\n",
        "def search(root, target):\n",
        "    if not root:\n",
        "        return False\n",
        "\n",
        "    if target > root.val:\n",
        "        return search(root.right, target)\n",
        "    elif target < root.val:\n",
        "        return search(root.left, target)\n",
        "    else:\n",
        "        return True"
      ],
      "metadata": {
        "id": "xA520BEW_V7V"
      },
      "execution_count": null,
      "outputs": []
    },
    {
      "cell_type": "markdown",
      "source": [
        "###Leetcode"
      ],
      "metadata": {
        "id": "UN2-33t5BWsY"
      }
    },
    {
      "cell_type": "markdown",
      "source": [
        "**700. Search in a Binary Search Tree**\n",
        "\n",
        "*Easy*\n",
        "\n",
        "You are given the root of a binary search tree (BST) and an integer val.\n",
        "\n",
        "Find the node in the BST that the node's value equals val and return the subtree rooted with that node. If such a node does not exist, return null.\n",
        "\n",
        "\n",
        "\n",
        "```\n",
        "# Input: root = [4,2,7,1,3], val = 2\n",
        "# Output: [2,1,3]\n",
        "```"
      ],
      "metadata": {
        "id": "__lWUYAwBnY0"
      }
    },
    {
      "cell_type": "code",
      "source": [
        "# Definition for a binary tree node.\n",
        "class TreeNode:\n",
        "    def __init__(self, val=0, left=None, right=None):\n",
        "        self.val = val\n",
        "        self.left = left\n",
        "        self.right = right\n",
        "\n",
        "class Solution:\n",
        "    def searchBST(self, root: Optional[TreeNode], val: int) -> Optional[TreeNode]:\n",
        "        if not root:\n",
        "            return\n",
        "\n",
        "        if val > root.val:\n",
        "            return searchBST(root.right, val)\n",
        "        elif val < root.val:\n",
        "            return searchBST(root.left, val)\n",
        "        else:\n",
        "            return root"
      ],
      "metadata": {
        "id": "gu1_wbluBYdn"
      },
      "execution_count": null,
      "outputs": []
    },
    {
      "cell_type": "markdown",
      "source": [
        "## BST Insert and Remove"
      ],
      "metadata": {
        "id": "HXU_eUToDc29"
      }
    },
    {
      "cell_type": "code",
      "source": [
        "class TreeNode:\n",
        "    def __init__(self, val):\n",
        "        self.val = val\n",
        "        self.left = None\n",
        "        self.right = None\n",
        "\n",
        "# Insert a new node and return the root of the BST.\n",
        "def insert(root, val):\n",
        "    if not root:\n",
        "        return TreeNode(val)\n",
        "\n",
        "    if val > root.val:\n",
        "        root.right = insert(root.right, val)\n",
        "    elif val < root.val:\n",
        "        root.left = insert(root.left, val)\n",
        "    return root\n",
        "\n",
        "# Return the minimum value node of the BST.\n",
        "def minValueNode(root):\n",
        "    curr = root\n",
        "    while curr and curr.left:\n",
        "        curr = curr.left\n",
        "    return curr\n",
        "\n",
        "# Remove a node and return the root of the BST.\n",
        "def remove(root, val):\n",
        "    if not root:\n",
        "        return None\n",
        "\n",
        "    if val > root.val:\n",
        "        root.right = remove(root.right, val)\n",
        "    elif val < root.val:\n",
        "        root.left = remove(root.left, val)\n",
        "    else:\n",
        "        if not root.left:\n",
        "            return root.right\n",
        "        elif not root.right:\n",
        "            return root.left\n",
        "        else:\n",
        "            minNode = minValueNode(root.right)\n",
        "            root.val = minNode.val\n",
        "            root.right = remove(root.right, minNode.val)\n",
        "    return root\n",
        "\n"
      ],
      "metadata": {
        "id": "YfN_2D-HDfhG"
      },
      "execution_count": null,
      "outputs": []
    },
    {
      "cell_type": "markdown",
      "source": [
        "### Leetcode"
      ],
      "metadata": {
        "id": "nziUxWjHJ1yB"
      }
    },
    {
      "cell_type": "markdown",
      "source": [
        "**701. Insert into a Binary Search Tree**\n",
        "\n",
        "*Medium*\n",
        "\n",
        "You are given the root node of a binary search tree (BST) and a value to insert into the tree. Return the root node of the BST after the insertion. It is guaranteed that the new value does not exist in the original BST.\n",
        "\n",
        "Notice that there may exist multiple valid ways for the insertion, as long as the tree remains a BST after insertion. You can return any of them."
      ],
      "metadata": {
        "id": "Kvm4wB-0J4DS"
      }
    },
    {
      "cell_type": "code",
      "source": [
        "from typing import Optional, List\n",
        "# Definition for a binary tree node.\n",
        "class TreeNode:\n",
        "    def __init__(self, val=0, left=None, right=None):\n",
        "        self.val = val\n",
        "        self.left = left\n",
        "        self.right = right\n",
        "\n",
        "class Solution:\n",
        "    def insertIntoBST(self, root: Optional[TreeNode], val: int) -> Optional[TreeNode]:\n",
        "        if not root:\n",
        "            return TreeNode(val)\n",
        "\n",
        "        if val > root.val:\n",
        "            root.right = self.insertIntoBST(root.right, val)\n",
        "        elif val < root.val:\n",
        "            root.left = self.insertIntoBST(root.left, val)\n",
        "\n",
        "        return root"
      ],
      "metadata": {
        "id": "jkrj5alIJ3a_"
      },
      "execution_count": null,
      "outputs": []
    },
    {
      "cell_type": "code",
      "source": [
        "r = [4,2,7,1,3]\n",
        "root = TreeNode(r[0])\n",
        "for i in range(1, len(r)):\n",
        "    Solution().insertIntoBST(root, r[i])\n",
        "\n",
        "Solution().insertIntoBST(root, 5)"
      ],
      "metadata": {
        "colab": {
          "base_uri": "https://localhost:8080/"
        },
        "id": "sSR-yV1BLC57",
        "outputId": "576b327a-c6f9-48e8-80d8-5acffa191c1d"
      },
      "execution_count": null,
      "outputs": [
        {
          "output_type": "execute_result",
          "data": {
            "text/plain": [
              "<__main__.TreeNode at 0x7bc7c9903a30>"
            ]
          },
          "metadata": {},
          "execution_count": 19
        }
      ]
    },
    {
      "cell_type": "code",
      "source": [
        "root.right.left.val"
      ],
      "metadata": {
        "colab": {
          "base_uri": "https://localhost:8080/"
        },
        "id": "1Es060VLMDmM",
        "outputId": "c6b15dfb-cf30-4fd4-ce75-0da8ba175f1c"
      },
      "execution_count": null,
      "outputs": [
        {
          "output_type": "execute_result",
          "data": {
            "text/plain": [
              "5"
            ]
          },
          "metadata": {},
          "execution_count": 20
        }
      ]
    },
    {
      "cell_type": "markdown",
      "source": [
        "**450. Delete Node in a BST**\n",
        "\n",
        "*Medium*\n",
        "\n",
        "Given a root node reference of a BST and a key, delete the node with the given key in the BST. Return the root node reference (possibly updated) of the BST.\n",
        "\n",
        "Basically, the deletion can be divided into two stages:\n",
        "\n",
        "\n",
        "1.   Search for a node to remove.\n",
        "2.   If the node is found, delete the node."
      ],
      "metadata": {
        "id": "vungPCKvQ1b0"
      }
    },
    {
      "cell_type": "code",
      "source": [
        "# Definition for a binary tree node.\n",
        "class TreeNode:\n",
        "    def __init__(self, val=0, left=None, right=None):\n",
        "        self.val = val\n",
        "        self.left = left\n",
        "        self.right = right\n",
        "\n",
        "class Solution:\n",
        "    def deleteNode(self, root: Optional[TreeNode], key: int) -> Optional[TreeNode]:\n",
        "        if not root:\n",
        "            return None\n",
        "\n",
        "        if key > root.val:\n",
        "            root.right = self.deleteNode(root.right, key)\n",
        "        elif key < root.val:\n",
        "            root.left = self.deleteNode(root.left, key)\n",
        "        else:\n",
        "            if not root.left:\n",
        "                return root.right\n",
        "            elif not root.right:\n",
        "                return root.left\n",
        "            curr = root.right\n",
        "            while curr and curr.left:\n",
        "                curr = curr.left\n",
        "            root.val = curr.val\n",
        "            root.right = self.deleteNode(root.right, root.val)\n",
        "        return root"
      ],
      "metadata": {
        "id": "LVTUafmINArX"
      },
      "execution_count": null,
      "outputs": []
    },
    {
      "cell_type": "markdown",
      "source": [
        "## Depth First Search (DFS)"
      ],
      "metadata": {
        "id": "bL7gxDSLTXdq"
      }
    },
    {
      "cell_type": "code",
      "source": [
        "class TreeNode:\n",
        "    def __init__(self, val):\n",
        "        self.val = val\n",
        "        self.left = None\n",
        "        self.right = None\n",
        "\n",
        "def inorder(root):\n",
        "    if not root:\n",
        "        return\n",
        "    inorder(root.left)\n",
        "    print(root.val)\n",
        "    inorder(root.right)\n",
        "\n",
        "def preorder(root):\n",
        "    if not root:\n",
        "        return\n",
        "    print(root.val)\n",
        "    preorder(root.left)\n",
        "    preorder(root.right)\n",
        "\n",
        "def postorder(root):\n",
        "    if not root:\n",
        "        return\n",
        "    postorder(root.left)\n",
        "    postorder(root.right)\n",
        "    print(root.val)"
      ],
      "metadata": {
        "id": "TLU71F04TZ-I"
      },
      "execution_count": null,
      "outputs": []
    },
    {
      "cell_type": "markdown",
      "source": [
        "###Leetcode"
      ],
      "metadata": {
        "id": "hYO4SFkdW4ca"
      }
    },
    {
      "cell_type": "markdown",
      "source": [
        "**94. Binary Tree Inorder Traversal**\n",
        "\n",
        "*Easy*\n",
        "\n",
        "Given the root of a binary tree, return the inorder traversal of its nodes' values."
      ],
      "metadata": {
        "id": "Nqvl8EwHXHux"
      }
    },
    {
      "cell_type": "code",
      "source": [
        "# Definition for a binary tree node.\n",
        "# class TreeNode:\n",
        "#     def __init__(self, val=0, left=None, right=None):\n",
        "#         self.val = val\n",
        "#         self.left = left\n",
        "#         self.right = right\n",
        "class Solution:\n",
        "    def inorderTraversal(self, root: Optional[TreeNode]) -> List[int]:\n",
        "        # Iterative\n",
        "        res, stack = [], []\n",
        "        cur = root\n",
        "\n",
        "        while cur or stack:\n",
        "            while cur:\n",
        "                stack.append(cur)\n",
        "                cur = cur.left\n",
        "            cur = stack.pop()\n",
        "            res.append(cur.val)\n",
        "            cur = cur.right\n",
        "        return res\n",
        "\n",
        "        # Recursive\n",
        "        res = []\n",
        "\n",
        "        def helper(root):\n",
        "            if not root:\n",
        "                return\n",
        "            helper(root.left)\n",
        "            res.append(root.val)\n",
        "            helper(root.right)\n",
        "\n",
        "        helper(root)\n",
        "        return res"
      ],
      "metadata": {
        "id": "pexSk4ApW5xl"
      },
      "execution_count": null,
      "outputs": []
    },
    {
      "cell_type": "markdown",
      "source": [
        "**230. Kth Smallest Element in a BST**\n",
        "\n",
        "*Medium*\n",
        "\n",
        "Given the root of a binary search tree, and an integer k, return the kth smallest value (1-indexed) of all the values of the nodes in the tree."
      ],
      "metadata": {
        "id": "Pxt3jofXazaI"
      }
    },
    {
      "cell_type": "code",
      "source": [
        "# Definition for a binary tree node.\n",
        "# class TreeNode:\n",
        "#     def __init__(self, val=0, left=None, right=None):\n",
        "#         self.val = val\n",
        "#         self.left = left\n",
        "#         self.right = right\n",
        "class Solution:\n",
        "    def kthSmallest(self, root: Optional[TreeNode], k: int) -> int:\n",
        "        stack = []\n",
        "        curr = root\n",
        "\n",
        "        while curr or stack:\n",
        "            while curr:\n",
        "                stack.append(curr)\n",
        "                curr = curr.left\n",
        "            curr = stack.pop()\n",
        "            k -= 1\n",
        "            if k == 0:\n",
        "                return curr.val\n",
        "            curr = curr.right"
      ],
      "metadata": {
        "id": "pH9mfUsca5Uk"
      },
      "execution_count": null,
      "outputs": []
    },
    {
      "cell_type": "markdown",
      "source": [
        "**105. Construct Binary Tree from Preorder and Inorder Traversal**\n",
        "\n",
        "*Medium*\n",
        "\n",
        "Given two integer arrays preorder and inorder where preorder is the preorder traversal of a binary tree and inorder is the inorder traversal of the same tree, construct and return the binary tree.\n",
        "\n",
        "\n",
        "```\n",
        "# Input: preorder = [3,9,20,15,7], inorder = [9,3,15,20,7]\n",
        "# Output: [3,9,20,null,null,15,7]\n",
        "```\n",
        "\n"
      ],
      "metadata": {
        "id": "-jj_Ce-sfsKr"
      }
    },
    {
      "cell_type": "code",
      "source": [
        "class TreeNode:\n",
        "    def __init__(self, val=0, left=None, right=None):\n",
        "        self.val = val\n",
        "        self.left = left\n",
        "        self.right = right\n",
        "class Solution:\n",
        "    def buildTree(self, preorder: List[int], inorder: List[int]) -> Optional[TreeNode]:\n",
        "        if not preorder or not inorder:\n",
        "            return None\n",
        "\n",
        "        root = TreeNode(preorder[0])\n",
        "        mid = inorder.index(preorder[0])\n",
        "        root.left = self.buildTree(preorder[1 : mid + 1], inorder[:mid])\n",
        "        root.right = self.buildTree(preorder[mid + 1 :], inorder[mid + 1 :])\n",
        "        return root"
      ],
      "metadata": {
        "id": "LhbyXRGTfpsP"
      },
      "execution_count": null,
      "outputs": []
    },
    {
      "cell_type": "code",
      "source": [
        "curr = Solution().buildTree(preorder = [3,9,20,15,7], inorder = [9,3,15,20,7])\n",
        "\n",
        "inorder(curr)"
      ],
      "metadata": {
        "colab": {
          "base_uri": "https://localhost:8080/"
        },
        "id": "rexGhiK_jT5C",
        "outputId": "73adc070-0968-4fa8-d249-bf6b2c0e38e9"
      },
      "execution_count": null,
      "outputs": [
        {
          "output_type": "stream",
          "name": "stdout",
          "text": [
            "9\n",
            "3\n",
            "15\n",
            "20\n",
            "7\n"
          ]
        }
      ]
    },
    {
      "cell_type": "code",
      "source": [
        "preorder(curr)"
      ],
      "metadata": {
        "colab": {
          "base_uri": "https://localhost:8080/"
        },
        "id": "YlceIoJLjscJ",
        "outputId": "b07b6ebc-e70e-4040-a2a7-cd4b1bef16eb"
      },
      "execution_count": null,
      "outputs": [
        {
          "output_type": "stream",
          "name": "stdout",
          "text": [
            "3\n",
            "9\n",
            "20\n",
            "15\n",
            "7\n"
          ]
        }
      ]
    }
  ]
}
