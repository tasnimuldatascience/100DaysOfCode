{
  "nbformat": 4,
  "nbformat_minor": 0,
  "metadata": {
    "colab": {
      "provenance": [],
      "toc_visible": true
    },
    "kernelspec": {
      "name": "python3",
      "display_name": "Python 3"
    },
    "language_info": {
      "name": "python"
    }
  },
  "cells": [
    {
      "cell_type": "markdown",
      "source": [
        "# Doubly LinkedList"
      ],
      "metadata": {
        "id": "y0xdzRfweGBT"
      }
    },
    {
      "cell_type": "code",
      "execution_count": 7,
      "metadata": {
        "id": "e28A8W05bECB"
      },
      "outputs": [],
      "source": [
        "class Node:\n",
        "    def __init__(self, data):\n",
        "        self.data = data\n",
        "        self.next = None\n",
        "        self.prev = None\n",
        "\n",
        "\n",
        "class DoublyLinkedList:\n",
        "    def __init__(self):\n",
        "        self.head = None\n",
        "\n",
        "    def append(self, data):\n",
        "        if self.head is None:\n",
        "            new_node = Node(data)\n",
        "            new_node.prev = None\n",
        "            self.head = new_node\n",
        "        else:\n",
        "            new_node = Node(data)\n",
        "            cur = self.head\n",
        "            while cur.next:\n",
        "                cur = cur.next\n",
        "            cur.next = new_node\n",
        "            new_node.prev = cur\n",
        "            new_node.next = None\n",
        "\n",
        "    def prepend(self, data):\n",
        "        if self.head is None:\n",
        "            new_node = Node(data)\n",
        "            new_node.prev = None\n",
        "            self.head = new_node\n",
        "        else:\n",
        "            new_node = Node(data)\n",
        "            self.head.prev = new_node\n",
        "            new_node.next = self.head\n",
        "            self.head = new_node\n",
        "            new_node.prev = None\n",
        "\n",
        "    def print_list(self):\n",
        "        cur = self.head\n",
        "        while cur:\n",
        "            print(cur.data)\n",
        "            cur = cur.next\n",
        "\n",
        "    def add_after_node(self, key, data):\n",
        "        cur = self.head\n",
        "        while cur:\n",
        "            if cur.next is None and cur.data == key:\n",
        "                self.append(data)\n",
        "                return\n",
        "            elif cur.data == key:\n",
        "                new_node = Node(data)\n",
        "                nxt = cur.next\n",
        "                cur.next = new_node\n",
        "                new_node.next = nxt\n",
        "                new_node.prev = cur\n",
        "                nxt.prev = new_node\n",
        "            cur = cur.next\n",
        "\n",
        "    def add_before_node(self, key, data):\n",
        "        cur = self.head\n",
        "        while cur:\n",
        "            if cur.prev is None and cur.data == key:\n",
        "                self.prepend(data)\n",
        "                return\n",
        "            elif cur.data == key:\n",
        "                new_node = Node(data)\n",
        "                prev = cur.prev\n",
        "                prev.next = new_node\n",
        "                cur.prev = new_node\n",
        "                new_node.next = cur\n",
        "                new_node.prev = prev\n",
        "            cur = cur.next\n",
        "\n",
        "    def delete(self, key):\n",
        "        cur = self.head\n",
        "        while cur:\n",
        "            if cur.data == key and cur == self.head:\n",
        "                # Case 1:\n",
        "                if not cur.next:\n",
        "                    cur = None\n",
        "                    self.head = None\n",
        "                    return\n",
        "\n",
        "                # Case 2:\n",
        "                else:\n",
        "                    nxt = cur.next\n",
        "                    cur.next = None\n",
        "                    nxt.prev = None\n",
        "                    cur = None\n",
        "                    self.head = nxt\n",
        "                    return\n",
        "\n",
        "            elif cur.data == key:\n",
        "                # Case 3:\n",
        "                if cur.next:\n",
        "                    nxt = cur.next\n",
        "                    prev = cur.prev\n",
        "                    prev.next = nxt\n",
        "                    nxt.prev = prev\n",
        "                    cur.next = None\n",
        "                    cur.prev = None\n",
        "                    cur = None\n",
        "                    return\n",
        "\n",
        "                # Case 4:\n",
        "                else:\n",
        "                    prev = cur.prev\n",
        "                    prev.next = None\n",
        "                    cur.prev = None\n",
        "                    cur = None\n",
        "                    return\n",
        "            cur = cur.next\n",
        "\n",
        "\n",
        "    def delete_node(self, node):\n",
        "        cur = self.head\n",
        "        while cur:\n",
        "            if cur == node and cur == self.head:\n",
        "                # Case 1:\n",
        "                if not cur.next:\n",
        "                    cur = None\n",
        "                    self.head = None\n",
        "                    return\n",
        "\n",
        "                # Case 2:\n",
        "                else:\n",
        "                    nxt = cur.next\n",
        "                    cur.next = None\n",
        "                    nxt.prev = None\n",
        "                    cur = None\n",
        "                    self.head = nxt\n",
        "                    return\n",
        "\n",
        "            elif cur == node:\n",
        "                # Case 3:\n",
        "                if cur.next:\n",
        "                    nxt = cur.next\n",
        "                    prev = cur.prev\n",
        "                    prev.next = nxt\n",
        "                    nxt.prev = prev\n",
        "                    cur.next = None\n",
        "                    cur.prev = None\n",
        "                    cur = None\n",
        "                    return\n",
        "\n",
        "                # Case 4:\n",
        "                else:\n",
        "                    prev = cur.prev\n",
        "                    prev.next = None\n",
        "                    cur.prev = None\n",
        "                    cur = None\n",
        "                    return\n",
        "            cur = cur.next\n",
        "\n",
        "    def reverse(self):\n",
        "        tmp = None\n",
        "        cur = self.head\n",
        "        while cur:\n",
        "            tmp = cur.prev\n",
        "            cur.prev = cur.next\n",
        "            cur.next = tmp\n",
        "            cur = cur.prev\n",
        "        if tmp:\n",
        "            self.head = tmp.prev\n",
        "\n",
        "    def remove_duplicates(self):\n",
        "        cur = self.head\n",
        "        seen = dict()\n",
        "        while cur:\n",
        "            if cur.data not in seen:\n",
        "                seen[cur.data] = 1\n",
        "                cur = cur.next\n",
        "            else:\n",
        "                nxt = cur.next\n",
        "                self.delete_node(cur)\n",
        "                cur = nxt\n",
        "\n",
        "    def pairs_with_sum(self, sum_val):\n",
        "        pairs = list()\n",
        "        p = self.head\n",
        "        q = None\n",
        "        while p:\n",
        "            q = p.next\n",
        "            while q:\n",
        "                if p.data + q.data == sum_val:\n",
        "                    pairs.append(\"(\" + str(p.data) + \",\" + str(q.data) + \")\")\n",
        "                q = q.next\n",
        "            p = p.next\n",
        "        return pairs"
      ]
    },
    {
      "cell_type": "markdown",
      "source": [
        "### Append_Prepend"
      ],
      "metadata": {
        "id": "-s84MPF5eUVE"
      }
    },
    {
      "cell_type": "code",
      "source": [
        "dllist = DoublyLinkedList()\n",
        "dllist.prepend(0)\n",
        "dllist.append(1)\n",
        "dllist.append(2)\n",
        "dllist.append(3)\n",
        "dllist.append(4)\n",
        "dllist.prepend(5)\n",
        "\n",
        "dllist.print_list()"
      ],
      "metadata": {
        "colab": {
          "base_uri": "https://localhost:8080/"
        },
        "id": "SfsfUguFbK8j",
        "outputId": "a1d384b9-83c2-417d-dedc-6c9aa7ad689b"
      },
      "execution_count": 12,
      "outputs": [
        {
          "output_type": "stream",
          "name": "stdout",
          "text": [
            "5\n",
            "0\n",
            "1\n",
            "2\n",
            "3\n",
            "4\n"
          ]
        }
      ]
    },
    {
      "cell_type": "markdown",
      "source": [
        "##"
      ],
      "metadata": {
        "id": "TfKfZ8uUeY1a"
      }
    },
    {
      "cell_type": "markdown",
      "source": [
        "## insert before and after"
      ],
      "metadata": {
        "id": "LUQe4vtSerca"
      }
    },
    {
      "cell_type": "code",
      "source": [
        "dllist.add_after_node(5,6)\n",
        "dllist.add_before_node(4,9)\n",
        "\n",
        "dllist.print_list()"
      ],
      "metadata": {
        "colab": {
          "base_uri": "https://localhost:8080/"
        },
        "id": "4bjQI8ORdo2N",
        "outputId": "22a5b943-2e7f-4e83-fbf2-10233d7a079b"
      },
      "execution_count": 13,
      "outputs": [
        {
          "output_type": "stream",
          "name": "stdout",
          "text": [
            "5\n",
            "6\n",
            "0\n",
            "1\n",
            "2\n",
            "3\n",
            "9\n",
            "4\n"
          ]
        }
      ]
    },
    {
      "cell_type": "markdown",
      "source": [
        "## delete"
      ],
      "metadata": {
        "id": "4Sv458vze6YW"
      }
    },
    {
      "cell_type": "code",
      "source": [
        "dllist.delete(3)\n",
        "dllist.print_list()"
      ],
      "metadata": {
        "colab": {
          "base_uri": "https://localhost:8080/"
        },
        "id": "Rk-8PP8DegQN",
        "outputId": "4b33d354-85ed-43d4-c409-3c7d3e1f29c3"
      },
      "execution_count": 14,
      "outputs": [
        {
          "output_type": "stream",
          "name": "stdout",
          "text": [
            "5\n",
            "6\n",
            "0\n",
            "1\n",
            "2\n",
            "9\n",
            "4\n"
          ]
        }
      ]
    },
    {
      "cell_type": "markdown",
      "source": [
        "## remove dublicates"
      ],
      "metadata": {
        "id": "gXB9pQN1fAkX"
      }
    },
    {
      "cell_type": "code",
      "source": [
        "dllist = DoublyLinkedList()\n",
        "dllist.append(9)\n",
        "dllist.append(4)\n",
        "dllist.append(4)\n",
        "dllist.append(6)\n",
        "dllist.append(4)\n",
        "dllist.append(9)\n",
        "dllist.append(4)\n",
        "dllist.append(10)\n",
        "dllist.append(12)\n",
        "dllist.append(12)\n",
        "\n",
        "\n",
        "dllist.remove_duplicates()\n",
        "dllist.print_list()"
      ],
      "metadata": {
        "colab": {
          "base_uri": "https://localhost:8080/"
        },
        "id": "iw3Xentue5l8",
        "outputId": "41dfd724-0a05-4837-bfe3-916d6bec6df6"
      },
      "execution_count": 15,
      "outputs": [
        {
          "output_type": "stream",
          "name": "stdout",
          "text": [
            "9\n",
            "4\n",
            "6\n",
            "10\n",
            "12\n"
          ]
        }
      ]
    },
    {
      "cell_type": "markdown",
      "source": [
        "## reverse"
      ],
      "metadata": {
        "id": "BlxU_8IUfMj9"
      }
    },
    {
      "cell_type": "code",
      "source": [
        "dllist = DoublyLinkedList()\n",
        "dllist.append(1)\n",
        "dllist.append(2)\n",
        "dllist.append(3)\n",
        "dllist.append(4)\n",
        "\n",
        "dllist.reverse()\n",
        "dllist.print_list()"
      ],
      "metadata": {
        "colab": {
          "base_uri": "https://localhost:8080/"
        },
        "id": "wYpyqNv1fHr0",
        "outputId": "b35bd744-3158-4756-f500-2c4e30a25e34"
      },
      "execution_count": 16,
      "outputs": [
        {
          "output_type": "stream",
          "name": "stdout",
          "text": [
            "4\n",
            "3\n",
            "2\n",
            "1\n"
          ]
        }
      ]
    },
    {
      "cell_type": "markdown",
      "source": [
        "## pairs with sum"
      ],
      "metadata": {
        "id": "Q9iK6QN8fcPo"
      }
    },
    {
      "cell_type": "code",
      "source": [
        "dllist = DoublyLinkedList()\n",
        "dllist.append(0)\n",
        "dllist.append(1)\n",
        "dllist.append(2)\n",
        "dllist.append(3)\n",
        "dllist.append(4)\n",
        "dllist.append(5)\n",
        "\n",
        "pairs = dllist.pairs_with_sum(5)\n",
        "pairs"
      ],
      "metadata": {
        "colab": {
          "base_uri": "https://localhost:8080/"
        },
        "id": "pnV-mUCPfN-p",
        "outputId": "536c90df-94c5-48b7-da5a-2144b35e1c39"
      },
      "execution_count": 18,
      "outputs": [
        {
          "output_type": "execute_result",
          "data": {
            "text/plain": [
              "['(0,5)', '(1,4)', '(2,3)']"
            ]
          },
          "metadata": {},
          "execution_count": 18
        }
      ]
    },
    {
      "cell_type": "markdown",
      "source": [
        "# Circular Linkedlist"
      ],
      "metadata": {
        "id": "hEECckY8guuH"
      }
    },
    {
      "cell_type": "code",
      "source": [
        "class Node:\n",
        "    def __init__(self, data):\n",
        "        self.data = data\n",
        "        self.next = None\n",
        "\n",
        "\n",
        "class LinkedList:\n",
        "    def __init__(self):\n",
        "        self.head = None\n",
        "\n",
        "    def print_list(self):\n",
        "        cur_node = self.head\n",
        "        while cur_node:\n",
        "            print(cur_node.data)\n",
        "            cur_node = cur_node.next\n",
        "\n",
        "    def append(self, data):\n",
        "        new_node = Node(data)\n",
        "\n",
        "        if self.head is None:\n",
        "            self.head = new_node\n",
        "            return\n",
        "\n",
        "        last_node = self.head\n",
        "        while last_node.next:\n",
        "            last_node = last_node.next\n",
        "        last_node.next = new_node\n",
        "\n",
        "\n",
        "class CircularLinkedList:\n",
        "    def __init__(self):\n",
        "        self.head = None\n",
        "\n",
        "    def prepend(self, data):\n",
        "        new_node = Node(data)\n",
        "        cur = self.head\n",
        "        new_node.next = self.head\n",
        "\n",
        "        if not self.head:\n",
        "            new_node.next = new_node\n",
        "        else:\n",
        "            while cur.next != self.head:\n",
        "                cur = cur.next\n",
        "            cur.next = new_node\n",
        "        self.head = new_node\n",
        "\n",
        "    def append(self, data):\n",
        "        if not self.head:\n",
        "            self.head = Node(data)\n",
        "            self.head.next = self.head\n",
        "        else:\n",
        "            new_node = Node(data)\n",
        "            cur = self.head\n",
        "            while cur.next != self.head:\n",
        "                cur = cur.next\n",
        "            cur.next = new_node\n",
        "            new_node.next = self.head\n",
        "\n",
        "    def print_list(self):\n",
        "        cur = self.head\n",
        "\n",
        "        while cur:\n",
        "            print(cur.data)\n",
        "            cur = cur.next\n",
        "            if cur == self.head:\n",
        "                break\n",
        "\n",
        "    def __len__(self):\n",
        "        cur = self.head\n",
        "        count = 0\n",
        "        while cur:\n",
        "            count += 1\n",
        "            cur = cur.next\n",
        "            if cur == self.head:\n",
        "                break\n",
        "        return count\n",
        "\n",
        "    def split_list(self):\n",
        "        size = len(self)\n",
        "\n",
        "        if size == 0:\n",
        "            return None\n",
        "        if size == 1:\n",
        "            return self.head\n",
        "\n",
        "        mid = size//2\n",
        "        count = 0\n",
        "\n",
        "        prev = None\n",
        "        cur = self.head\n",
        "\n",
        "        while cur and count < mid:\n",
        "            count += 1\n",
        "            prev = cur\n",
        "            cur = cur.next\n",
        "        prev.next = self.head\n",
        "\n",
        "        split_cllist = CircularLinkedList()\n",
        "        while cur.next != self.head:\n",
        "            split_cllist.append(cur.data)\n",
        "            cur = cur.next\n",
        "        split_cllist.append(cur.data)\n",
        "\n",
        "        self.print_list()\n",
        "        print(\"\\n\")\n",
        "        split_cllist.print_list()\n",
        "\n",
        "    def remove(self, key):\n",
        "        if self.head.data == key:\n",
        "            cur = self.head\n",
        "            while cur.next != self.head:\n",
        "                cur = cur.next\n",
        "            cur.next = self.head.next\n",
        "            self.head = self.head.next\n",
        "        else:\n",
        "            cur = self.head\n",
        "            prev = None\n",
        "            while cur.next != self.head:\n",
        "                prev = cur\n",
        "                cur = cur.next\n",
        "                if cur.data == key:\n",
        "                    prev.next = cur.next\n",
        "                    cur = cur.next\n",
        "\n",
        "\n",
        "    def remove_node(self, node):\n",
        "        if self.head == node:\n",
        "            cur = self.head\n",
        "            while cur.next != self.head:\n",
        "                cur = cur.next\n",
        "            cur.next = self.head.next\n",
        "            self.head = self.head.next\n",
        "        else:\n",
        "            cur = self.head\n",
        "            prev = None\n",
        "            while cur.next != self.head:\n",
        "                prev = cur\n",
        "                cur = cur.next\n",
        "                if cur == node:\n",
        "                    prev.next = cur.next\n",
        "                    cur = cur.next\n",
        "\n",
        "    def josephus_circle(self, step):\n",
        "        cur = self.head\n",
        "\n",
        "        while len(self) > 1:\n",
        "            count = 1\n",
        "            while count != step:\n",
        "                cur = cur.next\n",
        "                count += 1\n",
        "            print(\"REMOVED: \" + str(cur.data))\n",
        "            self.remove_node(cur)\n",
        "            cur = cur.next\n",
        "\n",
        "    def is_circular_linked_list(self, input_list):\n",
        "        cur = input_list.head\n",
        "        while cur.next:\n",
        "            cur = cur.next\n",
        "            if cur.next == input_list.head:\n",
        "                return True\n",
        "        return False\n",
        "        print(cur.data)"
      ],
      "metadata": {
        "id": "8sA1YHMZfib9"
      },
      "execution_count": 21,
      "outputs": []
    },
    {
      "cell_type": "markdown",
      "source": [
        "## Check circular"
      ],
      "metadata": {
        "id": "eqUqufGejii-"
      }
    },
    {
      "cell_type": "code",
      "source": [
        "cllist = CircularLinkedList()\n",
        "cllist.append(1)\n",
        "cllist.append(2)\n",
        "cllist.append(3)\n",
        "cllist.append(4)\n",
        "\n",
        "llist = LinkedList()\n",
        "llist.append(1)\n",
        "llist.append(2)\n",
        "llist.append(3)\n",
        "llist.append(4)\n",
        "\n",
        "print(cllist.is_circular_linked_list(cllist))\n",
        "print(cllist.is_circular_linked_list(llist))"
      ],
      "metadata": {
        "colab": {
          "base_uri": "https://localhost:8080/"
        },
        "id": "4vVr-he8jlFn",
        "outputId": "1ec72363-cca5-44f5-b126-ee148d9cce4d"
      },
      "execution_count": 33,
      "outputs": [
        {
          "output_type": "stream",
          "name": "stdout",
          "text": [
            "True\n",
            "False\n"
          ]
        }
      ]
    },
    {
      "cell_type": "markdown",
      "source": [
        "## insertion"
      ],
      "metadata": {
        "id": "2H9H240Gh0Wr"
      }
    },
    {
      "cell_type": "code",
      "source": [
        "cllist = CircularLinkedList()\n",
        "cllist.append(\"C\")\n",
        "cllist.append(\"D\")\n",
        "cllist.prepend(\"B\")\n",
        "cllist.prepend(\"A\")\n",
        "cllist.print_list()"
      ],
      "metadata": {
        "colab": {
          "base_uri": "https://localhost:8080/"
        },
        "id": "-oltiyNFgzBk",
        "outputId": "8226ab21-459d-42ac-ec81-14528940a112"
      },
      "execution_count": 22,
      "outputs": [
        {
          "output_type": "stream",
          "name": "stdout",
          "text": [
            "A\n",
            "B\n",
            "C\n",
            "D\n"
          ]
        }
      ]
    },
    {
      "cell_type": "markdown",
      "source": [
        "## split in half"
      ],
      "metadata": {
        "id": "PNcpaTDeieJS"
      }
    },
    {
      "cell_type": "code",
      "source": [
        "cllist = CircularLinkedList()\n",
        "cllist.append(\"A\")\n",
        "cllist.append(\"B\")\n",
        "cllist.append(\"C\")\n",
        "cllist.append(\"D\")\n",
        "cllist.append(\"E\")\n",
        "cllist.append(\"F\")\n",
        "\n",
        "cllist.split_list()"
      ],
      "metadata": {
        "colab": {
          "base_uri": "https://localhost:8080/"
        },
        "id": "qilmF7Iwh4Yi",
        "outputId": "88dfc3f5-bd35-4979-9532-6bf41ea81537"
      },
      "execution_count": 28,
      "outputs": [
        {
          "output_type": "stream",
          "name": "stdout",
          "text": [
            "A\n",
            "B\n",
            "C\n",
            "\n",
            "\n",
            "D\n",
            "E\n",
            "F\n"
          ]
        }
      ]
    },
    {
      "cell_type": "code",
      "source": [
        "cllist.print_list()"
      ],
      "metadata": {
        "colab": {
          "base_uri": "https://localhost:8080/"
        },
        "id": "qUImOfHqiwEt",
        "outputId": "c6496f41-c980-44bb-8926-49f7f87a487a"
      },
      "execution_count": 29,
      "outputs": [
        {
          "output_type": "stream",
          "name": "stdout",
          "text": [
            "A\n",
            "B\n",
            "C\n"
          ]
        }
      ]
    },
    {
      "cell_type": "markdown",
      "source": [
        "## remove"
      ],
      "metadata": {
        "id": "e8vJjcNVitB9"
      }
    },
    {
      "cell_type": "code",
      "source": [
        "cllist.remove(\"A\")\n",
        "cllist.remove(\"C\")\n",
        "cllist.print_list()"
      ],
      "metadata": {
        "colab": {
          "base_uri": "https://localhost:8080/"
        },
        "id": "__5Es3c9iaV4",
        "outputId": "8645b3a4-b69f-4312-d32e-75b0543f5314"
      },
      "execution_count": 30,
      "outputs": [
        {
          "output_type": "stream",
          "name": "stdout",
          "text": [
            "B\n"
          ]
        }
      ]
    },
    {
      "cell_type": "markdown",
      "source": [
        "## josephus circle"
      ],
      "metadata": {
        "id": "u_6OZfIWjP6X"
      }
    },
    {
      "cell_type": "code",
      "source": [
        "cllist = CircularLinkedList()\n",
        "cllist.append(1)\n",
        "cllist.append(2)\n",
        "cllist.append(3)\n",
        "cllist.append(4)\n",
        "\n",
        "\n",
        "cllist.josephus_circle(2)\n",
        "cllist.print_list()"
      ],
      "metadata": {
        "colab": {
          "base_uri": "https://localhost:8080/"
        },
        "id": "-UmDuXf3isSQ",
        "outputId": "b9a6f9be-5558-4155-a3e6-fd29a0361a2f"
      },
      "execution_count": 31,
      "outputs": [
        {
          "output_type": "stream",
          "name": "stdout",
          "text": [
            "REMOVED: 2\n",
            "REMOVED: 4\n",
            "REMOVED: 3\n",
            "1\n"
          ]
        }
      ]
    }
  ]
}